{
 "cells": [
  {
   "cell_type": "markdown",
   "metadata": {},
   "source": [
    "# Exploratory Data Analysis\n",
    "### 02/17/2020\n",
    "### Group 6: Lukas Hering, Tommy Luangrath, Ian Luck, Andrea Simenstad"
   ]
  },
  {
   "cell_type": "markdown",
   "metadata": {},
   "source": [
    "# Overview"
   ]
  },
  {
   "cell_type": "markdown",
   "metadata": {},
   "source": [
    "<img src=\"used-car.jpg\">"
   ]
  },
  {
   "cell_type": "markdown",
   "metadata": {},
   "source": [
    "In this project, we are presented with some data and a business problem. Our goal is to provide a solution to our business problem while using the spark framework.\n",
    "\n",
    "\n",
    "#### The Dataset\n",
    "\n",
    "The dataset that we are provided with is the \"Used Cars Database\" scraped from Ebay Kleinanzeigen in Germany. The dataset contains a collection of over 370,000 used cars with a list of fields. The fields for our dataset include dateCrawled, name of the care, sellect, model of the car, kilometers the car has driven etc.\n",
    "\n",
    "#### Business Problem\n",
    "\n",
    "\n",
    "Our business problem is to predict how much a used car should be valued at, given relavent information such as the name of the car, the type of seller, offer type, how many kilometers the car has driven, etc. \n",
    "\n",
    "#### Main Objective\n",
    "\n",
    "The main objective for this project, is to build an efficient and effective model that is able to predict the sale price of a used vehicle. With our model, we will able to provide eBay or other car dealerships an efficient algorithm to predict the price a used car should be sold at in order to maximize the profit and to minimize time spent evaluating the price of a vehicle.\n",
    "\n",
    "To achieve our main objective, we will be creating an ensemble model consisting multiple types of linnear regression models includeing Lasso regression, ridge regression and elastic net regression and tree based alagorithms. \n",
    "\n",
    "### Data Profiling\n",
    "\n",
    "#### Dataset Field Definitions\n",
    "We are working with a dataset about used cars, which is partially in German. The dataset is hosted on Kaggle at https://www.kaggle.com/orgesleka/used-cars-database.\n",
    "\n",
    "Where indicates by ‘\\*’, the table uses verbatim the dataset field descriptions from https://www.kaggle.com/orgesleka/used-cars-database.\n",
    "\n",
    "| key                | type          |  description   |\n",
    "| -------------      | ------------- | -------------  |\n",
    "| dateCrawled        | timestamp     | \\*when this ad was first crawled, all field-values are taken from this date |\n",
    "| name               | string        | \\*\"name\" of the car|\n",
    "| seller             | string        | \\*private or dealer |\n",
    "| offerType          | string        |                     |\n",
    "| price              | integer       | \\*the price on the ad to sell the car |\n",
    "| abtest             | string        |                     |\n",
    "| vehicleType        | string        |                     |\n",
    "| yearOfRegistration | integer       | \\*at which year the car was first registered |\n",
    "| gearbox            | string        |                     | \n",
    "| powerPS            | integer       | \\*power of the car in PS | \n",
    "| model               | string        |                           | \n",
    "| kilometers          | integer       | \\*how many kilometers the car has driven | \n",
    "| monthOfRegistration | integer       | \\*at which month the car was first registered |\n",
    "| fuelType            | string        |                  |\n",
    "| brand               | string        |                  |\n",
    "| notRepairedDamage   | string        | \\*if the car has a damage which is not repaired yet |\n",
    "| dateCreated         | timestamp     | \\*the date for which the ad at ebay was created |\n",
    "| nrOfPictures        | integer       | \\*number of pictures in the ad (unfortunately this field contains everywhere a 0 and is thus useless (bug in crawler!) ) |\n",
    "| postalCode          | integer       |                   |\n",
    "| lastSeenOnline      | timestamp     | \\*when the crawler saw this ad last online |\n",
    "\n",
    "\n",
    "\n",
    "\n",
    "#### Data Quality\n",
    "The nrOfPictures field can be dropped due to data quality issues (see notes from Kaggle website).\n",
    "- The field notRepairedDamage is likely to be dropped. Currently, the field contains the values null, ja, and nein. It is not clear if null represents that the user skipped the field or if there has never been any damage to the car.\n",
    "    - nein has 263390 entries\n",
    "    - null has 72123 entries\n",
    "    - ja has 36310 entries\n",
    "\n",
    "#### Distributions and Dependencies\n",
    "- There are outliers for the price field.\n",
    "\n",
    "#### Feature engineering\n",
    "- How balanced is our dataset?\n",
    "    - The price field definitely has outliers, including 0 and 2147483647.\n",
    "\n",
    "- Data Normalization\n",
    "    - Date fields can be normalized. For example, the difference between dateCreated and lastSeenOnline.\n",
    "    - The string values for the fields gearBox and fuelType can be transformed from strings to a corresponding binary.\n",
    "\n",
    "#### Feature Selection\n",
    "Currently selected features:\n",
    "- price\n",
    "- yearOfRegistration\n",
    "- Difference between dateCreated and lastSeenOnline\n",
    "- gearBox (as a standardized integer)\n",
    "- fuelType (as a standardized integer)\n",
    "- kilometers\n"
   ]
  },
  {
   "cell_type": "markdown",
   "metadata": {},
   "source": [
    "# Exploratory Data Analysis"
   ]
  },
  {
   "cell_type": "code",
   "execution_count": 1,
   "metadata": {},
   "outputs": [],
   "source": [
    "from pyspark.sql import SparkSession\n",
    "from pyspark.sql.functions import isnan, when, count, col\n",
    "\n",
    "spark = SparkSession.builder.master(\"local[*]\").appName(\"Learning_Spark\").getOrCreate()"
   ]
  },
  {
   "cell_type": "markdown",
   "metadata": {},
   "source": [
    "First, we're going to load our data in our csv file into a spark dataframe in order to used our data with Spark."
   ]
  },
  {
   "cell_type": "code",
   "execution_count": 2,
   "metadata": {},
   "outputs": [],
   "source": [
    "data = spark.read.csv('autos.csv',inferSchema=True, header=True)"
   ]
  },
  {
   "cell_type": "markdown",
   "metadata": {},
   "source": [
    "Now, we'll look at the shape of our dataframe to how many features and how much data we have."
   ]
  },
  {
   "cell_type": "code",
   "execution_count": 3,
   "metadata": {},
   "outputs": [
    {
     "name": "stdout",
     "output_type": "stream",
     "text": [
      "Number of entries: 371824\n",
      "Number of features: 20\n"
     ]
    }
   ],
   "source": [
    "print(\"Number of entries: \" + str(data.count()))\n",
    "print(\"Number of features: \" + str(len(data.columns)))"
   ]
  },
  {
   "cell_type": "markdown",
   "metadata": {},
   "source": [
    "Now we can print a few portions of our dataset to get an indication of what our data contains."
   ]
  },
  {
   "cell_type": "code",
   "execution_count": 4,
   "metadata": {},
   "outputs": [
    {
     "name": "stdout",
     "output_type": "stream",
     "text": [
      "+-------------------+--------------------+------+---------+-----+------+-----------+------------------+---------+-------+-----+---------+-------------------+--------+----------+-----------------+-------------------+------------+----------+-------------------+\n",
      "|        dateCrawled|                name|seller|offerType|price|abtest|vehicleType|yearOfRegistration|  gearbox|powerPS|model|kilometer|monthOfRegistration|fuelType|     brand|notRepairedDamage|        dateCreated|nrOfPictures|postalCode|           lastSeen|\n",
      "+-------------------+--------------------+------+---------+-----+------+-----------+------------------+---------+-------+-----+---------+-------------------+--------+----------+-----------------+-------------------+------------+----------+-------------------+\n",
      "|2016-03-24 11:52:17|          Golf_3_1.6|privat|  Angebot|  480|  test|       null|              1993|  manuell|      0| golf|   150000|                  0|  benzin|volkswagen|             null|2016-03-24 00:00:00|           0|     70435|2016-04-07 03:16:57|\n",
      "|2016-03-24 10:58:45|A5_Sportback_2.7_Tdi|privat|  Angebot|18300|  test|      coupe|              2011|  manuell|    190| null|   125000|                  5|  diesel|      audi|               ja|2016-03-24 00:00:00|           0|     66954|2016-04-07 01:46:50|\n",
      "|2016-03-14 12:52:21|Jeep_Grand_Cherok...|privat|  Angebot| 9800|  test|        suv|              2004|automatik|    163|grand|   125000|                  8|  diesel|      jeep|             null|2016-03-14 00:00:00|           0|     90480|2016-04-05 12:47:46|\n",
      "+-------------------+--------------------+------+---------+-----+------+-----------+------------------+---------+-------+-----+---------+-------------------+--------+----------+-----------------+-------------------+------------+----------+-------------------+\n",
      "only showing top 3 rows\n",
      "\n"
     ]
    }
   ],
   "source": [
    "data.show(3)"
   ]
  },
  {
   "cell_type": "markdown",
   "metadata": {},
   "source": [
    "## Data Profiling"
   ]
  },
  {
   "cell_type": "markdown",
   "metadata": {},
   "source": [
    "Now, we will perform some data profiling to get a better understanding of what types of fields our data contains and what quality of data we are dealing with."
   ]
  },
  {
   "cell_type": "code",
   "execution_count": 5,
   "metadata": {},
   "outputs": [
    {
     "name": "stdout",
     "output_type": "stream",
     "text": [
      "root\n",
      " |-- dateCrawled: timestamp (nullable = true)\n",
      " |-- name: string (nullable = true)\n",
      " |-- seller: string (nullable = true)\n",
      " |-- offerType: string (nullable = true)\n",
      " |-- price: integer (nullable = true)\n",
      " |-- abtest: string (nullable = true)\n",
      " |-- vehicleType: string (nullable = true)\n",
      " |-- yearOfRegistration: integer (nullable = true)\n",
      " |-- gearbox: string (nullable = true)\n",
      " |-- powerPS: integer (nullable = true)\n",
      " |-- model: string (nullable = true)\n",
      " |-- kilometer: integer (nullable = true)\n",
      " |-- monthOfRegistration: integer (nullable = true)\n",
      " |-- fuelType: string (nullable = true)\n",
      " |-- brand: string (nullable = true)\n",
      " |-- notRepairedDamage: string (nullable = true)\n",
      " |-- dateCreated: timestamp (nullable = true)\n",
      " |-- nrOfPictures: integer (nullable = true)\n",
      " |-- postalCode: integer (nullable = true)\n",
      " |-- lastSeen: timestamp (nullable = true)\n",
      "\n"
     ]
    }
   ],
   "source": [
    "data.printSchema()"
   ]
  },
  {
   "cell_type": "code",
   "execution_count": 6,
   "metadata": {},
   "outputs": [
    {
     "name": "stdout",
     "output_type": "stream",
     "text": [
      "+-----------------------------------------------------------------+-------------------+-------------------+-----+\n",
      "|name                                                             |dateCreated        |lastSeen           |price|\n",
      "+-----------------------------------------------------------------+-------------------+-------------------+-----+\n",
      "|Golf_3_1.6                                                       |2016-03-24 00:00:00|2016-04-07 03:16:57|480  |\n",
      "|A5_Sportback_2.7_Tdi                                             |2016-03-24 00:00:00|2016-04-07 01:46:50|18300|\n",
      "|Jeep_Grand_Cherokee_\"Overland\"                                   |2016-03-14 00:00:00|2016-04-05 12:47:46|9800 |\n",
      "|GOLF_4_1_4__3T�RER                                               |2016-03-17 00:00:00|2016-03-17 17:40:17|1500 |\n",
      "|Skoda_Fabia_1.4_TDI_PD_Classic                                   |2016-03-31 00:00:00|2016-04-06 10:17:21|3600 |\n",
      "|BMW_316i___e36_Limousine___Bastlerfahrzeug__Export               |2016-04-04 00:00:00|2016-04-06 19:17:07|650  |\n",
      "|Peugeot_206_CC_110_Platinum                                      |2016-04-01 00:00:00|2016-04-05 18:18:39|2200 |\n",
      "|VW_Derby_Bj_80__Scheunenfund                                     |2016-03-21 00:00:00|2016-03-25 16:47:58|0    |\n",
      "|Ford_C___Max_Titanium_1_0_L_EcoBoost                             |2016-04-04 00:00:00|2016-04-04 23:42:13|14500|\n",
      "|VW_Golf_4_5_tuerig_zu_verkaufen_mit_Anhaengerkupplung            |2016-03-17 00:00:00|2016-03-31 17:17:06|999  |\n",
      "|Mazda_3_1.6_Sport                                                |2016-03-26 00:00:00|2016-04-06 10:45:34|2000 |\n",
      "|Volkswagen_Passat_Variant_2.0_TDI_Comfortline                    |2016-04-07 00:00:00|2016-04-07 10:25:17|2799 |\n",
      "|VW_Passat_Facelift_35i__\"7Sitzer\"                                |2016-03-15 00:00:00|2016-04-01 13:16:16|999  |\n",
      "|VW_PASSAT_1.9_TDI_131_PS_LEDER                                   |2016-03-21 00:00:00|2016-03-23 02:50:54|2500 |\n",
      "|Nissan_Navara_2.5DPF_SE4x4_Klima_Sitzheizg_Bluetooth.Doppelkabine|2016-03-21 00:00:00|2016-04-06 07:45:42|17999|\n",
      "+-----------------------------------------------------------------+-------------------+-------------------+-----+\n",
      "only showing top 15 rows\n",
      "\n"
     ]
    }
   ],
   "source": [
    "data.select(\"name\",\"dateCreated\",\"lastSeen\",\"price\").show(15, truncate=False)"
   ]
  },
  {
   "cell_type": "code",
   "execution_count": 7,
   "metadata": {},
   "outputs": [
    {
     "name": "stdout",
     "output_type": "stream",
     "text": [
      "+-------+------------------+------------------+\n",
      "|summary|             price|         kilometer|\n",
      "+-------+------------------+------------------+\n",
      "|  count|            371823|            371823|\n",
      "|   mean|17286.338865535483|125618.56044408226|\n",
      "| stddev|3586530.1840678076| 40111.62016494461|\n",
      "|    min|                 0|              5000|\n",
      "|    max|        2147483647|            150000|\n",
      "+-------+------------------+------------------+\n",
      "\n"
     ]
    }
   ],
   "source": [
    "data.describe([\"price\",\"kilometer\"]).show()"
   ]
  },
  {
   "cell_type": "code",
   "execution_count": 8,
   "metadata": {},
   "outputs": [
    {
     "name": "stdout",
     "output_type": "stream",
     "text": [
      "+-------+---------+\n",
      "|summary|offerType|\n",
      "+-------+---------+\n",
      "|  count|   371823|\n",
      "|   mean|     null|\n",
      "| stddev|     null|\n",
      "|    min|  Angebot|\n",
      "|    max|   Gesuch|\n",
      "+-------+---------+\n",
      "\n"
     ]
    }
   ],
   "source": [
    "data.describe([\"offerType\"]).show()"
   ]
  },
  {
   "cell_type": "code",
   "execution_count": 9,
   "metadata": {},
   "outputs": [],
   "source": [
    "group_by_gearbox = data.groupby('gearbox')\n",
    "group_by_brand = data.groupby('brand')\n",
    "group_by_notRepairedDamage = data.groupby('notRepairedDamage')"
   ]
  },
  {
   "cell_type": "code",
   "execution_count": 10,
   "metadata": {},
   "outputs": [
    {
     "name": "stdout",
     "output_type": "stream",
     "text": [
      "+---------+------------------+\n",
      "|  gearbox|        avg(price)|\n",
      "+---------+------------------+\n",
      "|     null|43990.346585570886|\n",
      "|automatik|15145.544156332206|\n",
      "|  manuell|15920.486752589904|\n",
      "+---------+------------------+\n",
      "\n"
     ]
    }
   ],
   "source": [
    "group_by_gearbox.agg({'price': 'avg'}).show()"
   ]
  },
  {
   "cell_type": "code",
   "execution_count": 11,
   "metadata": {},
   "outputs": [
    {
     "name": "stdout",
     "output_type": "stream",
     "text": [
      "+-------------+------------------+\n",
      "|        brand|        avg(price)|\n",
      "+-------------+------------------+\n",
      "|       jaguar|14228.083735909822|\n",
      "|     daihatsu|1691.6815365551424|\n",
      "|   mitsubishi|3274.6647078028077|\n",
      "|         null|              null|\n",
      "|         lada|3037.4444444444443|\n",
      "|       toyota| 5235.104468085106|\n",
      "|         seat| 4356.156703672075|\n",
      "|         saab| 3808.686090225564|\n",
      "|   land_rover|16698.858625162127|\n",
      "|      peugeot| 3168.667391698387|\n",
      "|     chrysler| 3912.255158184319|\n",
      "|      citroen| 8875.202082529888|\n",
      "|         audi| 15863.35696264097|\n",
      "|mercedes_benz|17244.502687715725|\n",
      "|          bmw|14838.656460137465|\n",
      "|         jeep|11998.898514851486|\n",
      "|       lancia| 3165.754132231405|\n",
      "|        skoda| 6413.099698955198|\n",
      "|        rover| 1508.022448979592|\n",
      "|      hyundai| 5417.859139490271|\n",
      "+-------------+------------------+\n",
      "only showing top 20 rows\n",
      "\n"
     ]
    }
   ],
   "source": [
    "group_by_brand.agg({'price': 'avg'}).show()"
   ]
  },
  {
   "cell_type": "code",
   "execution_count": 12,
   "metadata": {},
   "outputs": [
    {
     "name": "stdout",
     "output_type": "stream",
     "text": [
      "+-------------+------------+\n",
      "|        brand|count(price)|\n",
      "+-------------+------------+\n",
      "|       jaguar|         621|\n",
      "|     daihatsu|         807|\n",
      "|   mitsubishi|        3063|\n",
      "|         null|           0|\n",
      "|         lada|         225|\n",
      "|       toyota|        4700|\n",
      "|         seat|        7026|\n",
      "|         saab|         532|\n",
      "|   land_rover|         771|\n",
      "|      peugeot|       11034|\n",
      "|     chrysler|        1454|\n",
      "|      citroen|        5186|\n",
      "|         audi|       32897|\n",
      "|mercedes_benz|       35346|\n",
      "|          bmw|       40301|\n",
      "|         jeep|         808|\n",
      "|       lancia|         484|\n",
      "|        skoda|        5647|\n",
      "|        rover|         490|\n",
      "|      hyundai|        3649|\n",
      "+-------------+------------+\n",
      "only showing top 20 rows\n",
      "\n"
     ]
    }
   ],
   "source": [
    "group_by_brand.agg({'price': 'count'}).show()"
   ]
  },
  {
   "cell_type": "code",
   "execution_count": 13,
   "metadata": {},
   "outputs": [
    {
     "name": "stdout",
     "output_type": "stream",
     "text": [
      "+-----------------+-----------------+\n",
      "|notRepairedDamage|       avg(price)|\n",
      "+-----------------+-----------------+\n",
      "|             nein|9128.952507688218|\n",
      "|             null| 22760.0665252416|\n",
      "|               ja|65586.87130267144|\n",
      "+-----------------+-----------------+\n",
      "\n"
     ]
    }
   ],
   "source": [
    "group_by_notRepairedDamage.agg({'price': 'avg'}).show()"
   ]
  },
  {
   "cell_type": "code",
   "execution_count": 47,
   "metadata": {},
   "outputs": [
    {
     "ename": "SyntaxError",
     "evalue": "invalid syntax (<ipython-input-47-a9c8e99767ab>, line 8)",
     "output_type": "error",
     "traceback": [
      "\u001b[0;36m  File \u001b[0;32m\"<ipython-input-47-a9c8e99767ab>\"\u001b[0;36m, line \u001b[0;32m8\u001b[0m\n\u001b[0;31m    df_null_count = spark.createDataFrame(null_count, ['field label', 'number_of_null_values','percent_null'])\u001b[0m\n\u001b[0m                ^\u001b[0m\n\u001b[0;31mSyntaxError\u001b[0m\u001b[0;31m:\u001b[0m invalid syntax\n"
     ]
    }
   ],
   "source": [
    "column_headers = data.columns\n",
    "null_count = list(\n",
    "    map(\n",
    "        lambda col: (\n",
    "            col,\n",
    "            data.filter(data[col].isNull()).count(),\n",
    "            (data.filter(data[col].isNull()).count()/data.count())*100)\n",
    "        ,\n",
    "        column_headers\n",
    "    )\n",
    ")\n",
    "df_null_count = spark.createDataFrame(null_count, ['field label', 'number_of_null_values','percent_null'])\n",
    "df_null_count.orderBy(\"number_of_null_values\").show()"
   ]
  },
  {
   "cell_type": "code",
   "execution_count": 14,
   "metadata": {},
   "outputs": [
    {
     "name": "stdout",
     "output_type": "stream",
     "text": [
      "dateCrawled number of null: \n",
      " 0\n",
      "name number of null: \n",
      " 0\n",
      "seller number of null: \n",
      " 1\n",
      "offerType number of null: \n",
      " 1\n",
      "price number of null: \n",
      " 1\n",
      "abtest number of null: \n",
      " 1\n",
      "vehicleType number of null: \n",
      " 37900\n",
      "yearOfRegistration number of null: \n",
      " 1\n",
      "gearbox number of null: \n",
      " 20224\n",
      "powerPS number of null: \n",
      " 1\n",
      "model number of null: \n",
      " 20499\n",
      "kilometer number of null: \n",
      " 1\n",
      "monthOfRegistration number of null: \n",
      " 1\n",
      "fuelType number of null: \n",
      " 33416\n",
      "brand number of null: \n",
      " 1\n",
      "notRepairedDamage number of null: \n",
      " 72124\n",
      "dateCreated number of null: \n",
      " 1\n",
      "nrOfPictures number of null: \n",
      " 1\n",
      "postalCode number of null: \n",
      " 1\n",
      "lastSeen number of null: \n",
      " 1\n"
     ]
    }
   ],
   "source": [
    "for col in data.columns:\n",
    "    print(col, \"number of null: \\n\", data.filter(data[col].isNull()).count())"
   ]
  },
  {
   "cell_type": "markdown",
   "metadata": {},
   "source": [
    "As we can see, we have quite a few null values. Now we will have to drop these null values. "
   ]
  },
  {
   "cell_type": "code",
   "execution_count": 680,
   "metadata": {},
   "outputs": [
    {
     "name": "stdout",
     "output_type": "stream",
     "text": [
      "price number of null: \n",
      " 0\n",
      "vehicleType number of null: \n",
      " 0\n",
      "yearOfRegistration number of null: \n",
      " 0\n",
      "gearbox number of null: \n",
      " 0\n",
      "powerPS number of null: \n",
      " 0\n",
      "model number of null: \n",
      " 0\n",
      "kilometer number of null: \n",
      " 0\n",
      "monthOfRegistration number of null: \n",
      " 0\n",
      "fuelType number of null: \n",
      " 0\n",
      "brand number of null: \n",
      " 0\n",
      "notRepairedDamage number of null: \n",
      " 0\n",
      "dateCreated number of null: \n",
      " 0\n",
      "nrOfPictures number of null: \n",
      " 0\n",
      "postalCode number of null: \n",
      " 0\n",
      "lastSeen number of null: \n",
      " 0\n"
     ]
    }
   ],
   "source": [
    "#Remove nulls\n",
    "data = data.na.drop()\n",
    "\n",
    "#Drop Unnecessary fields\n",
    "drop_fields = ['seller', 'offerType', 'notRepairedDamage ', 'dateCrawled', 'name', 'abtest']\n",
    "\n",
    "#Drop nulls\n",
    "data = data.drop(*drop_fields)\n",
    "data = data.filter(data[\"gearbox\"] != 'null')\n",
    "\n",
    "#Keep data in a specific range\n",
    "data = data.filter(data[\"yearOfRegistration\"] > 1944)\n",
    "data = data.filter(data[\"yearOfRegistration\"] < 2018)\n",
    "data = data.filter(data[\"powerPS\"] > 99)\n",
    "data = data.filter(data[\"powerPS\"] < 501)\n",
    "data = data.filter(data[\"price\"] > 99)\n",
    "data = data.filter(data[\"price\"] < 400000)\n",
    "\n",
    "for col in data.columns:\n",
    "    print(col, \"number of null: \\n\", data.filter(data[col].isNull()).count())"
   ]
  },
  {
   "cell_type": "markdown",
   "metadata": {},
   "source": [
    "## Feature Engineering"
   ]
  },
  {
   "cell_type": "markdown",
   "metadata": {},
   "source": [
    "Now that we have a better understanding of our dataset, we need to transform and normalize the features in our dataset into more meaningful features in order for our model to perform optimally."
   ]
  },
  {
   "cell_type": "markdown",
   "metadata": {},
   "source": [
    "First, we need to convert the categorical variables into numeric variables using Spark's [StringIndexer](https://spark.apache.org/docs/latest/ml-features#stringindexer). The variables transformed include *gearbox*, *vehicleType*, *model*, *fuelType*, and *brand*."
   ]
  },
  {
   "cell_type": "code",
   "execution_count": 15,
   "metadata": {},
   "outputs": [
    {
     "name": "stdout",
     "output_type": "stream",
     "text": [
      "+---------+------+\n",
      "|  gearbox| count|\n",
      "+---------+------+\n",
      "|     null| 20224|\n",
      "|automatik| 77169|\n",
      "|  manuell|274431|\n",
      "+---------+------+\n",
      "\n",
      "+-----------+---------+\n",
      "|gearbox_num|gearbox  |\n",
      "+-----------+---------+\n",
      "|0.0        |manuell  |\n",
      "|0.0        |manuell  |\n",
      "|1.0        |automatik|\n",
      "|0.0        |manuell  |\n",
      "|0.0        |manuell  |\n",
      "+-----------+---------+\n",
      "only showing top 5 rows\n",
      "\n"
     ]
    }
   ],
   "source": [
    "from pyspark.sql.functions import col, when\n",
    "from pyspark.ml.feature import StringIndexer\n",
    "\n",
    "data.groupBy('gearbox').count().show()\n",
    "\n",
    "indexer = StringIndexer(inputCol=\"gearbox\", outputCol=\"gearbox_num\")\n",
    "data = indexer.fit(data).transform(data)\n",
    "\n",
    "data.select(\"gearbox_num\",\"gearbox\").show(5, truncate=False)"
   ]
  },
  {
   "cell_type": "code",
   "execution_count": 36,
   "metadata": {},
   "outputs": [
    {
     "name": "stdout",
     "output_type": "stream",
     "text": [
      "+-----------+-----+\n",
      "|vehicleType|count|\n",
      "+-----------+-----+\n",
      "|       null|37900|\n",
      "|      coupe|19026|\n",
      "| kleinwagen|80097|\n",
      "|        bus|30220|\n",
      "|     andere| 3362|\n",
      "|  limousine|95963|\n",
      "|     cabrio|22914|\n",
      "|        suv|14716|\n",
      "|      kombi|67626|\n",
      "+-----------+-----+\n",
      "\n"
     ]
    },
    {
     "ename": "IllegalArgumentException",
     "evalue": "'requirement failed: Output column vehicleType_num already exists.'",
     "output_type": "error",
     "traceback": [
      "\u001b[0;31m---------------------------------------------------------------------------\u001b[0m",
      "\u001b[0;31mPy4JJavaError\u001b[0m                             Traceback (most recent call last)",
      "\u001b[0;32m~/anaconda3/envs/inet_4710/lib/python3.7/site-packages/pyspark/sql/utils.py\u001b[0m in \u001b[0;36mdeco\u001b[0;34m(*a, **kw)\u001b[0m\n\u001b[1;32m     62\u001b[0m         \u001b[0;32mtry\u001b[0m\u001b[0;34m:\u001b[0m\u001b[0;34m\u001b[0m\u001b[0;34m\u001b[0m\u001b[0m\n\u001b[0;32m---> 63\u001b[0;31m             \u001b[0;32mreturn\u001b[0m \u001b[0mf\u001b[0m\u001b[0;34m(\u001b[0m\u001b[0;34m*\u001b[0m\u001b[0ma\u001b[0m\u001b[0;34m,\u001b[0m \u001b[0;34m**\u001b[0m\u001b[0mkw\u001b[0m\u001b[0;34m)\u001b[0m\u001b[0;34m\u001b[0m\u001b[0;34m\u001b[0m\u001b[0m\n\u001b[0m\u001b[1;32m     64\u001b[0m         \u001b[0;32mexcept\u001b[0m \u001b[0mpy4j\u001b[0m\u001b[0;34m.\u001b[0m\u001b[0mprotocol\u001b[0m\u001b[0;34m.\u001b[0m\u001b[0mPy4JJavaError\u001b[0m \u001b[0;32mas\u001b[0m \u001b[0me\u001b[0m\u001b[0;34m:\u001b[0m\u001b[0;34m\u001b[0m\u001b[0;34m\u001b[0m\u001b[0m\n",
      "\u001b[0;32m~/anaconda3/envs/inet_4710/lib/python3.7/site-packages/py4j/protocol.py\u001b[0m in \u001b[0;36mget_return_value\u001b[0;34m(answer, gateway_client, target_id, name)\u001b[0m\n\u001b[1;32m    327\u001b[0m                     \u001b[0;34m\"An error occurred while calling {0}{1}{2}.\\n\"\u001b[0m\u001b[0;34m.\u001b[0m\u001b[0;34m\u001b[0m\u001b[0;34m\u001b[0m\u001b[0m\n\u001b[0;32m--> 328\u001b[0;31m                     format(target_id, \".\", name), value)\n\u001b[0m\u001b[1;32m    329\u001b[0m             \u001b[0;32melse\u001b[0m\u001b[0;34m:\u001b[0m\u001b[0;34m\u001b[0m\u001b[0;34m\u001b[0m\u001b[0m\n",
      "\u001b[0;31mPy4JJavaError\u001b[0m: An error occurred while calling o529.fit.\n: java.lang.IllegalArgumentException: requirement failed: Output column vehicleType_num already exists.\n\tat scala.Predef$.require(Predef.scala:224)\n\tat org.apache.spark.ml.feature.StringIndexerBase$class.validateAndTransformSchema(StringIndexer.scala:91)\n\tat org.apache.spark.ml.feature.StringIndexer.validateAndTransformSchema(StringIndexer.scala:109)\n\tat org.apache.spark.ml.feature.StringIndexer.transformSchema(StringIndexer.scala:152)\n\tat org.apache.spark.ml.PipelineStage.transformSchema(Pipeline.scala:74)\n\tat org.apache.spark.ml.feature.StringIndexer.fit(StringIndexer.scala:135)\n\tat org.apache.spark.ml.feature.StringIndexer.fit(StringIndexer.scala:109)\n\tat sun.reflect.NativeMethodAccessorImpl.invoke0(Native Method)\n\tat sun.reflect.NativeMethodAccessorImpl.invoke(NativeMethodAccessorImpl.java:62)\n\tat sun.reflect.DelegatingMethodAccessorImpl.invoke(DelegatingMethodAccessorImpl.java:43)\n\tat java.lang.reflect.Method.invoke(Method.java:483)\n\tat py4j.reflection.MethodInvoker.invoke(MethodInvoker.java:244)\n\tat py4j.reflection.ReflectionEngine.invoke(ReflectionEngine.java:357)\n\tat py4j.Gateway.invoke(Gateway.java:282)\n\tat py4j.commands.AbstractCommand.invokeMethod(AbstractCommand.java:132)\n\tat py4j.commands.CallCommand.execute(CallCommand.java:79)\n\tat py4j.GatewayConnection.run(GatewayConnection.java:238)\n\tat java.lang.Thread.run(Thread.java:745)\n",
      "\nDuring handling of the above exception, another exception occurred:\n",
      "\u001b[0;31mIllegalArgumentException\u001b[0m                  Traceback (most recent call last)",
      "\u001b[0;32m<ipython-input-36-adf66dca5df7>\u001b[0m in \u001b[0;36m<module>\u001b[0;34m\u001b[0m\n\u001b[1;32m      2\u001b[0m \u001b[0;34m\u001b[0m\u001b[0m\n\u001b[1;32m      3\u001b[0m \u001b[0mindexer\u001b[0m \u001b[0;34m=\u001b[0m \u001b[0mStringIndexer\u001b[0m\u001b[0;34m(\u001b[0m\u001b[0minputCol\u001b[0m\u001b[0;34m=\u001b[0m\u001b[0;34m\"vehicleType\"\u001b[0m\u001b[0;34m,\u001b[0m \u001b[0moutputCol\u001b[0m\u001b[0;34m=\u001b[0m\u001b[0;34m\"vehicleType_num\"\u001b[0m\u001b[0;34m)\u001b[0m\u001b[0;34m\u001b[0m\u001b[0;34m\u001b[0m\u001b[0m\n\u001b[0;32m----> 4\u001b[0;31m \u001b[0mdata\u001b[0m \u001b[0;34m=\u001b[0m \u001b[0mindexer\u001b[0m\u001b[0;34m.\u001b[0m\u001b[0mfit\u001b[0m\u001b[0;34m(\u001b[0m\u001b[0mdata\u001b[0m\u001b[0;34m)\u001b[0m\u001b[0;34m.\u001b[0m\u001b[0mtransform\u001b[0m\u001b[0;34m(\u001b[0m\u001b[0mdata\u001b[0m\u001b[0;34m)\u001b[0m\u001b[0;34m\u001b[0m\u001b[0;34m\u001b[0m\u001b[0m\n\u001b[0m\u001b[1;32m      5\u001b[0m \u001b[0;34m\u001b[0m\u001b[0m\n\u001b[1;32m      6\u001b[0m \u001b[0mdata\u001b[0m\u001b[0;34m.\u001b[0m\u001b[0mselect\u001b[0m\u001b[0;34m(\u001b[0m\u001b[0;34m\"vehicleType_num\"\u001b[0m\u001b[0;34m,\u001b[0m\u001b[0;34m\"vehicleType\"\u001b[0m\u001b[0;34m)\u001b[0m\u001b[0;34m.\u001b[0m\u001b[0mshow\u001b[0m\u001b[0;34m(\u001b[0m\u001b[0;36m5\u001b[0m\u001b[0;34m,\u001b[0m \u001b[0mtruncate\u001b[0m\u001b[0;34m=\u001b[0m\u001b[0;32mFalse\u001b[0m\u001b[0;34m)\u001b[0m\u001b[0;34m\u001b[0m\u001b[0;34m\u001b[0m\u001b[0m\n",
      "\u001b[0;32m~/anaconda3/envs/inet_4710/lib/python3.7/site-packages/pyspark/ml/base.py\u001b[0m in \u001b[0;36mfit\u001b[0;34m(self, dataset, params)\u001b[0m\n\u001b[1;32m    130\u001b[0m                 \u001b[0;32mreturn\u001b[0m \u001b[0mself\u001b[0m\u001b[0;34m.\u001b[0m\u001b[0mcopy\u001b[0m\u001b[0;34m(\u001b[0m\u001b[0mparams\u001b[0m\u001b[0;34m)\u001b[0m\u001b[0;34m.\u001b[0m\u001b[0m_fit\u001b[0m\u001b[0;34m(\u001b[0m\u001b[0mdataset\u001b[0m\u001b[0;34m)\u001b[0m\u001b[0;34m\u001b[0m\u001b[0;34m\u001b[0m\u001b[0m\n\u001b[1;32m    131\u001b[0m             \u001b[0;32melse\u001b[0m\u001b[0;34m:\u001b[0m\u001b[0;34m\u001b[0m\u001b[0;34m\u001b[0m\u001b[0m\n\u001b[0;32m--> 132\u001b[0;31m                 \u001b[0;32mreturn\u001b[0m \u001b[0mself\u001b[0m\u001b[0;34m.\u001b[0m\u001b[0m_fit\u001b[0m\u001b[0;34m(\u001b[0m\u001b[0mdataset\u001b[0m\u001b[0;34m)\u001b[0m\u001b[0;34m\u001b[0m\u001b[0;34m\u001b[0m\u001b[0m\n\u001b[0m\u001b[1;32m    133\u001b[0m         \u001b[0;32melse\u001b[0m\u001b[0;34m:\u001b[0m\u001b[0;34m\u001b[0m\u001b[0;34m\u001b[0m\u001b[0m\n\u001b[1;32m    134\u001b[0m             raise ValueError(\"Params must be either a param map or a list/tuple of param maps, \"\n",
      "\u001b[0;32m~/anaconda3/envs/inet_4710/lib/python3.7/site-packages/pyspark/ml/wrapper.py\u001b[0m in \u001b[0;36m_fit\u001b[0;34m(self, dataset)\u001b[0m\n\u001b[1;32m    293\u001b[0m \u001b[0;34m\u001b[0m\u001b[0m\n\u001b[1;32m    294\u001b[0m     \u001b[0;32mdef\u001b[0m \u001b[0m_fit\u001b[0m\u001b[0;34m(\u001b[0m\u001b[0mself\u001b[0m\u001b[0;34m,\u001b[0m \u001b[0mdataset\u001b[0m\u001b[0;34m)\u001b[0m\u001b[0;34m:\u001b[0m\u001b[0;34m\u001b[0m\u001b[0;34m\u001b[0m\u001b[0m\n\u001b[0;32m--> 295\u001b[0;31m         \u001b[0mjava_model\u001b[0m \u001b[0;34m=\u001b[0m \u001b[0mself\u001b[0m\u001b[0;34m.\u001b[0m\u001b[0m_fit_java\u001b[0m\u001b[0;34m(\u001b[0m\u001b[0mdataset\u001b[0m\u001b[0;34m)\u001b[0m\u001b[0;34m\u001b[0m\u001b[0;34m\u001b[0m\u001b[0m\n\u001b[0m\u001b[1;32m    296\u001b[0m         \u001b[0mmodel\u001b[0m \u001b[0;34m=\u001b[0m \u001b[0mself\u001b[0m\u001b[0;34m.\u001b[0m\u001b[0m_create_model\u001b[0m\u001b[0;34m(\u001b[0m\u001b[0mjava_model\u001b[0m\u001b[0;34m)\u001b[0m\u001b[0;34m\u001b[0m\u001b[0;34m\u001b[0m\u001b[0m\n\u001b[1;32m    297\u001b[0m         \u001b[0;32mreturn\u001b[0m \u001b[0mself\u001b[0m\u001b[0;34m.\u001b[0m\u001b[0m_copyValues\u001b[0m\u001b[0;34m(\u001b[0m\u001b[0mmodel\u001b[0m\u001b[0;34m)\u001b[0m\u001b[0;34m\u001b[0m\u001b[0;34m\u001b[0m\u001b[0m\n",
      "\u001b[0;32m~/anaconda3/envs/inet_4710/lib/python3.7/site-packages/pyspark/ml/wrapper.py\u001b[0m in \u001b[0;36m_fit_java\u001b[0;34m(self, dataset)\u001b[0m\n\u001b[1;32m    290\u001b[0m         \"\"\"\n\u001b[1;32m    291\u001b[0m         \u001b[0mself\u001b[0m\u001b[0;34m.\u001b[0m\u001b[0m_transfer_params_to_java\u001b[0m\u001b[0;34m(\u001b[0m\u001b[0;34m)\u001b[0m\u001b[0;34m\u001b[0m\u001b[0;34m\u001b[0m\u001b[0m\n\u001b[0;32m--> 292\u001b[0;31m         \u001b[0;32mreturn\u001b[0m \u001b[0mself\u001b[0m\u001b[0;34m.\u001b[0m\u001b[0m_java_obj\u001b[0m\u001b[0;34m.\u001b[0m\u001b[0mfit\u001b[0m\u001b[0;34m(\u001b[0m\u001b[0mdataset\u001b[0m\u001b[0;34m.\u001b[0m\u001b[0m_jdf\u001b[0m\u001b[0;34m)\u001b[0m\u001b[0;34m\u001b[0m\u001b[0;34m\u001b[0m\u001b[0m\n\u001b[0m\u001b[1;32m    293\u001b[0m \u001b[0;34m\u001b[0m\u001b[0m\n\u001b[1;32m    294\u001b[0m     \u001b[0;32mdef\u001b[0m \u001b[0m_fit\u001b[0m\u001b[0;34m(\u001b[0m\u001b[0mself\u001b[0m\u001b[0;34m,\u001b[0m \u001b[0mdataset\u001b[0m\u001b[0;34m)\u001b[0m\u001b[0;34m:\u001b[0m\u001b[0;34m\u001b[0m\u001b[0;34m\u001b[0m\u001b[0m\n",
      "\u001b[0;32m~/anaconda3/envs/inet_4710/lib/python3.7/site-packages/py4j/java_gateway.py\u001b[0m in \u001b[0;36m__call__\u001b[0;34m(self, *args)\u001b[0m\n\u001b[1;32m   1255\u001b[0m         \u001b[0manswer\u001b[0m \u001b[0;34m=\u001b[0m \u001b[0mself\u001b[0m\u001b[0;34m.\u001b[0m\u001b[0mgateway_client\u001b[0m\u001b[0;34m.\u001b[0m\u001b[0msend_command\u001b[0m\u001b[0;34m(\u001b[0m\u001b[0mcommand\u001b[0m\u001b[0;34m)\u001b[0m\u001b[0;34m\u001b[0m\u001b[0;34m\u001b[0m\u001b[0m\n\u001b[1;32m   1256\u001b[0m         return_value = get_return_value(\n\u001b[0;32m-> 1257\u001b[0;31m             answer, self.gateway_client, self.target_id, self.name)\n\u001b[0m\u001b[1;32m   1258\u001b[0m \u001b[0;34m\u001b[0m\u001b[0m\n\u001b[1;32m   1259\u001b[0m         \u001b[0;32mfor\u001b[0m \u001b[0mtemp_arg\u001b[0m \u001b[0;32min\u001b[0m \u001b[0mtemp_args\u001b[0m\u001b[0;34m:\u001b[0m\u001b[0;34m\u001b[0m\u001b[0;34m\u001b[0m\u001b[0m\n",
      "\u001b[0;32m~/anaconda3/envs/inet_4710/lib/python3.7/site-packages/pyspark/sql/utils.py\u001b[0m in \u001b[0;36mdeco\u001b[0;34m(*a, **kw)\u001b[0m\n\u001b[1;32m     77\u001b[0m                 \u001b[0;32mraise\u001b[0m \u001b[0mQueryExecutionException\u001b[0m\u001b[0;34m(\u001b[0m\u001b[0ms\u001b[0m\u001b[0;34m.\u001b[0m\u001b[0msplit\u001b[0m\u001b[0;34m(\u001b[0m\u001b[0;34m': '\u001b[0m\u001b[0;34m,\u001b[0m \u001b[0;36m1\u001b[0m\u001b[0;34m)\u001b[0m\u001b[0;34m[\u001b[0m\u001b[0;36m1\u001b[0m\u001b[0;34m]\u001b[0m\u001b[0;34m,\u001b[0m \u001b[0mstackTrace\u001b[0m\u001b[0;34m)\u001b[0m\u001b[0;34m\u001b[0m\u001b[0;34m\u001b[0m\u001b[0m\n\u001b[1;32m     78\u001b[0m             \u001b[0;32mif\u001b[0m \u001b[0ms\u001b[0m\u001b[0;34m.\u001b[0m\u001b[0mstartswith\u001b[0m\u001b[0;34m(\u001b[0m\u001b[0;34m'java.lang.IllegalArgumentException: '\u001b[0m\u001b[0;34m)\u001b[0m\u001b[0;34m:\u001b[0m\u001b[0;34m\u001b[0m\u001b[0;34m\u001b[0m\u001b[0m\n\u001b[0;32m---> 79\u001b[0;31m                 \u001b[0;32mraise\u001b[0m \u001b[0mIllegalArgumentException\u001b[0m\u001b[0;34m(\u001b[0m\u001b[0ms\u001b[0m\u001b[0;34m.\u001b[0m\u001b[0msplit\u001b[0m\u001b[0;34m(\u001b[0m\u001b[0;34m': '\u001b[0m\u001b[0;34m,\u001b[0m \u001b[0;36m1\u001b[0m\u001b[0;34m)\u001b[0m\u001b[0;34m[\u001b[0m\u001b[0;36m1\u001b[0m\u001b[0;34m]\u001b[0m\u001b[0;34m,\u001b[0m \u001b[0mstackTrace\u001b[0m\u001b[0;34m)\u001b[0m\u001b[0;34m\u001b[0m\u001b[0;34m\u001b[0m\u001b[0m\n\u001b[0m\u001b[1;32m     80\u001b[0m             \u001b[0;32mraise\u001b[0m\u001b[0;34m\u001b[0m\u001b[0;34m\u001b[0m\u001b[0m\n\u001b[1;32m     81\u001b[0m     \u001b[0;32mreturn\u001b[0m \u001b[0mdeco\u001b[0m\u001b[0;34m\u001b[0m\u001b[0;34m\u001b[0m\u001b[0m\n",
      "\u001b[0;31mIllegalArgumentException\u001b[0m: 'requirement failed: Output column vehicleType_num already exists.'"
     ]
    }
   ],
   "source": [
    "data.groupBy('vehicleType').count().show()\n",
    "\n",
    "indexer = StringIndexer(inputCol=\"vehicleType\", outputCol=\"vehicleType_num\")\n",
    "data = indexer.fit(data).transform(data)\n",
    "\n",
    "data.select(\"vehicleType_num\",\"vehicleType\").show(5, truncate=False)"
   ]
  },
  {
   "cell_type": "code",
   "execution_count": 16,
   "metadata": {},
   "outputs": [
    {
     "name": "stdout",
     "output_type": "stream",
     "text": [
      "+----------+-----+\n",
      "|     model|count|\n",
      "+----------+-----+\n",
      "|     viano|  424|\n",
      "|   1_reihe| 1307|\n",
      "|elefantino|   11|\n",
      "|       1er| 3839|\n",
      "|  rx_reihe|  144|\n",
      "|  sportage|  307|\n",
      "|    x_type|  177|\n",
      "|    antara|  111|\n",
      "|       7er| 1143|\n",
      "|   boxster|  404|\n",
      "|        cc|  195|\n",
      "|   clubman|  204|\n",
      "|    megane| 2932|\n",
      "|  s_klasse| 1033|\n",
      "|      yeti|  199|\n",
      "|     kalos|   95|\n",
      "|   x_trail|  217|\n",
      "|     lodgy|   35|\n",
      "|       200|   18|\n",
      "|     delta|   40|\n",
      "+----------+-----+\n",
      "only showing top 20 rows\n",
      "\n"
     ]
    },
    {
     "ename": "Py4JJavaError",
     "evalue": "An error occurred while calling o228.showString.\n: org.apache.spark.SparkException: Job aborted due to stage failure: Task 0 in stage 107.0 failed 1 times, most recent failure: Lost task 0.0 in stage 107.0 (TID 1027, localhost, executor driver): org.apache.spark.SparkException: Failed to execute user defined function($anonfun$9: (string) => double)\n\tat org.apache.spark.sql.catalyst.expressions.GeneratedClass$GeneratedIteratorForCodegenStage1.processNext(Unknown Source)\n\tat org.apache.spark.sql.execution.BufferedRowIterator.hasNext(BufferedRowIterator.java:43)\n\tat org.apache.spark.sql.execution.WholeStageCodegenExec$$anonfun$13$$anon$1.hasNext(WholeStageCodegenExec.scala:636)\n\tat org.apache.spark.sql.execution.SparkPlan$$anonfun$2.apply(SparkPlan.scala:255)\n\tat org.apache.spark.sql.execution.SparkPlan$$anonfun$2.apply(SparkPlan.scala:247)\n\tat org.apache.spark.rdd.RDD$$anonfun$mapPartitionsInternal$1$$anonfun$apply$24.apply(RDD.scala:836)\n\tat org.apache.spark.rdd.RDD$$anonfun$mapPartitionsInternal$1$$anonfun$apply$24.apply(RDD.scala:836)\n\tat org.apache.spark.rdd.MapPartitionsRDD.compute(MapPartitionsRDD.scala:52)\n\tat org.apache.spark.rdd.RDD.computeOrReadCheckpoint(RDD.scala:324)\n\tat org.apache.spark.rdd.RDD.iterator(RDD.scala:288)\n\tat org.apache.spark.rdd.MapPartitionsRDD.compute(MapPartitionsRDD.scala:52)\n\tat org.apache.spark.rdd.RDD.computeOrReadCheckpoint(RDD.scala:324)\n\tat org.apache.spark.rdd.RDD.iterator(RDD.scala:288)\n\tat org.apache.spark.scheduler.ResultTask.runTask(ResultTask.scala:90)\n\tat org.apache.spark.scheduler.Task.run(Task.scala:123)\n\tat org.apache.spark.executor.Executor$TaskRunner$$anonfun$10.apply(Executor.scala:408)\n\tat org.apache.spark.util.Utils$.tryWithSafeFinally(Utils.scala:1360)\n\tat org.apache.spark.executor.Executor$TaskRunner.run(Executor.scala:414)\n\tat java.util.concurrent.ThreadPoolExecutor.runWorker(ThreadPoolExecutor.java:1142)\n\tat java.util.concurrent.ThreadPoolExecutor$Worker.run(ThreadPoolExecutor.java:617)\n\tat java.lang.Thread.run(Thread.java:745)\nCaused by: org.apache.spark.SparkException: StringIndexer encountered NULL value. To handle or skip NULLS, try setting StringIndexer.handleInvalid.\n\tat org.apache.spark.ml.feature.StringIndexerModel$$anonfun$9.apply(StringIndexer.scala:251)\n\tat org.apache.spark.ml.feature.StringIndexerModel$$anonfun$9.apply(StringIndexer.scala:246)\n\t... 21 more\n\nDriver stacktrace:\n\tat org.apache.spark.scheduler.DAGScheduler.org$apache$spark$scheduler$DAGScheduler$$failJobAndIndependentStages(DAGScheduler.scala:1889)\n\tat org.apache.spark.scheduler.DAGScheduler$$anonfun$abortStage$1.apply(DAGScheduler.scala:1877)\n\tat org.apache.spark.scheduler.DAGScheduler$$anonfun$abortStage$1.apply(DAGScheduler.scala:1876)\n\tat scala.collection.mutable.ResizableArray$class.foreach(ResizableArray.scala:59)\n\tat scala.collection.mutable.ArrayBuffer.foreach(ArrayBuffer.scala:48)\n\tat org.apache.spark.scheduler.DAGScheduler.abortStage(DAGScheduler.scala:1876)\n\tat org.apache.spark.scheduler.DAGScheduler$$anonfun$handleTaskSetFailed$1.apply(DAGScheduler.scala:926)\n\tat org.apache.spark.scheduler.DAGScheduler$$anonfun$handleTaskSetFailed$1.apply(DAGScheduler.scala:926)\n\tat scala.Option.foreach(Option.scala:257)\n\tat org.apache.spark.scheduler.DAGScheduler.handleTaskSetFailed(DAGScheduler.scala:926)\n\tat org.apache.spark.scheduler.DAGSchedulerEventProcessLoop.doOnReceive(DAGScheduler.scala:2110)\n\tat org.apache.spark.scheduler.DAGSchedulerEventProcessLoop.onReceive(DAGScheduler.scala:2059)\n\tat org.apache.spark.scheduler.DAGSchedulerEventProcessLoop.onReceive(DAGScheduler.scala:2048)\n\tat org.apache.spark.util.EventLoop$$anon$1.run(EventLoop.scala:49)\n\tat org.apache.spark.scheduler.DAGScheduler.runJob(DAGScheduler.scala:737)\n\tat org.apache.spark.SparkContext.runJob(SparkContext.scala:2061)\n\tat org.apache.spark.SparkContext.runJob(SparkContext.scala:2082)\n\tat org.apache.spark.SparkContext.runJob(SparkContext.scala:2101)\n\tat org.apache.spark.sql.execution.SparkPlan.executeTake(SparkPlan.scala:365)\n\tat org.apache.spark.sql.execution.CollectLimitExec.executeCollect(limit.scala:38)\n\tat org.apache.spark.sql.Dataset.org$apache$spark$sql$Dataset$$collectFromPlan(Dataset.scala:3389)\n\tat org.apache.spark.sql.Dataset$$anonfun$head$1.apply(Dataset.scala:2550)\n\tat org.apache.spark.sql.Dataset$$anonfun$head$1.apply(Dataset.scala:2550)\n\tat org.apache.spark.sql.Dataset$$anonfun$52.apply(Dataset.scala:3370)\n\tat org.apache.spark.sql.execution.SQLExecution$$anonfun$withNewExecutionId$1.apply(SQLExecution.scala:78)\n\tat org.apache.spark.sql.execution.SQLExecution$.withSQLConfPropagated(SQLExecution.scala:125)\n\tat org.apache.spark.sql.execution.SQLExecution$.withNewExecutionId(SQLExecution.scala:73)\n\tat org.apache.spark.sql.Dataset.withAction(Dataset.scala:3369)\n\tat org.apache.spark.sql.Dataset.head(Dataset.scala:2550)\n\tat org.apache.spark.sql.Dataset.take(Dataset.scala:2764)\n\tat org.apache.spark.sql.Dataset.getRows(Dataset.scala:254)\n\tat org.apache.spark.sql.Dataset.showString(Dataset.scala:291)\n\tat sun.reflect.NativeMethodAccessorImpl.invoke0(Native Method)\n\tat sun.reflect.NativeMethodAccessorImpl.invoke(NativeMethodAccessorImpl.java:62)\n\tat sun.reflect.DelegatingMethodAccessorImpl.invoke(DelegatingMethodAccessorImpl.java:43)\n\tat java.lang.reflect.Method.invoke(Method.java:483)\n\tat py4j.reflection.MethodInvoker.invoke(MethodInvoker.java:244)\n\tat py4j.reflection.ReflectionEngine.invoke(ReflectionEngine.java:357)\n\tat py4j.Gateway.invoke(Gateway.java:282)\n\tat py4j.commands.AbstractCommand.invokeMethod(AbstractCommand.java:132)\n\tat py4j.commands.CallCommand.execute(CallCommand.java:79)\n\tat py4j.GatewayConnection.run(GatewayConnection.java:238)\n\tat java.lang.Thread.run(Thread.java:745)\nCaused by: org.apache.spark.SparkException: Failed to execute user defined function($anonfun$9: (string) => double)\n\tat org.apache.spark.sql.catalyst.expressions.GeneratedClass$GeneratedIteratorForCodegenStage1.processNext(Unknown Source)\n\tat org.apache.spark.sql.execution.BufferedRowIterator.hasNext(BufferedRowIterator.java:43)\n\tat org.apache.spark.sql.execution.WholeStageCodegenExec$$anonfun$13$$anon$1.hasNext(WholeStageCodegenExec.scala:636)\n\tat org.apache.spark.sql.execution.SparkPlan$$anonfun$2.apply(SparkPlan.scala:255)\n\tat org.apache.spark.sql.execution.SparkPlan$$anonfun$2.apply(SparkPlan.scala:247)\n\tat org.apache.spark.rdd.RDD$$anonfun$mapPartitionsInternal$1$$anonfun$apply$24.apply(RDD.scala:836)\n\tat org.apache.spark.rdd.RDD$$anonfun$mapPartitionsInternal$1$$anonfun$apply$24.apply(RDD.scala:836)\n\tat org.apache.spark.rdd.MapPartitionsRDD.compute(MapPartitionsRDD.scala:52)\n\tat org.apache.spark.rdd.RDD.computeOrReadCheckpoint(RDD.scala:324)\n\tat org.apache.spark.rdd.RDD.iterator(RDD.scala:288)\n\tat org.apache.spark.rdd.MapPartitionsRDD.compute(MapPartitionsRDD.scala:52)\n\tat org.apache.spark.rdd.RDD.computeOrReadCheckpoint(RDD.scala:324)\n\tat org.apache.spark.rdd.RDD.iterator(RDD.scala:288)\n\tat org.apache.spark.scheduler.ResultTask.runTask(ResultTask.scala:90)\n\tat org.apache.spark.scheduler.Task.run(Task.scala:123)\n\tat org.apache.spark.executor.Executor$TaskRunner$$anonfun$10.apply(Executor.scala:408)\n\tat org.apache.spark.util.Utils$.tryWithSafeFinally(Utils.scala:1360)\n\tat org.apache.spark.executor.Executor$TaskRunner.run(Executor.scala:414)\n\tat java.util.concurrent.ThreadPoolExecutor.runWorker(ThreadPoolExecutor.java:1142)\n\tat java.util.concurrent.ThreadPoolExecutor$Worker.run(ThreadPoolExecutor.java:617)\n\t... 1 more\nCaused by: org.apache.spark.SparkException: StringIndexer encountered NULL value. To handle or skip NULLS, try setting StringIndexer.handleInvalid.\n\tat org.apache.spark.ml.feature.StringIndexerModel$$anonfun$9.apply(StringIndexer.scala:251)\n\tat org.apache.spark.ml.feature.StringIndexerModel$$anonfun$9.apply(StringIndexer.scala:246)\n\t... 21 more\n",
     "output_type": "error",
     "traceback": [
      "\u001b[0;31m---------------------------------------------------------------------------\u001b[0m",
      "\u001b[0;31mPy4JJavaError\u001b[0m                             Traceback (most recent call last)",
      "\u001b[0;32m<ipython-input-16-8c11b1e93c13>\u001b[0m in \u001b[0;36m<module>\u001b[0;34m\u001b[0m\n\u001b[1;32m      4\u001b[0m \u001b[0mdata\u001b[0m \u001b[0;34m=\u001b[0m \u001b[0mindexer\u001b[0m\u001b[0;34m.\u001b[0m\u001b[0mfit\u001b[0m\u001b[0;34m(\u001b[0m\u001b[0mdata\u001b[0m\u001b[0;34m)\u001b[0m\u001b[0;34m.\u001b[0m\u001b[0mtransform\u001b[0m\u001b[0;34m(\u001b[0m\u001b[0mdata\u001b[0m\u001b[0;34m)\u001b[0m\u001b[0;34m\u001b[0m\u001b[0;34m\u001b[0m\u001b[0m\n\u001b[1;32m      5\u001b[0m \u001b[0;34m\u001b[0m\u001b[0m\n\u001b[0;32m----> 6\u001b[0;31m \u001b[0mdata\u001b[0m\u001b[0;34m.\u001b[0m\u001b[0mselect\u001b[0m\u001b[0;34m(\u001b[0m\u001b[0;34m\"model\"\u001b[0m\u001b[0;34m,\u001b[0m\u001b[0;34m\"model_num\"\u001b[0m\u001b[0;34m)\u001b[0m\u001b[0;34m.\u001b[0m\u001b[0mshow\u001b[0m\u001b[0;34m(\u001b[0m\u001b[0;36m5\u001b[0m\u001b[0;34m,\u001b[0m \u001b[0mtruncate\u001b[0m\u001b[0;34m=\u001b[0m\u001b[0;32mFalse\u001b[0m\u001b[0;34m)\u001b[0m\u001b[0;34m\u001b[0m\u001b[0;34m\u001b[0m\u001b[0m\n\u001b[0m",
      "\u001b[0;32m~/anaconda3/envs/inet_4710/lib/python3.7/site-packages/pyspark/sql/dataframe.py\u001b[0m in \u001b[0;36mshow\u001b[0;34m(self, n, truncate, vertical)\u001b[0m\n\u001b[1;32m    380\u001b[0m             \u001b[0mprint\u001b[0m\u001b[0;34m(\u001b[0m\u001b[0mself\u001b[0m\u001b[0;34m.\u001b[0m\u001b[0m_jdf\u001b[0m\u001b[0;34m.\u001b[0m\u001b[0mshowString\u001b[0m\u001b[0;34m(\u001b[0m\u001b[0mn\u001b[0m\u001b[0;34m,\u001b[0m \u001b[0;36m20\u001b[0m\u001b[0;34m,\u001b[0m \u001b[0mvertical\u001b[0m\u001b[0;34m)\u001b[0m\u001b[0;34m)\u001b[0m\u001b[0;34m\u001b[0m\u001b[0;34m\u001b[0m\u001b[0m\n\u001b[1;32m    381\u001b[0m         \u001b[0;32melse\u001b[0m\u001b[0;34m:\u001b[0m\u001b[0;34m\u001b[0m\u001b[0;34m\u001b[0m\u001b[0m\n\u001b[0;32m--> 382\u001b[0;31m             \u001b[0mprint\u001b[0m\u001b[0;34m(\u001b[0m\u001b[0mself\u001b[0m\u001b[0;34m.\u001b[0m\u001b[0m_jdf\u001b[0m\u001b[0;34m.\u001b[0m\u001b[0mshowString\u001b[0m\u001b[0;34m(\u001b[0m\u001b[0mn\u001b[0m\u001b[0;34m,\u001b[0m \u001b[0mint\u001b[0m\u001b[0;34m(\u001b[0m\u001b[0mtruncate\u001b[0m\u001b[0;34m)\u001b[0m\u001b[0;34m,\u001b[0m \u001b[0mvertical\u001b[0m\u001b[0;34m)\u001b[0m\u001b[0;34m)\u001b[0m\u001b[0;34m\u001b[0m\u001b[0;34m\u001b[0m\u001b[0m\n\u001b[0m\u001b[1;32m    383\u001b[0m \u001b[0;34m\u001b[0m\u001b[0m\n\u001b[1;32m    384\u001b[0m     \u001b[0;32mdef\u001b[0m \u001b[0m__repr__\u001b[0m\u001b[0;34m(\u001b[0m\u001b[0mself\u001b[0m\u001b[0;34m)\u001b[0m\u001b[0;34m:\u001b[0m\u001b[0;34m\u001b[0m\u001b[0;34m\u001b[0m\u001b[0m\n",
      "\u001b[0;32m~/anaconda3/envs/inet_4710/lib/python3.7/site-packages/py4j/java_gateway.py\u001b[0m in \u001b[0;36m__call__\u001b[0;34m(self, *args)\u001b[0m\n\u001b[1;32m   1255\u001b[0m         \u001b[0manswer\u001b[0m \u001b[0;34m=\u001b[0m \u001b[0mself\u001b[0m\u001b[0;34m.\u001b[0m\u001b[0mgateway_client\u001b[0m\u001b[0;34m.\u001b[0m\u001b[0msend_command\u001b[0m\u001b[0;34m(\u001b[0m\u001b[0mcommand\u001b[0m\u001b[0;34m)\u001b[0m\u001b[0;34m\u001b[0m\u001b[0;34m\u001b[0m\u001b[0m\n\u001b[1;32m   1256\u001b[0m         return_value = get_return_value(\n\u001b[0;32m-> 1257\u001b[0;31m             answer, self.gateway_client, self.target_id, self.name)\n\u001b[0m\u001b[1;32m   1258\u001b[0m \u001b[0;34m\u001b[0m\u001b[0m\n\u001b[1;32m   1259\u001b[0m         \u001b[0;32mfor\u001b[0m \u001b[0mtemp_arg\u001b[0m \u001b[0;32min\u001b[0m \u001b[0mtemp_args\u001b[0m\u001b[0;34m:\u001b[0m\u001b[0;34m\u001b[0m\u001b[0;34m\u001b[0m\u001b[0m\n",
      "\u001b[0;32m~/anaconda3/envs/inet_4710/lib/python3.7/site-packages/pyspark/sql/utils.py\u001b[0m in \u001b[0;36mdeco\u001b[0;34m(*a, **kw)\u001b[0m\n\u001b[1;32m     61\u001b[0m     \u001b[0;32mdef\u001b[0m \u001b[0mdeco\u001b[0m\u001b[0;34m(\u001b[0m\u001b[0;34m*\u001b[0m\u001b[0ma\u001b[0m\u001b[0;34m,\u001b[0m \u001b[0;34m**\u001b[0m\u001b[0mkw\u001b[0m\u001b[0;34m)\u001b[0m\u001b[0;34m:\u001b[0m\u001b[0;34m\u001b[0m\u001b[0;34m\u001b[0m\u001b[0m\n\u001b[1;32m     62\u001b[0m         \u001b[0;32mtry\u001b[0m\u001b[0;34m:\u001b[0m\u001b[0;34m\u001b[0m\u001b[0;34m\u001b[0m\u001b[0m\n\u001b[0;32m---> 63\u001b[0;31m             \u001b[0;32mreturn\u001b[0m \u001b[0mf\u001b[0m\u001b[0;34m(\u001b[0m\u001b[0;34m*\u001b[0m\u001b[0ma\u001b[0m\u001b[0;34m,\u001b[0m \u001b[0;34m**\u001b[0m\u001b[0mkw\u001b[0m\u001b[0;34m)\u001b[0m\u001b[0;34m\u001b[0m\u001b[0;34m\u001b[0m\u001b[0m\n\u001b[0m\u001b[1;32m     64\u001b[0m         \u001b[0;32mexcept\u001b[0m \u001b[0mpy4j\u001b[0m\u001b[0;34m.\u001b[0m\u001b[0mprotocol\u001b[0m\u001b[0;34m.\u001b[0m\u001b[0mPy4JJavaError\u001b[0m \u001b[0;32mas\u001b[0m \u001b[0me\u001b[0m\u001b[0;34m:\u001b[0m\u001b[0;34m\u001b[0m\u001b[0;34m\u001b[0m\u001b[0m\n\u001b[1;32m     65\u001b[0m             \u001b[0ms\u001b[0m \u001b[0;34m=\u001b[0m \u001b[0me\u001b[0m\u001b[0;34m.\u001b[0m\u001b[0mjava_exception\u001b[0m\u001b[0;34m.\u001b[0m\u001b[0mtoString\u001b[0m\u001b[0;34m(\u001b[0m\u001b[0;34m)\u001b[0m\u001b[0;34m\u001b[0m\u001b[0;34m\u001b[0m\u001b[0m\n",
      "\u001b[0;32m~/anaconda3/envs/inet_4710/lib/python3.7/site-packages/py4j/protocol.py\u001b[0m in \u001b[0;36mget_return_value\u001b[0;34m(answer, gateway_client, target_id, name)\u001b[0m\n\u001b[1;32m    326\u001b[0m                 raise Py4JJavaError(\n\u001b[1;32m    327\u001b[0m                     \u001b[0;34m\"An error occurred while calling {0}{1}{2}.\\n\"\u001b[0m\u001b[0;34m.\u001b[0m\u001b[0;34m\u001b[0m\u001b[0;34m\u001b[0m\u001b[0m\n\u001b[0;32m--> 328\u001b[0;31m                     format(target_id, \".\", name), value)\n\u001b[0m\u001b[1;32m    329\u001b[0m             \u001b[0;32melse\u001b[0m\u001b[0;34m:\u001b[0m\u001b[0;34m\u001b[0m\u001b[0;34m\u001b[0m\u001b[0m\n\u001b[1;32m    330\u001b[0m                 raise Py4JError(\n",
      "\u001b[0;31mPy4JJavaError\u001b[0m: An error occurred while calling o228.showString.\n: org.apache.spark.SparkException: Job aborted due to stage failure: Task 0 in stage 107.0 failed 1 times, most recent failure: Lost task 0.0 in stage 107.0 (TID 1027, localhost, executor driver): org.apache.spark.SparkException: Failed to execute user defined function($anonfun$9: (string) => double)\n\tat org.apache.spark.sql.catalyst.expressions.GeneratedClass$GeneratedIteratorForCodegenStage1.processNext(Unknown Source)\n\tat org.apache.spark.sql.execution.BufferedRowIterator.hasNext(BufferedRowIterator.java:43)\n\tat org.apache.spark.sql.execution.WholeStageCodegenExec$$anonfun$13$$anon$1.hasNext(WholeStageCodegenExec.scala:636)\n\tat org.apache.spark.sql.execution.SparkPlan$$anonfun$2.apply(SparkPlan.scala:255)\n\tat org.apache.spark.sql.execution.SparkPlan$$anonfun$2.apply(SparkPlan.scala:247)\n\tat org.apache.spark.rdd.RDD$$anonfun$mapPartitionsInternal$1$$anonfun$apply$24.apply(RDD.scala:836)\n\tat org.apache.spark.rdd.RDD$$anonfun$mapPartitionsInternal$1$$anonfun$apply$24.apply(RDD.scala:836)\n\tat org.apache.spark.rdd.MapPartitionsRDD.compute(MapPartitionsRDD.scala:52)\n\tat org.apache.spark.rdd.RDD.computeOrReadCheckpoint(RDD.scala:324)\n\tat org.apache.spark.rdd.RDD.iterator(RDD.scala:288)\n\tat org.apache.spark.rdd.MapPartitionsRDD.compute(MapPartitionsRDD.scala:52)\n\tat org.apache.spark.rdd.RDD.computeOrReadCheckpoint(RDD.scala:324)\n\tat org.apache.spark.rdd.RDD.iterator(RDD.scala:288)\n\tat org.apache.spark.scheduler.ResultTask.runTask(ResultTask.scala:90)\n\tat org.apache.spark.scheduler.Task.run(Task.scala:123)\n\tat org.apache.spark.executor.Executor$TaskRunner$$anonfun$10.apply(Executor.scala:408)\n\tat org.apache.spark.util.Utils$.tryWithSafeFinally(Utils.scala:1360)\n\tat org.apache.spark.executor.Executor$TaskRunner.run(Executor.scala:414)\n\tat java.util.concurrent.ThreadPoolExecutor.runWorker(ThreadPoolExecutor.java:1142)\n\tat java.util.concurrent.ThreadPoolExecutor$Worker.run(ThreadPoolExecutor.java:617)\n\tat java.lang.Thread.run(Thread.java:745)\nCaused by: org.apache.spark.SparkException: StringIndexer encountered NULL value. To handle or skip NULLS, try setting StringIndexer.handleInvalid.\n\tat org.apache.spark.ml.feature.StringIndexerModel$$anonfun$9.apply(StringIndexer.scala:251)\n\tat org.apache.spark.ml.feature.StringIndexerModel$$anonfun$9.apply(StringIndexer.scala:246)\n\t... 21 more\n\nDriver stacktrace:\n\tat org.apache.spark.scheduler.DAGScheduler.org$apache$spark$scheduler$DAGScheduler$$failJobAndIndependentStages(DAGScheduler.scala:1889)\n\tat org.apache.spark.scheduler.DAGScheduler$$anonfun$abortStage$1.apply(DAGScheduler.scala:1877)\n\tat org.apache.spark.scheduler.DAGScheduler$$anonfun$abortStage$1.apply(DAGScheduler.scala:1876)\n\tat scala.collection.mutable.ResizableArray$class.foreach(ResizableArray.scala:59)\n\tat scala.collection.mutable.ArrayBuffer.foreach(ArrayBuffer.scala:48)\n\tat org.apache.spark.scheduler.DAGScheduler.abortStage(DAGScheduler.scala:1876)\n\tat org.apache.spark.scheduler.DAGScheduler$$anonfun$handleTaskSetFailed$1.apply(DAGScheduler.scala:926)\n\tat org.apache.spark.scheduler.DAGScheduler$$anonfun$handleTaskSetFailed$1.apply(DAGScheduler.scala:926)\n\tat scala.Option.foreach(Option.scala:257)\n\tat org.apache.spark.scheduler.DAGScheduler.handleTaskSetFailed(DAGScheduler.scala:926)\n\tat org.apache.spark.scheduler.DAGSchedulerEventProcessLoop.doOnReceive(DAGScheduler.scala:2110)\n\tat org.apache.spark.scheduler.DAGSchedulerEventProcessLoop.onReceive(DAGScheduler.scala:2059)\n\tat org.apache.spark.scheduler.DAGSchedulerEventProcessLoop.onReceive(DAGScheduler.scala:2048)\n\tat org.apache.spark.util.EventLoop$$anon$1.run(EventLoop.scala:49)\n\tat org.apache.spark.scheduler.DAGScheduler.runJob(DAGScheduler.scala:737)\n\tat org.apache.spark.SparkContext.runJob(SparkContext.scala:2061)\n\tat org.apache.spark.SparkContext.runJob(SparkContext.scala:2082)\n\tat org.apache.spark.SparkContext.runJob(SparkContext.scala:2101)\n\tat org.apache.spark.sql.execution.SparkPlan.executeTake(SparkPlan.scala:365)\n\tat org.apache.spark.sql.execution.CollectLimitExec.executeCollect(limit.scala:38)\n\tat org.apache.spark.sql.Dataset.org$apache$spark$sql$Dataset$$collectFromPlan(Dataset.scala:3389)\n\tat org.apache.spark.sql.Dataset$$anonfun$head$1.apply(Dataset.scala:2550)\n\tat org.apache.spark.sql.Dataset$$anonfun$head$1.apply(Dataset.scala:2550)\n\tat org.apache.spark.sql.Dataset$$anonfun$52.apply(Dataset.scala:3370)\n\tat org.apache.spark.sql.execution.SQLExecution$$anonfun$withNewExecutionId$1.apply(SQLExecution.scala:78)\n\tat org.apache.spark.sql.execution.SQLExecution$.withSQLConfPropagated(SQLExecution.scala:125)\n\tat org.apache.spark.sql.execution.SQLExecution$.withNewExecutionId(SQLExecution.scala:73)\n\tat org.apache.spark.sql.Dataset.withAction(Dataset.scala:3369)\n\tat org.apache.spark.sql.Dataset.head(Dataset.scala:2550)\n\tat org.apache.spark.sql.Dataset.take(Dataset.scala:2764)\n\tat org.apache.spark.sql.Dataset.getRows(Dataset.scala:254)\n\tat org.apache.spark.sql.Dataset.showString(Dataset.scala:291)\n\tat sun.reflect.NativeMethodAccessorImpl.invoke0(Native Method)\n\tat sun.reflect.NativeMethodAccessorImpl.invoke(NativeMethodAccessorImpl.java:62)\n\tat sun.reflect.DelegatingMethodAccessorImpl.invoke(DelegatingMethodAccessorImpl.java:43)\n\tat java.lang.reflect.Method.invoke(Method.java:483)\n\tat py4j.reflection.MethodInvoker.invoke(MethodInvoker.java:244)\n\tat py4j.reflection.ReflectionEngine.invoke(ReflectionEngine.java:357)\n\tat py4j.Gateway.invoke(Gateway.java:282)\n\tat py4j.commands.AbstractCommand.invokeMethod(AbstractCommand.java:132)\n\tat py4j.commands.CallCommand.execute(CallCommand.java:79)\n\tat py4j.GatewayConnection.run(GatewayConnection.java:238)\n\tat java.lang.Thread.run(Thread.java:745)\nCaused by: org.apache.spark.SparkException: Failed to execute user defined function($anonfun$9: (string) => double)\n\tat org.apache.spark.sql.catalyst.expressions.GeneratedClass$GeneratedIteratorForCodegenStage1.processNext(Unknown Source)\n\tat org.apache.spark.sql.execution.BufferedRowIterator.hasNext(BufferedRowIterator.java:43)\n\tat org.apache.spark.sql.execution.WholeStageCodegenExec$$anonfun$13$$anon$1.hasNext(WholeStageCodegenExec.scala:636)\n\tat org.apache.spark.sql.execution.SparkPlan$$anonfun$2.apply(SparkPlan.scala:255)\n\tat org.apache.spark.sql.execution.SparkPlan$$anonfun$2.apply(SparkPlan.scala:247)\n\tat org.apache.spark.rdd.RDD$$anonfun$mapPartitionsInternal$1$$anonfun$apply$24.apply(RDD.scala:836)\n\tat org.apache.spark.rdd.RDD$$anonfun$mapPartitionsInternal$1$$anonfun$apply$24.apply(RDD.scala:836)\n\tat org.apache.spark.rdd.MapPartitionsRDD.compute(MapPartitionsRDD.scala:52)\n\tat org.apache.spark.rdd.RDD.computeOrReadCheckpoint(RDD.scala:324)\n\tat org.apache.spark.rdd.RDD.iterator(RDD.scala:288)\n\tat org.apache.spark.rdd.MapPartitionsRDD.compute(MapPartitionsRDD.scala:52)\n\tat org.apache.spark.rdd.RDD.computeOrReadCheckpoint(RDD.scala:324)\n\tat org.apache.spark.rdd.RDD.iterator(RDD.scala:288)\n\tat org.apache.spark.scheduler.ResultTask.runTask(ResultTask.scala:90)\n\tat org.apache.spark.scheduler.Task.run(Task.scala:123)\n\tat org.apache.spark.executor.Executor$TaskRunner$$anonfun$10.apply(Executor.scala:408)\n\tat org.apache.spark.util.Utils$.tryWithSafeFinally(Utils.scala:1360)\n\tat org.apache.spark.executor.Executor$TaskRunner.run(Executor.scala:414)\n\tat java.util.concurrent.ThreadPoolExecutor.runWorker(ThreadPoolExecutor.java:1142)\n\tat java.util.concurrent.ThreadPoolExecutor$Worker.run(ThreadPoolExecutor.java:617)\n\t... 1 more\nCaused by: org.apache.spark.SparkException: StringIndexer encountered NULL value. To handle or skip NULLS, try setting StringIndexer.handleInvalid.\n\tat org.apache.spark.ml.feature.StringIndexerModel$$anonfun$9.apply(StringIndexer.scala:251)\n\tat org.apache.spark.ml.feature.StringIndexerModel$$anonfun$9.apply(StringIndexer.scala:246)\n\t... 21 more\n"
     ]
    }
   ],
   "source": [
    "data.groupBy('model').count().show()\n",
    "\n",
    "indexer = StringIndexer(inputCol=\"model\", outputCol=\"model_num\")\n",
    "data = indexer.fit(data).transform(data)\n",
    "\n",
    "data.select(\"model\",\"model_num\").show(5, truncate=False)"
   ]
  },
  {
   "cell_type": "code",
   "execution_count": 17,
   "metadata": {},
   "outputs": [
    {
     "name": "stdout",
     "output_type": "stream",
     "text": [
      "+--------+------+\n",
      "|fuelType| count|\n",
      "+--------+------+\n",
      "|  benzin|224037|\n",
      "| elektro|   104|\n",
      "|    null| 33416|\n",
      "|  andere|   208|\n",
      "|  diesel|107826|\n",
      "|     cng|   571|\n",
      "|  hybrid|   280|\n",
      "|     lpg|  5382|\n",
      "+--------+------+\n",
      "\n",
      "+--------+------------+\n",
      "|fuelType|fuelType_num|\n",
      "+--------+------------+\n",
      "|benzin  |0.0         |\n",
      "|diesel  |1.0         |\n",
      "|diesel  |1.0         |\n",
      "|benzin  |0.0         |\n",
      "|diesel  |1.0         |\n",
      "+--------+------------+\n",
      "only showing top 5 rows\n",
      "\n"
     ]
    }
   ],
   "source": [
    "data.groupBy('fuelType').count().show()\n",
    "\n",
    "indexer = StringIndexer(inputCol=\"fuelType\", outputCol=\"fuelType_num\")\n",
    "data = indexer.fit(data).transform(data)\n",
    "\n",
    "data.select(\"fuelType\",\"fuelType_num\").show(5, truncate=False)"
   ]
  },
  {
   "cell_type": "code",
   "execution_count": 685,
   "metadata": {},
   "outputs": [
    {
     "name": "stdout",
     "output_type": "stream",
     "text": [
      "+-------------+-----+\n",
      "|        brand|count|\n",
      "+-------------+-----+\n",
      "|       jaguar|  451|\n",
      "|     daihatsu|   44|\n",
      "|   mitsubishi| 1176|\n",
      "|         lada|    2|\n",
      "|       toyota| 1830|\n",
      "|         seat| 2375|\n",
      "|         saab|  399|\n",
      "|   land_rover|  572|\n",
      "|      peugeot| 4046|\n",
      "|     chrysler|  931|\n",
      "|      citroen| 1552|\n",
      "|         audi|22685|\n",
      "|mercedes_benz|22978|\n",
      "|          bmw|28945|\n",
      "|       lancia|  128|\n",
      "|         jeep|  571|\n",
      "|        skoda| 2663|\n",
      "|        rover|  182|\n",
      "|      hyundai| 1530|\n",
      "|         ford| 9371|\n",
      "+-------------+-----+\n",
      "only showing top 20 rows\n",
      "\n",
      "+----------+---------+\n",
      "|brand     |brand_num|\n",
      "+----------+---------+\n",
      "|bmw       |1.0      |\n",
      "|peugeot   |7.0      |\n",
      "|mazda     |8.0      |\n",
      "|volkswagen|0.0      |\n",
      "|nissan    |15.0     |\n",
      "+----------+---------+\n",
      "only showing top 5 rows\n",
      "\n"
     ]
    }
   ],
   "source": [
    "data.groupBy('brand').count().show()\n",
    "\n",
    "indexer = StringIndexer(inputCol=\"brand\", outputCol=\"brand_num\")\n",
    "data = indexer.fit(data).transform(data)\n",
    "\n",
    "data.select(\"brand\",\"brand_num\").show(5, truncate=False)"
   ]
  },
  {
   "cell_type": "markdown",
   "metadata": {},
   "source": [
    "### Engineering New Features"
   ]
  },
  {
   "cell_type": "markdown",
   "metadata": {},
   "source": [
    "Now that our data is formatted in a more presentable way, lets try to engineer some new features that will aim to capture the problem we are trying to solve, that is predicting the price of a vehicle. "
   ]
  },
  {
   "cell_type": "markdown",
   "metadata": {},
   "source": [
    "The first feature we can think of adding is how often is the car driven. That is how many kilometers per year. We can create a new feature \"kilo_per_year\" to capture this value directly. "
   ]
  },
  {
   "cell_type": "code",
   "execution_count": 686,
   "metadata": {},
   "outputs": [
    {
     "name": "stdout",
     "output_type": "stream",
     "text": [
      "+------------------+---------+-------------+\n",
      "|yearOfRegistration|kilometer|kilo_per_year|\n",
      "+------------------+---------+-------------+\n",
      "|1995              |150000   |6666.6665    |\n",
      "|2004              |150000   |11111.111    |\n",
      "|2004              |150000   |11111.111    |\n",
      "|2005              |150000   |12000.0      |\n",
      "|2011              |70000    |10769.23     |\n",
      "|2007              |150000   |14285.714    |\n",
      "|2004              |150000   |11111.111    |\n",
      "|2009              |100000   |11764.706    |\n",
      "|2002              |150000   |9677.419     |\n",
      "|1990              |150000   |5454.5454    |\n",
      "|2002              |150000   |9677.419     |\n",
      "|1995              |150000   |6666.6665    |\n",
      "|2007              |20000    |1904.762     |\n",
      "|2004              |150000   |11111.111    |\n",
      "|2002              |150000   |9677.419     |\n",
      "+------------------+---------+-------------+\n",
      "only showing top 15 rows\n",
      "\n"
     ]
    }
   ],
   "source": [
    "from pyspark.sql.functions import udf\n",
    "from pyspark.sql.types import LongType, IntegerType, FloatType\n",
    "\n",
    "def kilo_per_year(start_year, total_kilo):\n",
    "    return (total_kilo) / (2017.5 - start_year)\n",
    "\n",
    "kilo_year_udf = udf(lambda x, y: kilo_per_year(x,y), FloatType())\n",
    "\n",
    "data = data.withColumn('kilo_per_year', kilo_year_udf('yearOfRegistration', 'kilometer'))\n",
    "\n",
    "data.select(\"yearOfRegistration\", \"kilometer\", \"kilo_per_year\").show(15, truncate=False)"
   ]
  },
  {
   "cell_type": "markdown",
   "metadata": {},
   "source": [
    "Furthermore, we note that we have two \"timestamp\" variables, \"lastSeen\" and \"dateCreated\". Using this information, we can infer how long it took the vehicle to sell by taking this difference. Thus, we will create a new variable, \"days_to_sell\"."
   ]
  },
  {
   "cell_type": "code",
   "execution_count": 687,
   "metadata": {},
   "outputs": [
    {
     "name": "stdout",
     "output_type": "stream",
     "text": [
      "+------------+-------------------+-------------------+\n",
      "|days_to_sell|lastSeen           |dateCreated        |\n",
      "+------------+-------------------+-------------------+\n",
      "|2.8035533   |2016-04-06 19:17:07|2016-04-04 00:00:00|\n",
      "|4.7629514   |2016-04-05 18:18:39|2016-04-01 00:00:00|\n",
      "|11.44831    |2016-04-06 10:45:34|2016-03-26 00:00:00|\n",
      "|0.43422455  |2016-04-07 10:25:17|2016-04-07 00:00:00|\n",
      "|16.323402   |2016-04-06 07:45:42|2016-03-21 00:00:00|\n",
      "|13.781377   |2016-04-05 18:45:11|2016-03-23 00:00:00|\n",
      "|4.948669    |2016-04-05 22:46:05|2016-04-01 00:00:00|\n",
      "|4.698484    |2016-04-05 16:45:49|2016-04-01 00:00:00|\n",
      "|11.280856   |2016-04-07 06:44:26|2016-03-27 00:00:00|\n",
      "|0.82001156  |2016-03-13 20:40:49|2016-03-13 00:00:00|\n",
      "|0.90565974  |2016-03-18 21:44:09|2016-03-18 00:00:00|\n",
      "|2.636169    |2016-04-05 15:16:05|2016-04-03 00:00:00|\n",
      "|13.19816    |2016-04-07 04:45:21|2016-03-25 00:00:00|\n",
      "|13.657061   |2016-03-30 15:46:10|2016-03-17 00:00:00|\n",
      "|4.532986    |2016-04-05 12:47:30|2016-04-01 00:00:00|\n",
      "+------------+-------------------+-------------------+\n",
      "only showing top 15 rows\n",
      "\n"
     ]
    }
   ],
   "source": [
    "import datetime\n",
    "import time\n",
    "import pyspark.sql.functions as fn\n",
    "\n",
    "data = data.withColumn('lastSeen_sec', fn.unix_timestamp(fn.col('lastSeen'), format='yyyy-MM-dd HH:mm:ss.000'))\n",
    "data = data.withColumn('dateCreated_sec', fn.unix_timestamp(fn.col('dateCreated'), format='yyyy-MM-dd HH:mm:ss.000'))\n",
    "\n",
    "timediffudf = udf(lambda x, y: (x - y) / (86400), FloatType())\n",
    "\n",
    "data = data.withColumn('days_to_sell', timediffudf('lastSeen_sec', 'dateCreated_sec'))\n",
    "\n",
    "data.select(\"days_to_sell\", \"lastSeen\", \"dateCreated\").show(15, truncate=False)"
   ]
  },
  {
   "cell_type": "markdown",
   "metadata": {},
   "source": [
    "Next, we note that we have an attribute called postal code. We note that a field like postal code in itself will not be very useful for a regression model as there will be potentially thousands of postal codes to interpret. We can extract a more meaningful significance of a postal code by taking its first digit and mapping it to one of the 10 regions below. "
   ]
  },
  {
   "cell_type": "markdown",
   "metadata": {},
   "source": [
    "<img src=\"German_postcode_information.png\">"
   ]
  },
  {
   "cell_type": "code",
   "execution_count": 688,
   "metadata": {},
   "outputs": [
    {
     "name": "stdout",
     "output_type": "stream",
     "text": [
      "+------+----------+\n",
      "|region|postalCode|\n",
      "+------+----------+\n",
      "|3     |33775     |\n",
      "|6     |67112     |\n",
      "|9     |96224     |\n",
      "|5     |57290     |\n",
      "|0     |4177      |\n",
      "|8     |88361     |\n",
      "|4     |49565     |\n",
      "|7     |75365     |\n",
      "|6     |68309     |\n",
      "|3     |35390     |\n",
      "|7     |73765     |\n",
      "|5     |53879     |\n",
      "|3     |39179     |\n",
      "|6     |67071     |\n",
      "|1     |10551     |\n",
      "+------+----------+\n",
      "only showing top 15 rows\n",
      "\n"
     ]
    }
   ],
   "source": [
    "import math\n",
    "\n",
    "def get_region(postal_code):\n",
    "    return int(math.floor(postal_code / 10000))\n",
    "\n",
    "region_udf = udf(lambda x: get_region(x), IntegerType())\n",
    "\n",
    "data = data.withColumn('region', region_udf('postalCode'))\n",
    "\n",
    "data.select(\"region\",\"postalCode\").show(15, truncate=False)"
   ]
  },
  {
   "cell_type": "markdown",
   "metadata": {},
   "source": [
    "Now we can drop all of the fields that we no longer need now that we have transformed our original features."
   ]
  },
  {
   "cell_type": "code",
   "execution_count": 689,
   "metadata": {},
   "outputs": [],
   "source": [
    "drop_fields = ['vehicleType', 'model', 'gearbox', 'monthOfRegistration', 'fuelType', 'brand', 'notRepairedDamage', 'dateCreated', 'nrOfPictures', 'postalCode', 'lastSeen', 'dateCreated_sec', 'lastSeen_sec']\n",
    "data = data.drop(*drop_fields)"
   ]
  },
  {
   "cell_type": "code",
   "execution_count": 690,
   "metadata": {},
   "outputs": [],
   "source": [
    "for col in data.columns: #Cast all fields to double\n",
    "  data = data.withColumn(\n",
    "    col,\n",
    "    fn.col(col).cast(\"double\")\n",
    "  )"
   ]
  },
  {
   "cell_type": "code",
   "execution_count": 691,
   "metadata": {},
   "outputs": [
    {
     "name": "stdout",
     "output_type": "stream",
     "text": [
      "root\n",
      " |-- price: double (nullable = true)\n",
      " |-- yearOfRegistration: double (nullable = true)\n",
      " |-- powerPS: double (nullable = true)\n",
      " |-- kilometer: double (nullable = true)\n",
      " |-- gearbox_num: double (nullable = false)\n",
      " |-- vehicleType_num: double (nullable = false)\n",
      " |-- model_num: double (nullable = false)\n",
      " |-- fuelType_num: double (nullable = false)\n",
      " |-- brand_num: double (nullable = false)\n",
      " |-- kilo_per_year: double (nullable = true)\n",
      " |-- days_to_sell: double (nullable = true)\n",
      " |-- region: double (nullable = true)\n",
      "\n"
     ]
    }
   ],
   "source": [
    "data.printSchema()"
   ]
  },
  {
   "cell_type": "markdown",
   "metadata": {},
   "source": [
    "## Feature Elimination"
   ]
  },
  {
   "cell_type": "markdown",
   "metadata": {},
   "source": [
    "Now, we want to see if any of our variables are highly correlated. If we see any high correlations between variables, we may want to remove them. "
   ]
  },
  {
   "cell_type": "code",
   "execution_count": 692,
   "metadata": {},
   "outputs": [],
   "source": [
    "from pyspark.ml.stat import Correlation\n",
    "from pyspark.ml.feature import VectorAssembler\n",
    "\n",
    "# convert to vector column first\n",
    "vector_col = \"corr_features\"\n",
    "assembler = VectorAssembler(inputCols=data.columns, outputCol=vector_col)\n",
    "data_vector = assembler.transform(data).select(vector_col)\n",
    "\n",
    "matrix = Correlation.corr(data_vector, vector_col)"
   ]
  },
  {
   "cell_type": "code",
   "execution_count": 693,
   "metadata": {},
   "outputs": [
    {
     "name": "stdout",
     "output_type": "stream",
     "text": [
      "['price', 'yearOfRegistration', 'powerPS', 'kilometer', 'gearbox_num', 'vehicleType_num', 'model_num', 'fuelType_num', 'brand_num', 'kilo_per_year', 'days_to_sell', 'region']\n"
     ]
    },
    {
     "data": {
      "text/plain": [
       "(12.0, 0.0)"
      ]
     },
     "execution_count": 693,
     "metadata": {},
     "output_type": "execute_result"
    },
    {
     "data": {
      "image/png": "[encoded data removed]",
      "text/plain": [
       "<Figure size 1440x1008 with 2 Axes>"
      ]
     },
     "metadata": {
      "needs_background": "light"
     },
     "output_type": "display_data"
    }
   ],
   "source": [
    "import matplotlib.pyplot as plt\n",
    "import seaborn as sns\n",
    "\n",
    "print(data.columns)\n",
    "\n",
    "# get correlation matrix\n",
    "corrmatrix = matrix.collect()[0][0].toArray().tolist()\n",
    "\n",
    "plt.figure(figsize = (20,14))\n",
    "ax = sns.heatmap(corrmatrix, annot=True) #notation: \"annot\" not \"annote\"\n",
    "bottom, top = ax.get_ylim()\n",
    "ax.set_ylim(bottom + 0.5, top - 0.5)"
   ]
  },
  {
   "cell_type": "markdown",
   "metadata": {},
   "source": [
    "Looking at the plot, we see anything unexpected. We notice that 'yearOfRegistration' and 'kilometer' have a correlation coefficient of -0.47 which is expected for cars with higher kilometer values will very likely have a smaller year of registration. Similarily, we see that 'yearOfRegistration' and 'kilo_per_year' are correlated with a coefficient of 0.52 which also makes sense as newer cars will likely be driven more when they are newer. Regardless of these correlations, the highest magnitude of correlation that was see is 0.52, which seems to indicate that we do not need to remove features because of high correlation with other features."
   ]
  },
  {
   "cell_type": "code",
   "execution_count": 694,
   "metadata": {},
   "outputs": [
    {
     "data": {
      "text/plain": [
       "['price',\n",
       " 'yearOfRegistration',\n",
       " 'powerPS',\n",
       " 'kilometer',\n",
       " 'gearbox_num',\n",
       " 'vehicleType_num',\n",
       " 'model_num',\n",
       " 'fuelType_num',\n",
       " 'brand_num',\n",
       " 'kilo_per_year',\n",
       " 'days_to_sell',\n",
       " 'region']"
      ]
     },
     "execution_count": 694,
     "metadata": {},
     "output_type": "execute_result"
    }
   ],
   "source": [
    "data.columns"
   ]
  },
  {
   "cell_type": "markdown",
   "metadata": {},
   "source": [
    "### Principal Component Analysis"
   ]
  },
  {
   "cell_type": "markdown",
   "metadata": {},
   "source": [
    "Principal Component Analysis or PCA for short, is a very common preprocessing technique in machine learning that involves transforming vectors in our original feature space into a new space where the resulting principal components are very loosely correlated to one another. PCA is especially helpful in regression models, as it helps model stability and allows us to remove variables by simply dropping some of the least significant principal components."
   ]
  },
  {
   "cell_type": "code",
   "execution_count": 695,
   "metadata": {},
   "outputs": [
    {
     "name": "stdout",
     "output_type": "stream",
     "text": [
      "+-------+--------------------+\n",
      "|  price|            features|\n",
      "+-------+--------------------+\n",
      "|  650.0|[1995.0,102.0,150...|\n",
      "| 2200.0|[2004.0,109.0,150...|\n",
      "| 2000.0|[2004.0,105.0,150...|\n",
      "| 2799.0|[2005.0,140.0,150...|\n",
      "|17999.0|[2011.0,190.0,700...|\n",
      "| 7550.0|[2007.0,136.0,150...|\n",
      "| 1850.0|[2004.0,102.0,150...|\n",
      "|10400.0|[2009.0,160.0,100...|\n",
      "| 3699.0|[2002.0,231.0,150...|\n",
      "|  500.0|[1990.0,118.0,150...|\n",
      "| 2500.0|[2002.0,193.0,150...|\n",
      "| 3300.0|[1995.0,113.0,150...|\n",
      "|18000.0|[2007.0,218.0,200...|\n",
      "| 3500.0|[2004.0,122.0,150...|\n",
      "|11900.0|[2002.0,129.0,150...|\n",
      "| 7999.0|[2007.0,177.0,150...|\n",
      "| 2100.0|[1998.0,193.0,150...|\n",
      "|13500.0|[2012.0,109.0,150...|\n",
      "|39600.0|[2014.0,306.0,300...|\n",
      "| 1000.0|[1998.0,101.0,150...|\n",
      "+-------+--------------------+\n",
      "only showing top 20 rows\n",
      "\n"
     ]
    }
   ],
   "source": [
    "from pyspark.ml.feature import VectorAssembler\n",
    "from pyspark.ml.feature import PCA\n",
    "\n",
    "featurecols =  ['yearOfRegistration','powerPS','kilometer','gearbox_num','vehicleType_num','model_num','fuelType_num','brand_num','kilo_per_year','days_to_sell','region']\n",
    "\n",
    "#Create a new dataframe with one field with entries as 10-dimensional vectors\n",
    "assembler = VectorAssembler(inputCols = featurecols, outputCol=\"features\")\n",
    "feature_df = assembler.transform(data).select(\"price\", \"features\")\n",
    "\n",
    "feature_df.show()"
   ]
  },
  {
   "cell_type": "code",
   "execution_count": 696,
   "metadata": {},
   "outputs": [
    {
     "name": "stdout",
     "output_type": "stream",
     "text": [
      "+-------+--------------------+\n",
      "|  price|                 pca|\n",
      "+-------+--------------------+\n",
      "|  650.0|[150141.548236219...|\n",
      "| 2200.0|[150297.975354593...|\n",
      "| 2000.0|[150297.975590730...|\n",
      "| 2799.0|[150329.259738392...|\n",
      "|17999.0|[70335.4848256455...|\n",
      "| 7550.0|[150409.704141529...|\n",
      "| 1850.0|[150297.975941595...|\n",
      "|10400.0|[100351.949732278...|\n",
      "| 3699.0|[150247.500474296...|\n",
      "|  500.0|[150098.883503623...|\n",
      "| 2500.0|[150247.505377367...|\n",
      "| 3300.0|[150141.546042869...|\n",
      "|18000.0|[20054.4791629166...|\n",
      "| 3500.0|[150297.975171230...|\n",
      "|11900.0|[150247.513668057...|\n",
      "| 7999.0|[150409.704320907...|\n",
      "| 2100.0|[150177.635648140...|\n",
      "|13500.0|[150866.812458448...|\n",
      "|39600.0|[30282.9180553003...|\n",
      "| 1000.0|[150177.647343135...|\n",
      "+-------+--------------------+\n",
      "only showing top 20 rows\n",
      "\n"
     ]
    }
   ],
   "source": [
    "pca = PCA(k=9, inputCol=\"features\", outputCol=\"pca\")\n",
    "model = pca.fit(feature_df)\n",
    "transformed = model.transform(feature_df)\n",
    "\n",
    "transformed = transformed.drop(\"features\")\n",
    "\n",
    "transformed.show()"
   ]
  },
  {
   "cell_type": "markdown",
   "metadata": {},
   "source": [
    "Now that we have performed PCA, all we have to do is scale our data."
   ]
  },
  {
   "cell_type": "code",
   "execution_count": 697,
   "metadata": {},
   "outputs": [
    {
     "name": "stderr",
     "output_type": "stream",
     "text": [
      "Exception ignored in: <function JavaWrapper.__del__ at 0x000002238D909A68>\n",
      "Traceback (most recent call last):\n",
      "  File \"C:\\Users\\1019l\\Anaconda3\\lib\\site-packages\\pyspark\\ml\\wrapper.py\", line 40, in __del__\n",
      "    if SparkContext._active_spark_context and self._java_obj is not None:\n",
      "AttributeError: 'RegressionEvaluator' object has no attribute '_java_obj'\n"
     ]
    },
    {
     "name": "stdout",
     "output_type": "stream",
     "text": [
      "+-------+--------------------+--------------------+\n",
      "|  price|                 pca|     scaled_features|\n",
      "+-------+--------------------+--------------------+\n",
      "|  650.0|[150141.548236219...|[0.61891010114022...|\n",
      "| 2200.0|[150297.975354593...|[0.62288941085892...|\n",
      "| 2000.0|[150297.975590730...|[0.62288941686595...|\n",
      "| 2799.0|[150329.259738392...|[0.62368524634954...|\n",
      "|17999.0|[70335.4848256455...|[-1.4112560685239...|\n",
      "| 7550.0|[150409.704141529...|[0.62573165108129...|\n",
      "| 1850.0|[150297.975941595...|[0.62288942579151...|\n",
      "|10400.0|[100351.949732278...|[-0.6476748444651...|\n",
      "| 3699.0|[150247.500474296...|[0.62160539320390...|\n",
      "|  500.0|[150098.883503623...|[0.61782476384813...|\n",
      "| 2500.0|[150247.505377367...|[0.62160551793189...|\n",
      "| 3300.0|[150141.546042869...|[0.61891004534414...|\n",
      "|18000.0|[20054.4791629166...|[-2.6903417959830...|\n",
      "| 3500.0|[150297.975171230...|[0.62288940619441...|\n",
      "|11900.0|[150247.513668057...|[0.62160572883665...|\n",
      "| 7999.0|[150409.704320907...|[0.62573165564444...|\n",
      "| 2100.0|[150177.635648140...|[0.61982811964285...|\n",
      "|13500.0|[150866.812458448...|[0.63735991341153...|\n",
      "|39600.0|[30282.9180553003...|[-2.4301431378815...|\n",
      "| 1000.0|[150177.647343135...|[0.61982841714886...|\n",
      "+-------+--------------------+--------------------+\n",
      "only showing top 20 rows\n",
      "\n"
     ]
    }
   ],
   "source": [
    "from pyspark.ml.feature import StandardScaler\n",
    "\n",
    "scaler = StandardScaler(inputCol=\"pca\", outputCol=\"scaled_features\", withStd=True, withMean=True)\n",
    "scaled_df = scaler.fit(transformed).transform(transformed)\n",
    "\n",
    "scaled_df.show()"
   ]
  },
  {
   "cell_type": "code",
   "execution_count": 698,
   "metadata": {},
   "outputs": [],
   "source": [
    "scaled_df = scaled_df.drop('pca')"
   ]
  },
  {
   "cell_type": "markdown",
   "metadata": {},
   "source": [
    "Now that all of our data is scaled we are ready to train our model. "
   ]
  },
  {
   "cell_type": "markdown",
   "metadata": {},
   "source": [
    "# Model"
   ]
  },
  {
   "cell_type": "markdown",
   "metadata": {},
   "source": [
    "Before we begin training our model, we will have to partition our dataset into a training and test set."
   ]
  },
  {
   "cell_type": "code",
   "execution_count": 699,
   "metadata": {},
   "outputs": [
    {
     "name": "stdout",
     "output_type": "stream",
     "text": [
      "Train Data Count: 134736\n",
      "\n",
      "+------+--------------------+\n",
      "|target|            features|\n",
      "+------+--------------------+\n",
      "| 100.0|[0.61842256712043...|\n",
      "| 100.0|[0.61842274042243...|\n",
      "| 100.0|[0.61891004511546...|\n",
      "| 110.0|[0.61918770628867...|\n",
      "| 120.0|[0.61891003236583...|\n",
      "| 130.0|[0.61890959265765...|\n",
      "| 150.0|[-0.0176595646746...|\n",
      "| 150.0|[0.61918735865376...|\n",
      "| 150.0|[0.61949192467953...|\n",
      "| 150.0|[0.62220301014914...|\n",
      "| 150.0|[0.62573153093785...|\n",
      "| 160.0|[0.62020056892195...|\n",
      "| 180.0|[0.61918769443298...|\n",
      "| 180.0|[0.62108049139223...|\n",
      "| 199.0|[0.61949230874896...|\n",
      "| 200.0|[0.61800905810722...|\n",
      "| 200.0|[0.61842274264740...|\n",
      "| 200.0|[0.61891001593869...|\n",
      "| 200.0|[0.61949185403424...|\n",
      "| 200.0|[0.61949234978829...|\n",
      "+------+--------------------+\n",
      "only showing top 20 rows\n",
      "\n",
      "Test Data Count: 34034\n",
      "\n",
      "+------+--------------------+\n",
      "|target|            features|\n",
      "+------+--------------------+\n",
      "| 150.0|[0.61949245716459...|\n",
      "| 150.0|[0.61982831775472...|\n",
      "| 150.0|[0.61982833190765...|\n",
      "| 180.0|[0.61949241446823...|\n",
      "| 199.0|[0.61918768908478...|\n",
      "| 200.0|[0.61820780075473...|\n",
      "| 200.0|[0.61949231398745...|\n",
      "| 222.0|[0.61982832190025...|\n",
      "| 250.0|[0.61918769804684...|\n",
      "| 250.0|[0.62061518321808...|\n",
      "| 250.0|[0.62108057534231...|\n",
      "| 300.0|[0.61800856485567...|\n",
      "| 300.0|[0.61865593340123...|\n",
      "| 300.0|[0.62020044221202...|\n",
      "| 300.0|[0.62108067467084...|\n",
      "| 300.0|[0.62220308682101...|\n",
      "| 350.0|[-2.6911734337177...|\n",
      "| 350.0|[0.61865603461948...|\n",
      "| 350.0|[0.61982811804290...|\n",
      "| 370.0|[0.62108024119913...|\n",
      "+------+--------------------+\n",
      "only showing top 20 rows\n",
      "\n"
     ]
    }
   ],
   "source": [
    "train_data, test_data = scaled_df.withColumnRenamed(\"price\", \"target\").withColumnRenamed(\"scaled_features\", \"features\") \\\n",
    ".randomSplit([.8,.2],seed=4710)\n",
    "\n",
    "print('Train Data Count: {0}\\n'.format(train_data.count()))\n",
    "train_data.show()\n",
    "print('Test Data Count: {0}\\n'.format(test_data.count()))\n",
    "test_data.show()"
   ]
  },
  {
   "cell_type": "markdown",
   "metadata": {},
   "source": [
    "Good, now we are ready to train our base models for our ensemble model."
   ]
  },
  {
   "cell_type": "markdown",
   "metadata": {},
   "source": [
    "### Linear Regression"
   ]
  },
  {
   "cell_type": "code",
   "execution_count": 700,
   "metadata": {},
   "outputs": [],
   "source": [
    "from pyspark.ml.regression import LinearRegression\n",
    "\n",
    "lr = LinearRegression(labelCol=\"target\", predictionCol=\"lr_predict\", maxIter=25, regParam=0.3, elasticNetParam=0.8)\n",
    "\n",
    "linearModel = lr.fit(train_data)"
   ]
  },
  {
   "cell_type": "code",
   "execution_count": 701,
   "metadata": {},
   "outputs": [
    {
     "name": "stdout",
     "output_type": "stream",
     "text": [
      "+------------------+-------+\n",
      "|        lr_predict| target|\n",
      "+------------------+-------+\n",
      "| 7927.131672542593|12500.0|\n",
      "| 7134.037349520637| 1300.0|\n",
      "| 9326.994244696445| 7300.0|\n",
      "|3539.3226373681155| 2300.0|\n",
      "| 2963.014979096458| 3199.0|\n",
      "+------------------+-------+\n",
      "\n"
     ]
    }
   ],
   "source": [
    "from pyspark.sql.functions import rand\n",
    "\n",
    "lrpredictions = linearModel.transform(test_data)\n",
    "\n",
    "lrpredictions.select(\"lr_predict\", \"target\").orderBy(rand(4710)).limit(5).show()"
   ]
  },
  {
   "cell_type": "code",
   "execution_count": 702,
   "metadata": {},
   "outputs": [
    {
     "name": "stdout",
     "output_type": "stream",
     "text": [
      "RMSE: 6111.850360817967\n",
      "\n"
     ]
    }
   ],
   "source": [
    "from pyspark.ml.evaluation import RegressionEvaluator\n",
    "\n",
    "evaluator = RegressionEvaluator(labelCol=\"target\", predictionCol=\"lr_predict\", metricName=\"rmse\")\n",
    "rmse = evaluator.evaluate(lrpredictions)\n",
    "print(\"RMSE: {0}\\n\".format(rmse))"
   ]
  },
  {
   "cell_type": "markdown",
   "metadata": {},
   "source": [
    "### Decision Tree"
   ]
  },
  {
   "cell_type": "code",
   "execution_count": 703,
   "metadata": {},
   "outputs": [],
   "source": [
    "from pyspark.ml.regression import DecisionTreeRegressor\n",
    "\n",
    "dtr = DecisionTreeRegressor(labelCol=\"target\", predictionCol=\"dtr_predict\")\n",
    "\n",
    "decisionTreeModel = dtr.fit(train_data)"
   ]
  },
  {
   "cell_type": "code",
   "execution_count": 704,
   "metadata": {},
   "outputs": [
    {
     "name": "stdout",
     "output_type": "stream",
     "text": [
      "+-----------------+-------+\n",
      "|      dtr_predict| target|\n",
      "+-----------------+-------+\n",
      "|2449.945568285317|12500.0|\n",
      "|4948.906739166255| 1300.0|\n",
      "|4948.906739166255| 7300.0|\n",
      "|2449.945568285317| 2300.0|\n",
      "|2449.945568285317| 3199.0|\n",
      "+-----------------+-------+\n",
      "\n"
     ]
    }
   ],
   "source": [
    "dtrpredictions = decisionTreeModel.transform(test_data)\n",
    "\n",
    "dtrpredictions.select(\"dtr_predict\", \"target\").orderBy(rand(4710)).limit(5).show()"
   ]
  },
  {
   "cell_type": "code",
   "execution_count": 705,
   "metadata": {},
   "outputs": [
    {
     "name": "stdout",
     "output_type": "stream",
     "text": [
      "RMSE: 5673.493658152552\n",
      "\n"
     ]
    }
   ],
   "source": [
    "evaluator = RegressionEvaluator(labelCol=\"target\", predictionCol=\"dtr_predict\", metricName=\"rmse\")\n",
    "rmse = evaluator.evaluate(dtrpredictions)\n",
    "print(\"RMSE: {0}\\n\".format(rmse))"
   ]
  },
  {
   "cell_type": "markdown",
   "metadata": {},
   "source": [
    "### Random Forest"
   ]
  },
  {
   "cell_type": "code",
   "execution_count": 706,
   "metadata": {},
   "outputs": [],
   "source": [
    "from pyspark.ml.regression import RandomForestRegressor\n",
    "\n",
    "rfr = RandomForestRegressor(labelCol=\"target\", predictionCol=\"rfr_predict\")\n",
    "\n",
    "randomForestmodel = rfr.fit(train_data)"
   ]
  },
  {
   "cell_type": "code",
   "execution_count": 707,
   "metadata": {},
   "outputs": [
    {
     "name": "stdout",
     "output_type": "stream",
     "text": [
      "+-----------------+-------+\n",
      "|      rfr_predict| target|\n",
      "+-----------------+-------+\n",
      "|3499.623512666735|12500.0|\n",
      "|4093.854060932722| 1300.0|\n",
      "|4279.148381318414| 7300.0|\n",
      "|3499.623512666735| 2300.0|\n",
      "|3164.627858713663| 3199.0|\n",
      "+-----------------+-------+\n",
      "\n"
     ]
    }
   ],
   "source": [
    "rfrpredictions = randomForestmodel.transform(test_data)\n",
    "\n",
    "rfrpredictions.select(\"rfr_predict\", \"target\").orderBy(rand(4710)).limit(5).show()"
   ]
  },
  {
   "cell_type": "code",
   "execution_count": 708,
   "metadata": {},
   "outputs": [
    {
     "name": "stdout",
     "output_type": "stream",
     "text": [
      "RMSE: 5660.510776837747\n",
      "\n"
     ]
    }
   ],
   "source": [
    "evaluator = RegressionEvaluator(labelCol=\"target\", predictionCol=\"rfr_predict\", metricName=\"rmse\")\n",
    "rmse = evaluator.evaluate(rfrpredictions)\n",
    "print(\"RMSE: {0}\\n\".format(rmse))"
   ]
  },
  {
   "cell_type": "markdown",
   "metadata": {},
   "source": [
    "### Gradient-boosted Tree Regression"
   ]
  },
  {
   "cell_type": "code",
   "execution_count": 709,
   "metadata": {},
   "outputs": [],
   "source": [
    "from pyspark.ml.regression import GBTRegressor\n",
    "\n",
    "gbt = GBTRegressor(labelCol=\"target\", predictionCol=\"gbt_predict\")\n",
    "\n",
    "GBTModel = gbt.fit(train_data)"
   ]
  },
  {
   "cell_type": "code",
   "execution_count": 710,
   "metadata": {},
   "outputs": [
    {
     "name": "stdout",
     "output_type": "stream",
     "text": [
      "+------------------+-------+\n",
      "|       gbt_predict| target|\n",
      "+------------------+-------+\n",
      "| 6980.757297384484|12500.0|\n",
      "| 3847.158092898947| 1300.0|\n",
      "|5088.2603866954105| 7300.0|\n",
      "|1870.0302868209349| 2300.0|\n",
      "| 898.3899688230628| 3199.0|\n",
      "+------------------+-------+\n",
      "\n"
     ]
    }
   ],
   "source": [
    "gbtpredictions = GBTModel.transform(test_data)\n",
    "\n",
    "gbtpredictions.select(\"gbt_predict\", \"target\").orderBy(rand(4710)).limit(5).show()"
   ]
  },
  {
   "cell_type": "code",
   "execution_count": 711,
   "metadata": {},
   "outputs": [
    {
     "name": "stdout",
     "output_type": "stream",
     "text": [
      "RMSE: 4864.4646622488945\n",
      "\n"
     ]
    }
   ],
   "source": [
    "evaluator = RegressionEvaluator(labelCol=\"target\", predictionCol=\"gbt_predict\", metricName=\"rmse\")\n",
    "rmse = evaluator.evaluate(gbtpredictions)\n",
    "print(\"RMSE: {0}\\n\".format(rmse))"
   ]
  },
  {
   "cell_type": "markdown",
   "metadata": {},
   "source": [
    "It seems like our gradient-boosted tree regression algorithm performed the best, thus we will use that as our meta learner."
   ]
  },
  {
   "cell_type": "markdown",
   "metadata": {},
   "source": [
    "## Ensemble Model"
   ]
  },
  {
   "cell_type": "code",
   "execution_count": 720,
   "metadata": {},
   "outputs": [
    {
     "name": "stdout",
     "output_type": "stream",
     "text": [
      "+-------------------+------------------+------------------+------------------+\n",
      "|         lr_predict|       dtr_predict|       rfr_predict|       gbt_predict|\n",
      "+-------------------+------------------+------------------+------------------+\n",
      "|  871.6298297752301| 2449.945568285317|3113.3609987930386|1501.0021531601792|\n",
      "| 15488.783300903755| 5405.160399334442|  9890.69562339402| 5292.145301940059|\n",
      "| 343.69104995772796| 2449.945568285317|3068.8516465749176|1094.1025647971423|\n",
      "| 1069.1613092920488| 2449.945568285317|4065.4427245371908|1061.7065263605039|\n",
      "|  686.4694117554673| 2449.945568285317| 4363.716526684979|3095.1749440592757|\n",
      "| 1251.1828585174972| 2449.945568285317| 4363.716526684979| 2637.397793621553|\n",
      "|-1252.7223762667745| 2449.945568285317|3113.3609987930386|1316.8113566781287|\n",
      "|  5792.552674905766| 4948.906739166255|  6287.32616598586| 4759.445702673936|\n",
      "|  1806.091517728135| 2449.945568285317|4065.4427245371908|1665.1297270563728|\n",
      "| 4021.0534024041035| 4948.906739166255| 5227.985860155355|3379.6458910537253|\n",
      "|-1187.8833288783171| 2449.945568285317|3113.3609987930386|1339.8257664114267|\n",
      "|  2721.623926623349| 4995.443586698338|4963.0064400645915| 4588.592018954142|\n",
      "| 3157.2534544392256| 2449.945568285317| 4363.716526684979|2197.3446578674184|\n",
      "|  909.0661124816552| 2449.945568285317| 3164.627858713663|1145.2122827727248|\n",
      "|  5147.788093209905| 2449.945568285317|  3595.39972480548| 6749.414157418649|\n",
      "| 2058.8695158191376| 2449.945568285317|3113.3609987930386|2950.3456258235638|\n",
      "| 4956.4577875344185| 2449.945568285317| 3499.623512666735|2253.2986316469774|\n",
      "| 2595.5993462864617| 2449.945568285317|3113.3609987930386|2860.3057423732757|\n",
      "| 2080.3767040374896| 2449.945568285317| 4493.492217536976|2329.2257865553975|\n",
      "| 10002.751234964855|11505.005892351275| 9024.833238643178| 6386.650982460493|\n",
      "+-------------------+------------------+------------------+------------------+\n",
      "only showing top 20 rows\n",
      "\n",
      "+--------------------+\n",
      "|   features_combined|\n",
      "+--------------------+\n",
      "|[871.629829775230...|\n",
      "|[15488.7833009037...|\n",
      "|[343.691049957727...|\n",
      "|[1069.16130929204...|\n",
      "|[686.469411755467...|\n",
      "|[1251.18285851749...|\n",
      "|[-1252.7223762667...|\n",
      "|[5792.55267490576...|\n",
      "|[1806.09151772813...|\n",
      "|[4021.05340240410...|\n",
      "|[-1187.8833288783...|\n",
      "|[2721.62392662334...|\n",
      "|[3157.25345443922...|\n",
      "|[909.066112481655...|\n",
      "|[5147.78809320990...|\n",
      "|[2058.86951581913...|\n",
      "|[4956.45778753441...|\n",
      "|[2595.59934628646...|\n",
      "|[2080.37670403748...|\n",
      "|[10002.7512349648...|\n",
      "+--------------------+\n",
      "only showing top 20 rows\n",
      "\n"
     ]
    }
   ],
   "source": [
    "metaRegressor = GBTRegressor(featuresCol = \"features_combined\", labelCol=\"target\", predictionCol=\"meta_predict\")\n",
    "\n",
    "lroutput = linearModel.transform(train_data).select(\"lr_predict\").withColumn(\"id\", monotonically_increasing_id())\n",
    "dtroutput = decisionTreeModel.transform(train_data).select(\"dtr_predict\").withColumn(\"id\", monotonically_increasing_id())\n",
    "rfroutput = randomForestmodel.transform(train_data).select(\"rfr_predict\").withColumn(\"id\", monotonically_increasing_id())\n",
    "gbtoutput = GBTModel.transform(train_data).select(\"gbt_predict\").withColumn(\"id\", monotonically_increasing_id())\n",
    "\n",
    "combined_output = lroutput.join(dtroutput.join(rfroutput.join(gbtoutput, \"id\", \"outer\"), \"id\", \"outer\"), \"id\", \"outer\").drop(\"id\")\n",
    "\n",
    "combined_output.show()\n",
    "\n",
    "assembler = VectorAssembler(inputCols = combined_output.columns, outputCol=\"features_combined\")\n",
    "combined_output = assembler.transform(combined_output).select(\"features_combined\")\n",
    "\n",
    "combined_output.show()"
   ]
  },
  {
   "cell_type": "code",
   "execution_count": 721,
   "metadata": {},
   "outputs": [
    {
     "name": "stdout",
     "output_type": "stream",
     "text": [
      "+--------------------+---+\n",
      "|   features_combined| id|\n",
      "+--------------------+---+\n",
      "|[871.629829775230...|  0|\n",
      "|[15488.7833009037...|  1|\n",
      "|[343.691049957727...|  2|\n",
      "|[1069.16130929204...|  3|\n",
      "|[686.469411755467...|  4|\n",
      "|[1251.18285851749...|  5|\n",
      "|[-1252.7223762667...|  6|\n",
      "|[5792.55267490576...|  7|\n",
      "|[1806.09151772813...|  8|\n",
      "|[4021.05340240410...|  9|\n",
      "|[-1187.8833288783...| 10|\n",
      "|[2721.62392662334...| 11|\n",
      "|[3157.25345443922...| 12|\n",
      "|[909.066112481655...| 13|\n",
      "|[5147.78809320990...| 14|\n",
      "|[2058.86951581913...| 15|\n",
      "|[4956.45778753441...| 16|\n",
      "|[2595.59934628646...| 17|\n",
      "|[2080.37670403748...| 18|\n",
      "|[10002.7512349648...| 19|\n",
      "+--------------------+---+\n",
      "only showing top 20 rows\n",
      "\n",
      "+------+---+\n",
      "|target| id|\n",
      "+------+---+\n",
      "| 100.0|  0|\n",
      "| 100.0|  1|\n",
      "| 100.0|  2|\n",
      "| 110.0|  3|\n",
      "| 120.0|  4|\n",
      "| 130.0|  5|\n",
      "| 150.0|  6|\n",
      "| 150.0|  7|\n",
      "| 150.0|  8|\n",
      "| 150.0|  9|\n",
      "| 150.0| 10|\n",
      "| 160.0| 11|\n",
      "| 180.0| 12|\n",
      "| 180.0| 13|\n",
      "| 199.0| 14|\n",
      "| 200.0| 15|\n",
      "| 200.0| 16|\n",
      "| 200.0| 17|\n",
      "| 200.0| 18|\n",
      "| 200.0| 19|\n",
      "+------+---+\n",
      "only showing top 20 rows\n",
      "\n"
     ]
    }
   ],
   "source": [
    "combined_output = combined_output.withColumn(\"id\", monotonically_increasing_id())\n",
    "\n",
    "labels = train_data.select(\"target\").withColumn(\"id\", monotonically_increasing_id())\n",
    "\n",
    "combined_output.show()\n",
    "labels.show()"
   ]
  },
  {
   "cell_type": "code",
   "execution_count": 722,
   "metadata": {},
   "outputs": [
    {
     "name": "stdout",
     "output_type": "stream",
     "text": [
      "+------+--------------------+\n",
      "|target|   features_combined|\n",
      "+------+--------------------+\n",
      "| 100.0|[871.629829775230...|\n",
      "| 100.0|[15488.7833009037...|\n",
      "| 100.0|[343.691049957727...|\n",
      "| 110.0|[1069.16130929204...|\n",
      "| 120.0|[686.469411755467...|\n",
      "| 130.0|[1251.18285851749...|\n",
      "| 150.0|[-1252.7223762667...|\n",
      "| 150.0|[5792.55267490576...|\n",
      "| 150.0|[1806.09151772813...|\n",
      "| 150.0|[4021.05340240410...|\n",
      "| 150.0|[-1187.8833288783...|\n",
      "| 160.0|[2721.62392662334...|\n",
      "| 180.0|[3157.25345443922...|\n",
      "| 180.0|[909.066112481655...|\n",
      "| 199.0|[5147.78809320990...|\n",
      "| 200.0|[2058.86951581913...|\n",
      "| 200.0|[4956.45778753441...|\n",
      "| 200.0|[2595.59934628646...|\n",
      "| 200.0|[2080.37670403748...|\n",
      "| 200.0|[10002.7512349648...|\n",
      "+------+--------------------+\n",
      "only showing top 20 rows\n",
      "\n"
     ]
    }
   ],
   "source": [
    "new_out = labels.join(combined_output, labels.id==combined_output.id).drop(\"id\")\n",
    "\n",
    "new_out.show()"
   ]
  },
  {
   "cell_type": "code",
   "execution_count": 725,
   "metadata": {},
   "outputs": [],
   "source": [
    "metamodel = metaRegressor.fit(new_out)"
   ]
  },
  {
   "cell_type": "code",
   "execution_count": 726,
   "metadata": {},
   "outputs": [
    {
     "name": "stdout",
     "output_type": "stream",
     "text": [
      "+-------+--------------------+\n",
      "| target|            features|\n",
      "+-------+--------------------+\n",
      "|22500.0|[-0.0108528689989...|\n",
      "| 3760.0|[0.62461965091111...|\n",
      "| 2100.0|[0.61865592495433...|\n",
      "| 7499.0|[-0.0136803493034...|\n",
      "|14000.0|[-0.0143436937220...|\n",
      "+-------+--------------------+\n",
      "\n"
     ]
    }
   ],
   "source": [
    "train_data.orderBy(rand(4710)).limit(5).show()"
   ]
  },
  {
   "cell_type": "code",
   "execution_count": 727,
   "metadata": {},
   "outputs": [
    {
     "name": "stdout",
     "output_type": "stream",
     "text": [
      "+--------------------+---+\n",
      "|   features_combined| id|\n",
      "+--------------------+---+\n",
      "|[871.629829775230...|  0|\n",
      "|[15488.7833009037...|  1|\n",
      "|[343.691049957727...|  2|\n",
      "|[1069.16130929204...|  3|\n",
      "|[686.469411755467...|  4|\n",
      "|[1251.18285851749...|  5|\n",
      "|[-1252.7223762667...|  6|\n",
      "|[5792.55267490576...|  7|\n",
      "|[1806.09151772813...|  8|\n",
      "|[4021.05340240410...|  9|\n",
      "|[-1187.8833288783...| 10|\n",
      "|[2721.62392662334...| 11|\n",
      "|[3157.25345443922...| 12|\n",
      "|[909.066112481655...| 13|\n",
      "|[5147.78809320990...| 14|\n",
      "|[2058.86951581913...| 15|\n",
      "|[4956.45778753441...| 16|\n",
      "|[2595.59934628646...| 17|\n",
      "|[2080.37670403748...| 18|\n",
      "|[10002.7512349648...| 19|\n",
      "+--------------------+---+\n",
      "only showing top 20 rows\n",
      "\n",
      "+--------------------+---+\n",
      "|   features_combined| id|\n",
      "+--------------------+---+\n",
      "|[871.629829775230...|  0|\n",
      "|[15488.7833009037...|  1|\n",
      "|[343.691049957727...|  2|\n",
      "|[1069.16130929204...|  3|\n",
      "|[686.469411755467...|  4|\n",
      "|[1251.18285851749...|  5|\n",
      "|[-1252.7223762667...|  6|\n",
      "|[5792.55267490576...|  7|\n",
      "|[1806.09151772813...|  8|\n",
      "|[4021.05340240410...|  9|\n",
      "|[-1187.8833288783...| 10|\n",
      "|[2721.62392662334...| 11|\n",
      "|[3157.25345443922...| 12|\n",
      "|[909.066112481655...| 13|\n",
      "|[5147.78809320990...| 14|\n",
      "|[2058.86951581913...| 15|\n",
      "|[4956.45778753441...| 16|\n",
      "|[2595.59934628646...| 17|\n",
      "|[2080.37670403748...| 18|\n",
      "|[10002.7512349648...| 19|\n",
      "+--------------------+---+\n",
      "only showing top 20 rows\n",
      "\n",
      "+------+---+\n",
      "|target| id|\n",
      "+------+---+\n",
      "| 100.0|  0|\n",
      "| 100.0|  1|\n",
      "| 100.0|  2|\n",
      "| 110.0|  3|\n",
      "| 120.0|  4|\n",
      "| 130.0|  5|\n",
      "| 150.0|  6|\n",
      "| 150.0|  7|\n",
      "| 150.0|  8|\n",
      "| 150.0|  9|\n",
      "| 150.0| 10|\n",
      "| 160.0| 11|\n",
      "| 180.0| 12|\n",
      "| 180.0| 13|\n",
      "| 199.0| 14|\n",
      "| 200.0| 15|\n",
      "| 200.0| 16|\n",
      "| 200.0| 17|\n",
      "| 200.0| 18|\n",
      "| 200.0| 19|\n",
      "+------+---+\n",
      "only showing top 20 rows\n",
      "\n"
     ]
    }
   ],
   "source": [
    "lroutput_test = linearModel.transform(test_data).select(\"lr_predict\").withColumn(\"id\", monotonically_increasing_id())\n",
    "dtroutput_test = decisionTreeModel.transform(test_data).select(\"dtr_predict\").withColumn(\"id\", monotonically_increasing_id())\n",
    "rfroutput_test = randomForestmodel.transform(test_data).select(\"rfr_predict\").withColumn(\"id\", monotonically_increasing_id())\n",
    "gbtoutput_test = GBTModel.transform(test_data).select(\"gbt_predict\").withColumn(\"id\", monotonically_increasing_id())\n",
    "\n",
    "combined_output_test = lroutput_test.join(dtroutput_test.join(rfroutput_test.join(gbtoutput_test, \"id\", \"outer\"), \"id\", \"outer\"), \"id\", \"outer\").drop(\"id\")\n",
    "\n",
    "combined_output.show()\n",
    "\n",
    "assembler = VectorAssembler(inputCols = combined_output_test.columns, outputCol=\"features_combined\")\n",
    "combined_output_test = assembler.transform(combined_output_test).select(\"features_combined\")\n",
    "\n",
    "combined_output_test = combined_output_test.withColumn(\"id\", monotonically_increasing_id())\n",
    "\n",
    "test_labels = test_data.select(\"target\").withColumn(\"id\", monotonically_increasing_id())\n",
    "\n",
    "combined_output.show()\n",
    "labels.show()"
   ]
  },
  {
   "cell_type": "code",
   "execution_count": 731,
   "metadata": {},
   "outputs": [
    {
     "name": "stdout",
     "output_type": "stream",
     "text": [
      "+------+--------------------+\n",
      "|target|   features_combined|\n",
      "+------+--------------------+\n",
      "| 150.0|[-222.92102682914...|\n",
      "| 150.0|[242.509846173199...|\n",
      "| 150.0|[1280.63203151569...|\n",
      "| 180.0|[6100.32733403220...|\n",
      "| 199.0|[10633.5605553280...|\n",
      "| 200.0|[7289.59871226432...|\n",
      "| 200.0|[22043.7505668494...|\n",
      "| 222.0|[16919.0809179300...|\n",
      "| 250.0|[18139.9063967096...|\n",
      "| 250.0|[14569.4462004053...|\n",
      "| 250.0|[15801.1352302193...|\n",
      "| 300.0|[17461.2708686231...|\n",
      "| 300.0|[19886.0027898346...|\n",
      "| 300.0|[16151.4881963758...|\n",
      "| 300.0|[5226.93628272197...|\n",
      "| 300.0|[2910.27989586245...|\n",
      "| 350.0|[3187.85755231661...|\n",
      "| 350.0|[6131.12882405147...|\n",
      "| 350.0|[-1624.0835441947...|\n",
      "| 370.0|[676.870058186533...|\n",
      "+------+--------------------+\n",
      "only showing top 20 rows\n",
      "\n"
     ]
    }
   ],
   "source": [
    "new_test_out = test_labels.join(combined_output_test, test_labels.id==combined_output_test.id).drop(\"id\")\n",
    "\n",
    "new_test_out.show()"
   ]
  },
  {
   "cell_type": "code",
   "execution_count": 732,
   "metadata": {},
   "outputs": [
    {
     "name": "stdout",
     "output_type": "stream",
     "text": [
      "+-----------------+------+\n",
      "|     meta_predict|target|\n",
      "+-----------------+------+\n",
      "|635.7572660966929| 400.0|\n",
      "|683.6771192052952| 600.0|\n",
      "|694.8457752991549| 300.0|\n",
      "|659.0234957442658| 700.0|\n",
      "|636.9397397295203| 890.0|\n",
      "+-----------------+------+\n",
      "\n"
     ]
    }
   ],
   "source": [
    "metapredictions = metamodel.transform(new_test_out)\n",
    "\n",
    "metapredictions.select(\"meta_predict\", \"target\").orderBy(rand(4710)).limit(5).show()"
   ]
  },
  {
   "cell_type": "code",
   "execution_count": null,
   "metadata": {},
   "outputs": [],
   "source": [
    "evaluator = RegressionEvaluator(labelCol=\"target\", predictionCol=\"meta_predict\", metricName=\"rmse\")\n",
    "rmse = evaluator.evaluate(metapredictions)\n",
    "print(\"RMSE: {0}\\n\".format(rmse))"
   ]
  },
  {
   "cell_type": "code",
   "execution_count": null,
   "metadata": {},
   "outputs": [],
   "source": []
  }
 ],
 "metadata": {
  "kernelspec": {
   "display_name": "Python 3",
   "language": "python",
   "name": "python3"
  },
  "language_info": {
   "codemirror_mode": {
    "name": "ipython",
    "version": 3
   },
   "file_extension": ".py",
   "mimetype": "text/x-python",
   "name": "python",
   "nbconvert_exporter": "python",
   "pygments_lexer": "ipython3",
   "version": "3.7.3"
  }
 },
 "nbformat": 4,
 "nbformat_minor": 4
}
