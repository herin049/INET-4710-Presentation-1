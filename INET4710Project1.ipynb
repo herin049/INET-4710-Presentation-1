{
 "cells": [
  {
   "cell_type": "markdown",
   "metadata": {},
   "source": [
    "# Exploratory Data Analysis\n",
    "### 02/17/2020\n",
    "### Group 6: Lukas Hering, Manothay Tommy Luangrath, Ian Luck, Andrea Simenstad"
   ]
  },
  {
   "cell_type": "markdown",
   "metadata": {},
   "source": [
    "# Overview"
   ]
  },
  {
   "cell_type": "markdown",
   "metadata": {},
   "source": [
    "<img src=\"used-car.jpg\">"
   ]
  },
  {
   "cell_type": "markdown",
   "metadata": {},
   "source": [
    "In this project, we are presented with some data and a business problem. Our goal is to provide a solution to our business problem while using the spark framework.\n",
    "\n",
    "\n",
    "#### The Dataset\n",
    "\n",
    "The dataset that we are provided with is the \"Used Cars Database\" scraped from Ebay Kleinanzeigen in Germany. The dataset contains a collection of over 370,000 used cars with a list of fields. The fields for our dataset include dateCrawled, name of the care, sellect, model of the car, kilometers the car has driven etc.\n",
    "\n",
    "#### Business Problem\n",
    "\n",
    "\n",
    "Our business problem is to predict how much a used car should be valued at, given relavent information such as the name of the car, the type of seller, offer type, how many kilometers the car has driven, etc. \n",
    "\n",
    "#### Main Object\n",
    "\n",
    "The main objective for this project, is to build an efficient and effective model that is able to predict the sale price of a used vehicle. With our model, we will able to provide eBay or other car dealerships an efficient algorithm to predict the price a used car should be sold at in order to maximize the profit and to minimize time spent evaluating the price of a vehicle.\n",
    "\n",
    "To achieve our main objective, we will be creating an ensemble model consisting multiple types of linnear regression models includeing Lasso regression, ridge regression and elastic net regression. \n",
    "\n"
   ]
  },
  {
   "cell_type": "markdown",
   "metadata": {},
   "source": [
    "# Exploratory Data Analysis"
   ]
  },
  {
   "cell_type": "code",
   "execution_count": 1,
   "metadata": {},
   "outputs": [],
   "source": [
    "from pyspark.sql import SparkSession\n",
    "from pyspark.sql.functions import isnan, when, count, col\n",
    "\n",
    "spark = SparkSession.builder.master(\"local[*]\").appName(\"Learning_Spark\").getOrCreate()"
   ]
  },
  {
   "cell_type": "markdown",
   "metadata": {},
   "source": [
    "First, we're going to load our data in our csv file into a spark dataframe in order to used our data with Spark."
   ]
  },
  {
   "cell_type": "code",
   "execution_count": 2,
   "metadata": {},
   "outputs": [],
   "source": [
    "data = spark.read.csv('autos.csv',inferSchema=True, header=True)"
   ]
  },
  {
   "cell_type": "markdown",
   "metadata": {},
   "source": [
    "Now, we'll look at the shape of our dataframe to how many features and how much data we have."
   ]
  },
  {
   "cell_type": "code",
   "execution_count": 4,
   "metadata": {},
   "outputs": [
    {
     "name": "stdout",
     "output_type": "stream",
     "text": [
      "Number of entries: 371824\n",
      "Number of features: 20\n"
     ]
    }
   ],
   "source": [
    "print(\"Number of entries: \" + str(data.count()))\n",
    "print(\"Number of features: \" + str(len(data.columns)))"
   ]
  },
  {
   "cell_type": "markdown",
   "metadata": {},
   "source": [
    "Now we can print a few portions of our dataset to get an indication of what our data contains."
   ]
  },
  {
   "cell_type": "code",
   "execution_count": 5,
   "metadata": {},
   "outputs": [
    {
     "name": "stdout",
     "output_type": "stream",
     "text": [
      "+-------------------+--------------------+------+---------+-----+------+-----------+------------------+---------+-------+-----+---------+-------------------+--------+----------+-----------------+-------------------+------------+----------+-------------------+\n",
      "|        dateCrawled|                name|seller|offerType|price|abtest|vehicleType|yearOfRegistration|  gearbox|powerPS|model|kilometer|monthOfRegistration|fuelType|     brand|notRepairedDamage|        dateCreated|nrOfPictures|postalCode|           lastSeen|\n",
      "+-------------------+--------------------+------+---------+-----+------+-----------+------------------+---------+-------+-----+---------+-------------------+--------+----------+-----------------+-------------------+------------+----------+-------------------+\n",
      "|2016-03-24 11:52:17|          Golf_3_1.6|privat|  Angebot|  480|  test|       null|              1993|  manuell|      0| golf|   150000|                  0|  benzin|volkswagen|             null|2016-03-24 00:00:00|           0|     70435|2016-04-07 03:16:57|\n",
      "|2016-03-24 10:58:45|A5_Sportback_2.7_Tdi|privat|  Angebot|18300|  test|      coupe|              2011|  manuell|    190| null|   125000|                  5|  diesel|      audi|               ja|2016-03-24 00:00:00|           0|     66954|2016-04-07 01:46:50|\n",
      "|2016-03-14 12:52:21|Jeep_Grand_Cherok...|privat|  Angebot| 9800|  test|        suv|              2004|automatik|    163|grand|   125000|                  8|  diesel|      jeep|             null|2016-03-14 00:00:00|           0|     90480|2016-04-05 12:47:46|\n",
      "+-------------------+--------------------+------+---------+-----+------+-----------+------------------+---------+-------+-----+---------+-------------------+--------+----------+-----------------+-------------------+------------+----------+-------------------+\n",
      "only showing top 3 rows\n",
      "\n"
     ]
    }
   ],
   "source": [
    "data.show(3)"
   ]
  },
  {
   "cell_type": "code",
   "execution_count": 8,
   "metadata": {},
   "outputs": [
    {
     "name": "stdout",
     "output_type": "stream",
     "text": [
      "root\n",
      " |-- dateCrawled: timestamp (nullable = true)\n",
      " |-- name: string (nullable = true)\n",
      " |-- seller: string (nullable = true)\n",
      " |-- offerType: string (nullable = true)\n",
      " |-- price: integer (nullable = true)\n",
      " |-- abtest: string (nullable = true)\n",
      " |-- vehicleType: string (nullable = true)\n",
      " |-- yearOfRegistration: integer (nullable = true)\n",
      " |-- gearbox: string (nullable = true)\n",
      " |-- powerPS: integer (nullable = true)\n",
      " |-- model: string (nullable = true)\n",
      " |-- kilometer: integer (nullable = true)\n",
      " |-- monthOfRegistration: integer (nullable = true)\n",
      " |-- fuelType: string (nullable = true)\n",
      " |-- brand: string (nullable = true)\n",
      " |-- notRepairedDamage: string (nullable = true)\n",
      " |-- dateCreated: timestamp (nullable = true)\n",
      " |-- nrOfPictures: integer (nullable = true)\n",
      " |-- postalCode: integer (nullable = true)\n",
      " |-- lastSeen: timestamp (nullable = true)\n",
      "\n"
     ]
    }
   ],
   "source": [
    "data.printSchema()"
   ]
  },
  {
   "cell_type": "code",
   "execution_count": 6,
   "metadata": {},
   "outputs": [
    {
     "name": "stdout",
     "output_type": "stream",
     "text": [
      "+-----------------------------------------------------------------+-------------------+-------------------+-----+\n",
      "|name                                                             |dateCreated        |lastSeen           |price|\n",
      "+-----------------------------------------------------------------+-------------------+-------------------+-----+\n",
      "|Golf_3_1.6                                                       |2016-03-24 00:00:00|2016-04-07 03:16:57|480  |\n",
      "|A5_Sportback_2.7_Tdi                                             |2016-03-24 00:00:00|2016-04-07 01:46:50|18300|\n",
      "|Jeep_Grand_Cherokee_\"Overland\"                                   |2016-03-14 00:00:00|2016-04-05 12:47:46|9800 |\n",
      "|GOLF_4_1_4__3T�RER                                               |2016-03-17 00:00:00|2016-03-17 17:40:17|1500 |\n",
      "|Skoda_Fabia_1.4_TDI_PD_Classic                                   |2016-03-31 00:00:00|2016-04-06 10:17:21|3600 |\n",
      "|BMW_316i___e36_Limousine___Bastlerfahrzeug__Export               |2016-04-04 00:00:00|2016-04-06 19:17:07|650  |\n",
      "|Peugeot_206_CC_110_Platinum                                      |2016-04-01 00:00:00|2016-04-05 18:18:39|2200 |\n",
      "|VW_Derby_Bj_80__Scheunenfund                                     |2016-03-21 00:00:00|2016-03-25 16:47:58|0    |\n",
      "|Ford_C___Max_Titanium_1_0_L_EcoBoost                             |2016-04-04 00:00:00|2016-04-04 23:42:13|14500|\n",
      "|VW_Golf_4_5_tuerig_zu_verkaufen_mit_Anhaengerkupplung            |2016-03-17 00:00:00|2016-03-31 17:17:06|999  |\n",
      "|Mazda_3_1.6_Sport                                                |2016-03-26 00:00:00|2016-04-06 10:45:34|2000 |\n",
      "|Volkswagen_Passat_Variant_2.0_TDI_Comfortline                    |2016-04-07 00:00:00|2016-04-07 10:25:17|2799 |\n",
      "|VW_Passat_Facelift_35i__\"7Sitzer\"                                |2016-03-15 00:00:00|2016-04-01 13:16:16|999  |\n",
      "|VW_PASSAT_1.9_TDI_131_PS_LEDER                                   |2016-03-21 00:00:00|2016-03-23 02:50:54|2500 |\n",
      "|Nissan_Navara_2.5DPF_SE4x4_Klima_Sitzheizg_Bluetooth.Doppelkabine|2016-03-21 00:00:00|2016-04-06 07:45:42|17999|\n",
      "+-----------------------------------------------------------------+-------------------+-------------------+-----+\n",
      "only showing top 15 rows\n",
      "\n"
     ]
    }
   ],
   "source": [
    "data.select(\"name\",\"dateCreated\",\"lastSeen\",\"price\").show(15, truncate=False)"
   ]
  },
  {
   "cell_type": "code",
   "execution_count": 7,
   "metadata": {},
   "outputs": [
    {
     "name": "stdout",
     "output_type": "stream",
     "text": [
      "+-------+------------------+------------------+\n",
      "|summary|             price|         kilometer|\n",
      "+-------+------------------+------------------+\n",
      "|  count|            371823|            371823|\n",
      "|   mean|17286.338865535483|125618.56044408226|\n",
      "| stddev|3586530.1840678076| 40111.62016494461|\n",
      "|    min|                 0|              5000|\n",
      "|    max|        2147483647|            150000|\n",
      "+-------+------------------+------------------+\n",
      "\n"
     ]
    }
   ],
   "source": [
    "data.describe([\"price\",\"kilometer\"]).show()"
   ]
  },
  {
   "cell_type": "code",
   "execution_count": 8,
   "metadata": {},
   "outputs": [],
   "source": [
    "group_by_gearbox = data.groupby('gearbox')\n",
    "group_by_brand = data.groupby('brand')\n",
    "group_by_notRepairedDamage = data.groupby('notRepairedDamage')"
   ]
  },
  {
   "cell_type": "code",
   "execution_count": 9,
   "metadata": {},
   "outputs": [
    {
     "name": "stdout",
     "output_type": "stream",
     "text": [
      "+---------+------------------+\n",
      "|  gearbox|        avg(price)|\n",
      "+---------+------------------+\n",
      "|     null|43990.346585570886|\n",
      "|automatik|15145.544156332206|\n",
      "|  manuell|15920.486752589904|\n",
      "+---------+------------------+\n",
      "\n"
     ]
    }
   ],
   "source": [
    "group_by_gearbox.agg({'price': 'avg'}).show()"
   ]
  },
  {
   "cell_type": "code",
   "execution_count": 10,
   "metadata": {},
   "outputs": [
    {
     "name": "stdout",
     "output_type": "stream",
     "text": [
      "+-------------+------------------+\n",
      "|        brand|        avg(price)|\n",
      "+-------------+------------------+\n",
      "|       jaguar|14228.083735909822|\n",
      "|     daihatsu|1691.6815365551424|\n",
      "|   mitsubishi|3274.6647078028077|\n",
      "|         null|              null|\n",
      "|         lada|3037.4444444444443|\n",
      "|       toyota| 5235.104468085106|\n",
      "|         seat| 4356.156703672075|\n",
      "|         saab| 3808.686090225564|\n",
      "|   land_rover|16698.858625162127|\n",
      "|      peugeot| 3168.667391698387|\n",
      "|     chrysler| 3912.255158184319|\n",
      "|      citroen| 8875.202082529888|\n",
      "|         audi| 15863.35696264097|\n",
      "|mercedes_benz|17244.502687715725|\n",
      "|          bmw|14838.656460137465|\n",
      "|         jeep|11998.898514851486|\n",
      "|       lancia| 3165.754132231405|\n",
      "|        skoda| 6413.099698955198|\n",
      "|        rover| 1508.022448979592|\n",
      "|      hyundai| 5417.859139490271|\n",
      "+-------------+------------------+\n",
      "only showing top 20 rows\n",
      "\n"
     ]
    }
   ],
   "source": [
    "group_by_brand.agg({'price': 'avg'}).show()"
   ]
  },
  {
   "cell_type": "code",
   "execution_count": 11,
   "metadata": {},
   "outputs": [
    {
     "name": "stdout",
     "output_type": "stream",
     "text": [
      "+-------------+------------+\n",
      "|        brand|count(price)|\n",
      "+-------------+------------+\n",
      "|       jaguar|         621|\n",
      "|     daihatsu|         807|\n",
      "|   mitsubishi|        3063|\n",
      "|         null|           0|\n",
      "|         lada|         225|\n",
      "|       toyota|        4700|\n",
      "|         seat|        7026|\n",
      "|         saab|         532|\n",
      "|   land_rover|         771|\n",
      "|      peugeot|       11034|\n",
      "|     chrysler|        1454|\n",
      "|      citroen|        5186|\n",
      "|         audi|       32897|\n",
      "|mercedes_benz|       35346|\n",
      "|          bmw|       40301|\n",
      "|         jeep|         808|\n",
      "|       lancia|         484|\n",
      "|        skoda|        5647|\n",
      "|        rover|         490|\n",
      "|      hyundai|        3649|\n",
      "+-------------+------------+\n",
      "only showing top 20 rows\n",
      "\n"
     ]
    }
   ],
   "source": [
    "group_by_brand.agg({'price': 'count'}).show()"
   ]
  },
  {
   "cell_type": "code",
   "execution_count": 12,
   "metadata": {},
   "outputs": [
    {
     "name": "stdout",
     "output_type": "stream",
     "text": [
      "+-----------------+-----------------+\n",
      "|notRepairedDamage|       avg(price)|\n",
      "+-----------------+-----------------+\n",
      "|             nein|9128.952507688218|\n",
      "|             null| 22760.0665252416|\n",
      "|               ja|65586.87130267144|\n",
      "+-----------------+-----------------+\n",
      "\n"
     ]
    }
   ],
   "source": [
    "group_by_notRepairedDamage.agg({'price': 'avg'}).show()"
   ]
  },
  {
   "cell_type": "code",
   "execution_count": 13,
   "metadata": {},
   "outputs": [
    {
     "name": "stdout",
     "output_type": "stream",
     "text": [
      "+-----------------+------------+\n",
      "|notRepairedDamage|count(price)|\n",
      "+-----------------+------------+\n",
      "|             nein|      263390|\n",
      "|             null|       72123|\n",
      "|               ja|       36310|\n",
      "+-----------------+------------+\n",
      "\n"
     ]
    }
   ],
   "source": [
    "group_by_notRepairedDamage.agg({'price': 'count'}).show()"
   ]
  },
  {
   "cell_type": "markdown",
   "metadata": {},
   "source": [
    "Here we see that many of our fields are Strings so we will need to convert some of these fields into more presentable formats. "
   ]
  },
  {
   "cell_type": "code",
   "execution_count": 22,
   "metadata": {},
   "outputs": [
    {
     "name": "stdout",
     "output_type": "stream",
     "text": [
      "dateCrawled \t number of null:  0\n",
      "name \t number of null:  0\n",
      "seller \t number of null:  1\n",
      "offerType \t number of null:  1\n",
      "price \t number of null:  1\n",
      "abtest \t number of null:  1\n",
      "vehicleType \t number of null:  37900\n",
      "yearOfRegistration \t number of null:  1\n",
      "gearbox \t number of null:  20224\n",
      "powerPS \t number of null:  1\n",
      "model \t number of null:  20499\n",
      "kilometer \t number of null:  1\n",
      "monthOfRegistration \t number of null:  1\n",
      "fuelType \t number of null:  33416\n",
      "brand \t number of null:  1\n",
      "notRepairedDamage \t number of null:  72124\n",
      "dateCreated \t number of null:  1\n",
      "nrOfPictures \t number of null:  1\n",
      "postalCode \t number of null:  1\n",
      "lastSeen \t number of null:  1\n"
     ]
    }
   ],
   "source": [
    "for col in data.columns:\n",
    "    print(col, \"\\t\", \"number of null: \", data.filter(data[col].isNull()).count())"
   ]
  },
  {
   "cell_type": "markdown",
   "metadata": {},
   "source": [
    "As we can see, we have quite a few null values. Now we will have to fill these null values. "
   ]
  },
  {
   "cell_type": "code",
   "execution_count": null,
   "metadata": {},
   "outputs": [],
   "source": []
  }
 ],
 "metadata": {
  "kernelspec": {
   "display_name": "Python 3",
   "language": "python",
   "name": "python3"
  },
  "language_info": {
   "codemirror_mode": {
    "name": "ipython",
    "version": 3
   },
   "file_extension": ".py",
   "mimetype": "text/x-python",
   "name": "python",
   "nbconvert_exporter": "python",
   "pygments_lexer": "ipython3",
   "version": "3.7.6"
  }
 },
 "nbformat": 4,
 "nbformat_minor": 4
}
