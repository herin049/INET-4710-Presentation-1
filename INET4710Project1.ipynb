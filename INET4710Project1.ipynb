{
 "cells": [
  {
   "cell_type": "markdown",
   "metadata": {},
   "source": [
    "# Exploratory Data Analysis\n",
    "### 02/17/2020\n",
    "### Group 6: Lukas Hering, Tommy Luangrath, Ian Luck, Andrea Simenstad"
   ]
  },
  {
   "cell_type": "markdown",
   "metadata": {},
   "source": [
    "# Overview"
   ]
  },
  {
   "cell_type": "markdown",
   "metadata": {},
   "source": [
    "<img src=\"used-car.jpg\">"
   ]
  },
  {
   "cell_type": "markdown",
   "metadata": {},
   "source": [
    "In this project, we are presented with some data and a business problem. Our goal is to provide a solution to our business problem while using the spark framework.\n",
    "\n",
    "\n",
    "#### The Dataset\n",
    "\n",
    "The dataset that we are provided with is the \"Used Cars Database\" scraped from Ebay Kleinanzeigen in Germany. The dataset contains a collection of over 370,000 used cars with a list of fields. The fields for our dataset include dateCrawled, name of the care, sellect, model of the car, kilometers the car has driven etc.\n",
    "\n",
    "#### Business Problem\n",
    "\n",
    "\n",
    "Our business problem is to predict how much a used car should be valued at, given relavent information such as the name of the car, the type of seller, offer type, how many kilometers the car has driven, etc. \n",
    "\n",
    "#### Main Objective\n",
    "\n",
    "The main objective for this project, is to build an efficient and effective model that is able to predict the sale price of a used vehicle. With our model, we will able to provide eBay or other car dealerships an efficient algorithm to predict the price a used car should be sold at in order to maximize the profit and to minimize time spent evaluating the price of a vehicle.\n",
    "\n",
    "To achieve our main objective, we will be creating an ensemble model consisting multiple types of linnear regression models includeing Lasso regression, ridge regression and elastic net regression and tree based alagorithms. \n",
    "\n",
    "### Data Profiling\n",
    "\n",
    "#### Data Quality\n",
    "The nrOfPictures field can be dropped due to data quality issues (see notes from Kaggle website).\n",
    "- The field notRepairedDamage is likely to be dropped. Currently, the field contains the values null, ja, and nein. It is not clear if null represents that the user skipped the field or if there has never been any damage to the car.\n",
    "    - nein has 263390 entries\n",
    "    - null has 72123 entries\n",
    "    - ja has 36310 entries\n",
    "\n",
    "#### Distributions and Dependencies\n",
    "- There are outliers for the price field.\n",
    "\n",
    "#### Feature engineering\n",
    "- How balanced is our dataset?\n",
    "    - The price field definitely has outliers, including 0 and 2147483647.\n",
    "\n",
    "- Data Normalization\n",
    "    - Date fields can be normalized. For example, the difference between dateCreated and lastSeenOnline.\n",
    "    - The string values for the fields gearBox and fuelType can be transformed from strings to a corresponding binary.\n",
    "\n",
    "#### Feature Selection\n",
    "Currently selected features:\n",
    "- price\n",
    "- yearOfRegistration\n",
    "- Difference between dateCreated and lastSeenOnline\n",
    "- gearBox (as a standardized integer)\n",
    "- fuelType (as a standardized integer)\n",
    "- kilometers\n"
   ]
  },
  {
   "cell_type": "markdown",
   "metadata": {},
   "source": [
    "# Exploratory Data Analysis"
   ]
  },
  {
   "cell_type": "code",
   "execution_count": 70,
   "metadata": {},
   "outputs": [],
   "source": [
    "from pyspark.sql import SparkSession\n",
    "from pyspark.sql.functions import isnan, when, count, col\n",
    "\n",
    "spark = SparkSession.builder.master(\"local[*]\").appName(\"Learning_Spark\").getOrCreate()"
   ]
  },
  {
   "cell_type": "markdown",
   "metadata": {},
   "source": [
    "First, we're going to load our data in our csv file into a spark dataframe in order to used our data with Spark."
   ]
  },
  {
   "cell_type": "code",
   "execution_count": 71,
   "metadata": {},
   "outputs": [],
   "source": [
    "data = spark.read.csv('autos.csv',inferSchema=True, header=True)"
   ]
  },
  {
   "cell_type": "markdown",
   "metadata": {},
   "source": [
    "Now, we'll look at the shape of our dataframe to how many features and how much data we have."
   ]
  },
  {
   "cell_type": "code",
   "execution_count": 72,
   "metadata": {},
   "outputs": [
    {
     "name": "stdout",
     "output_type": "stream",
     "text": [
      "Number of entries: 371824\n",
      "Number of features: 20\n"
     ]
    }
   ],
   "source": [
    "print(\"Number of entries: \" + str(data.count()))\n",
    "print(\"Number of features: \" + str(len(data.columns)))"
   ]
  },
  {
   "cell_type": "markdown",
   "metadata": {},
   "source": [
    "Now we can print a few portions of our dataset to get an indication of what our data contains."
   ]
  },
  {
   "cell_type": "code",
   "execution_count": 73,
   "metadata": {},
   "outputs": [
    {
     "name": "stdout",
     "output_type": "stream",
     "text": [
      "+-------------------+--------------------+------+---------+-----+------+-----------+------------------+---------+-------+-----+---------+-------------------+--------+----------+-----------------+-------------------+------------+----------+-------------------+\n",
      "|        dateCrawled|                name|seller|offerType|price|abtest|vehicleType|yearOfRegistration|  gearbox|powerPS|model|kilometer|monthOfRegistration|fuelType|     brand|notRepairedDamage|        dateCreated|nrOfPictures|postalCode|           lastSeen|\n",
      "+-------------------+--------------------+------+---------+-----+------+-----------+------------------+---------+-------+-----+---------+-------------------+--------+----------+-----------------+-------------------+------------+----------+-------------------+\n",
      "|2016-03-24 11:52:17|          Golf_3_1.6|privat|  Angebot|  480|  test|       null|              1993|  manuell|      0| golf|   150000|                  0|  benzin|volkswagen|             null|2016-03-24 00:00:00|           0|     70435|2016-04-07 03:16:57|\n",
      "|2016-03-24 10:58:45|A5_Sportback_2.7_Tdi|privat|  Angebot|18300|  test|      coupe|              2011|  manuell|    190| null|   125000|                  5|  diesel|      audi|               ja|2016-03-24 00:00:00|           0|     66954|2016-04-07 01:46:50|\n",
      "|2016-03-14 12:52:21|Jeep_Grand_Cherok...|privat|  Angebot| 9800|  test|        suv|              2004|automatik|    163|grand|   125000|                  8|  diesel|      jeep|             null|2016-03-14 00:00:00|           0|     90480|2016-04-05 12:47:46|\n",
      "+-------------------+--------------------+------+---------+-----+------+-----------+------------------+---------+-------+-----+---------+-------------------+--------+----------+-----------------+-------------------+------------+----------+-------------------+\n",
      "only showing top 3 rows\n",
      "\n"
     ]
    }
   ],
   "source": [
    "data.show(3)"
   ]
  },
  {
   "cell_type": "code",
   "execution_count": 74,
   "metadata": {},
   "outputs": [
    {
     "name": "stdout",
     "output_type": "stream",
     "text": [
      "root\n",
      " |-- dateCrawled: timestamp (nullable = true)\n",
      " |-- name: string (nullable = true)\n",
      " |-- seller: string (nullable = true)\n",
      " |-- offerType: string (nullable = true)\n",
      " |-- price: integer (nullable = true)\n",
      " |-- abtest: string (nullable = true)\n",
      " |-- vehicleType: string (nullable = true)\n",
      " |-- yearOfRegistration: integer (nullable = true)\n",
      " |-- gearbox: string (nullable = true)\n",
      " |-- powerPS: integer (nullable = true)\n",
      " |-- model: string (nullable = true)\n",
      " |-- kilometer: integer (nullable = true)\n",
      " |-- monthOfRegistration: integer (nullable = true)\n",
      " |-- fuelType: string (nullable = true)\n",
      " |-- brand: string (nullable = true)\n",
      " |-- notRepairedDamage: string (nullable = true)\n",
      " |-- dateCreated: timestamp (nullable = true)\n",
      " |-- nrOfPictures: integer (nullable = true)\n",
      " |-- postalCode: integer (nullable = true)\n",
      " |-- lastSeen: timestamp (nullable = true)\n",
      "\n"
     ]
    }
   ],
   "source": [
    "data.printSchema()"
   ]
  },
  {
   "cell_type": "code",
   "execution_count": 75,
   "metadata": {},
   "outputs": [
    {
     "name": "stdout",
     "output_type": "stream",
     "text": [
      "+-----------------------------------------------------------------+-------------------+-------------------+-----+\n",
      "|name                                                             |dateCreated        |lastSeen           |price|\n",
      "+-----------------------------------------------------------------+-------------------+-------------------+-----+\n",
      "|Golf_3_1.6                                                       |2016-03-24 00:00:00|2016-04-07 03:16:57|480  |\n",
      "|A5_Sportback_2.7_Tdi                                             |2016-03-24 00:00:00|2016-04-07 01:46:50|18300|\n",
      "|Jeep_Grand_Cherokee_\"Overland\"                                   |2016-03-14 00:00:00|2016-04-05 12:47:46|9800 |\n",
      "|GOLF_4_1_4__3T�RER                                               |2016-03-17 00:00:00|2016-03-17 17:40:17|1500 |\n",
      "|Skoda_Fabia_1.4_TDI_PD_Classic                                   |2016-03-31 00:00:00|2016-04-06 10:17:21|3600 |\n",
      "|BMW_316i___e36_Limousine___Bastlerfahrzeug__Export               |2016-04-04 00:00:00|2016-04-06 19:17:07|650  |\n",
      "|Peugeot_206_CC_110_Platinum                                      |2016-04-01 00:00:00|2016-04-05 18:18:39|2200 |\n",
      "|VW_Derby_Bj_80__Scheunenfund                                     |2016-03-21 00:00:00|2016-03-25 16:47:58|0    |\n",
      "|Ford_C___Max_Titanium_1_0_L_EcoBoost                             |2016-04-04 00:00:00|2016-04-04 23:42:13|14500|\n",
      "|VW_Golf_4_5_tuerig_zu_verkaufen_mit_Anhaengerkupplung            |2016-03-17 00:00:00|2016-03-31 17:17:06|999  |\n",
      "|Mazda_3_1.6_Sport                                                |2016-03-26 00:00:00|2016-04-06 10:45:34|2000 |\n",
      "|Volkswagen_Passat_Variant_2.0_TDI_Comfortline                    |2016-04-07 00:00:00|2016-04-07 10:25:17|2799 |\n",
      "|VW_Passat_Facelift_35i__\"7Sitzer\"                                |2016-03-15 00:00:00|2016-04-01 13:16:16|999  |\n",
      "|VW_PASSAT_1.9_TDI_131_PS_LEDER                                   |2016-03-21 00:00:00|2016-03-23 02:50:54|2500 |\n",
      "|Nissan_Navara_2.5DPF_SE4x4_Klima_Sitzheizg_Bluetooth.Doppelkabine|2016-03-21 00:00:00|2016-04-06 07:45:42|17999|\n",
      "+-----------------------------------------------------------------+-------------------+-------------------+-----+\n",
      "only showing top 15 rows\n",
      "\n"
     ]
    }
   ],
   "source": [
    "data.select(\"name\",\"dateCreated\",\"lastSeen\",\"price\").show(15, truncate=False)"
   ]
  },
  {
   "cell_type": "code",
   "execution_count": 76,
   "metadata": {},
   "outputs": [
    {
     "name": "stdout",
     "output_type": "stream",
     "text": [
      "+-------+------------------+------------------+\n",
      "|summary|             price|         kilometer|\n",
      "+-------+------------------+------------------+\n",
      "|  count|            371823|            371823|\n",
      "|   mean|17286.338865535483|125618.56044408226|\n",
      "| stddev|3586530.1840677853|40111.620164944536|\n",
      "|    min|                 0|              5000|\n",
      "|    max|        2147483647|            150000|\n",
      "+-------+------------------+------------------+\n",
      "\n"
     ]
    }
   ],
   "source": [
    "data.describe([\"price\",\"kilometer\"]).show()"
   ]
  },
  {
   "cell_type": "code",
   "execution_count": 77,
   "metadata": {},
   "outputs": [
    {
     "name": "stdout",
     "output_type": "stream",
     "text": [
      "+-------+---------+\n",
      "|summary|offerType|\n",
      "+-------+---------+\n",
      "|  count|   371823|\n",
      "|   mean|     null|\n",
      "| stddev|     null|\n",
      "|    min|  Angebot|\n",
      "|    max|   Gesuch|\n",
      "+-------+---------+\n",
      "\n"
     ]
    }
   ],
   "source": [
    "data.describe([\"offerType\"]).show()"
   ]
  },
  {
   "cell_type": "code",
   "execution_count": 78,
   "metadata": {},
   "outputs": [],
   "source": [
    "group_by_gearbox = data.groupby('gearbox')\n",
    "group_by_brand = data.groupby('brand')\n",
    "group_by_notRepairedDamage = data.groupby('notRepairedDamage')"
   ]
  },
  {
   "cell_type": "code",
   "execution_count": 79,
   "metadata": {},
   "outputs": [
    {
     "name": "stdout",
     "output_type": "stream",
     "text": [
      "+---------+------------------+\n",
      "|  gearbox|        avg(price)|\n",
      "+---------+------------------+\n",
      "|     null|43990.346585570886|\n",
      "|automatik|15145.544156332206|\n",
      "|  manuell|15920.486752589904|\n",
      "+---------+------------------+\n",
      "\n"
     ]
    }
   ],
   "source": [
    "group_by_gearbox.agg({'price': 'avg'}).show()"
   ]
  },
  {
   "cell_type": "code",
   "execution_count": 80,
   "metadata": {},
   "outputs": [
    {
     "name": "stdout",
     "output_type": "stream",
     "text": [
      "+-------------+------------------+\n",
      "|        brand|        avg(price)|\n",
      "+-------------+------------------+\n",
      "|       jaguar|14228.083735909822|\n",
      "|     daihatsu|1691.6815365551424|\n",
      "|   mitsubishi|3274.6647078028077|\n",
      "|         null|              null|\n",
      "|         lada|3037.4444444444443|\n",
      "|       toyota| 5235.104468085106|\n",
      "|         seat| 4356.156703672075|\n",
      "|         saab| 3808.686090225564|\n",
      "|   land_rover|16698.858625162127|\n",
      "|      peugeot| 3168.667391698387|\n",
      "|     chrysler| 3912.255158184319|\n",
      "|      citroen| 8875.202082529888|\n",
      "|         audi| 15863.35696264097|\n",
      "|mercedes_benz|17244.502687715725|\n",
      "|          bmw|14838.656460137465|\n",
      "|         jeep|11998.898514851486|\n",
      "|       lancia| 3165.754132231405|\n",
      "|        skoda| 6413.099698955198|\n",
      "|        rover| 1508.022448979592|\n",
      "|      hyundai| 5417.859139490271|\n",
      "+-------------+------------------+\n",
      "only showing top 20 rows\n",
      "\n"
     ]
    }
   ],
   "source": [
    "group_by_brand.agg({'price': 'avg'}).show()"
   ]
  },
  {
   "cell_type": "code",
   "execution_count": 81,
   "metadata": {},
   "outputs": [
    {
     "name": "stdout",
     "output_type": "stream",
     "text": [
      "+-------------+------------+\n",
      "|        brand|count(price)|\n",
      "+-------------+------------+\n",
      "|       jaguar|         621|\n",
      "|     daihatsu|         807|\n",
      "|   mitsubishi|        3063|\n",
      "|         null|           0|\n",
      "|         lada|         225|\n",
      "|       toyota|        4700|\n",
      "|         seat|        7026|\n",
      "|         saab|         532|\n",
      "|   land_rover|         771|\n",
      "|      peugeot|       11034|\n",
      "|     chrysler|        1454|\n",
      "|      citroen|        5186|\n",
      "|         audi|       32897|\n",
      "|mercedes_benz|       35346|\n",
      "|          bmw|       40301|\n",
      "|         jeep|         808|\n",
      "|       lancia|         484|\n",
      "|        skoda|        5647|\n",
      "|        rover|         490|\n",
      "|      hyundai|        3649|\n",
      "+-------------+------------+\n",
      "only showing top 20 rows\n",
      "\n"
     ]
    }
   ],
   "source": [
    "group_by_brand.agg({'price': 'count'}).show()"
   ]
  },
  {
   "cell_type": "code",
   "execution_count": 82,
   "metadata": {},
   "outputs": [
    {
     "name": "stdout",
     "output_type": "stream",
     "text": [
      "+-----------------+-----------------+\n",
      "|notRepairedDamage|       avg(price)|\n",
      "+-----------------+-----------------+\n",
      "|             nein|9128.952507688218|\n",
      "|             null| 22760.0665252416|\n",
      "|               ja|65586.87130267144|\n",
      "+-----------------+-----------------+\n",
      "\n"
     ]
    }
   ],
   "source": [
    "group_by_notRepairedDamage.agg({'price': 'avg'}).show()"
   ]
  },
  {
   "cell_type": "markdown",
   "metadata": {},
   "source": [
    "Here we see that many of our fields are Strings so we will need to convert some of these fields into more presentable formats. "
   ]
  },
  {
   "cell_type": "code",
   "execution_count": 83,
   "metadata": {},
   "outputs": [
    {
     "name": "stdout",
     "output_type": "stream",
     "text": [
      "dateCrawled number of null: \n",
      " 0\n",
      "name number of null: \n",
      " 0\n",
      "seller number of null: \n",
      " 1\n",
      "offerType number of null: \n",
      " 1\n",
      "price number of null: \n",
      " 1\n",
      "abtest number of null: \n",
      " 1\n",
      "vehicleType number of null: \n",
      " 37900\n",
      "yearOfRegistration number of null: \n",
      " 1\n",
      "gearbox number of null: \n",
      " 20224\n",
      "powerPS number of null: \n",
      " 1\n",
      "model number of null: \n",
      " 20499\n",
      "kilometer number of null: \n",
      " 1\n",
      "monthOfRegistration number of null: \n",
      " 1\n",
      "fuelType number of null: \n",
      " 33416\n",
      "brand number of null: \n",
      " 1\n",
      "notRepairedDamage number of null: \n",
      " 72124\n",
      "dateCreated number of null: \n",
      " 1\n",
      "nrOfPictures number of null: \n",
      " 1\n",
      "postalCode number of null: \n",
      " 1\n",
      "lastSeen number of null: \n",
      " 1\n"
     ]
    }
   ],
   "source": [
    "for col in data.columns:\n",
    "    print(col, \"number of null: \\n\", data.filter(data[col].isNull()).count())"
   ]
  },
  {
   "cell_type": "markdown",
   "metadata": {},
   "source": [
    "As we can see, we have quite a few null values. Now we will have to drop these null values. "
   ]
  },
  {
   "cell_type": "code",
   "execution_count": 84,
   "metadata": {},
   "outputs": [],
   "source": [
    "#Remove nulls\n",
    "data = data.na.drop()\n",
    "\n",
    "#Drop Unnecessary fields\n",
    "drop_fields = ['dateCrawled', 'name', 'abtest']\n",
    "\n",
    "#Drop nulls\n",
    "data = data.drop(*drop_fields)\n",
    "data = data.filter(data[\"gearbox\"] != 'null')\n",
    "\n",
    "#Keep data in a specific range\n",
    "data = data.filter(data[\"yearOfRegistration\"] > 1944)\n",
    "data = data.filter(data[\"yearOfRegistration\"] < 2018)\n",
    "data = data.filter(data[\"powerPS\"] > 99)\n",
    "data = data.filter(data[\"powerPS\"] < 501)\n",
    "data = data.filter(data[\"price\"] > 99)\n",
    "data = data.filter(data[\"price\"] < 400000)"
   ]
  },
  {
   "cell_type": "code",
   "execution_count": 89,
   "metadata": {},
   "outputs": [
    {
     "name": "stdout",
     "output_type": "stream",
     "text": [
      "+---------+------+\n",
      "|  gearbox| count|\n",
      "+---------+------+\n",
      "|automatik| 51855|\n",
      "|  manuell|116915|\n",
      "+---------+------+\n",
      "\n",
      "+-----------+-------+\n",
      "|gearbox_num|gearbox|\n",
      "+-----------+-------+\n",
      "|1          |manuell|\n",
      "|1          |manuell|\n",
      "|1          |manuell|\n",
      "|1          |manuell|\n",
      "|1          |manuell|\n",
      "+-----------+-------+\n",
      "only showing top 5 rows\n",
      "\n"
     ]
    }
   ],
   "source": [
    "from pyspark.sql.functions import col, when\n",
    "\n",
    "data.groupBy('gearbox').count().show()\n",
    "\n",
    "data = data.withColumn(\"gearbox_num\", when(col(\"gearbox\")==\"automatik\", 0).when(col(\"gearbox\")=='manuell', 1).otherwise(-1))\n",
    "\n",
    "data.select(\"gearbox_num\",\"gearbox\").show(5, truncate=False)\n",
    "\n"
   ]
  },
  {
   "cell_type": "code",
   "execution_count": 26,
   "metadata": {},
   "outputs": [
    {
     "ename": "TypeError",
     "evalue": "between() got an unexpected keyword argument 'inclusive'",
     "output_type": "error",
     "traceback": [
      "\u001b[1;31m---------------------------------------------------------------------------\u001b[0m",
      "\u001b[1;31mTypeError\u001b[0m                                 Traceback (most recent call last)",
      "\u001b[1;32m<ipython-input-26-1e94af006556>\u001b[0m in \u001b[0;36m<module>\u001b[1;34m\u001b[0m\n\u001b[0;32m      3\u001b[0m     \u001b[1;33m(\u001b[0m\u001b[0mdata\u001b[0m\u001b[1;33m[\u001b[0m\u001b[1;34m\"yearOfRegistration\"\u001b[0m\u001b[1;33m]\u001b[0m\u001b[1;33m.\u001b[0m\u001b[0mbetween\u001b[0m\u001b[1;33m(\u001b[0m\u001b[1;36m1945\u001b[0m\u001b[1;33m,\u001b[0m \u001b[1;36m2017\u001b[0m\u001b[1;33m,\u001b[0m \u001b[0minclusive\u001b[0m\u001b[1;33m=\u001b[0m\u001b[1;32mTrue\u001b[0m\u001b[1;33m)\u001b[0m\u001b[1;33m)\u001b[0m \u001b[1;33m&\u001b[0m \u001b[1;31m#Remove invalid registration\u001b[0m\u001b[1;33m\u001b[0m\u001b[1;33m\u001b[0m\u001b[0m\n\u001b[0;32m      4\u001b[0m     \u001b[1;33m(\u001b[0m\u001b[0mdata\u001b[0m\u001b[1;33m[\u001b[0m\u001b[1;34m\"powerPS\"\u001b[0m\u001b[1;33m]\u001b[0m\u001b[1;33m.\u001b[0m\u001b[0mbetween\u001b[0m\u001b[1;33m(\u001b[0m\u001b[1;36m100\u001b[0m\u001b[1;33m,\u001b[0m \u001b[1;36m500\u001b[0m\u001b[1;33m,\u001b[0m \u001b[0minclusive\u001b[0m\u001b[1;33m=\u001b[0m\u001b[1;32mTrue\u001b[0m\u001b[1;33m)\u001b[0m\u001b[1;33m)\u001b[0m \u001b[1;33m&\u001b[0m \u001b[1;31m#Filter power\u001b[0m\u001b[1;33m\u001b[0m\u001b[1;33m\u001b[0m\u001b[0m\n\u001b[1;32m----> 5\u001b[1;33m     \u001b[1;33m(\u001b[0m\u001b[0mdata\u001b[0m\u001b[1;33m[\u001b[0m\u001b[1;34m\"price\"\u001b[0m\u001b[1;33m]\u001b[0m\u001b[1;33m.\u001b[0m\u001b[0mbetween\u001b[0m\u001b[1;33m(\u001b[0m\u001b[1;36m100\u001b[0m\u001b[1;33m,\u001b[0m \u001b[1;36m200000\u001b[0m\u001b[1;33m,\u001b[0m \u001b[0minclusive\u001b[0m\u001b[1;33m=\u001b[0m\u001b[1;32mTrue\u001b[0m\u001b[1;33m)\u001b[0m\u001b[1;33m)\u001b[0m \u001b[1;33m&\u001b[0m \u001b[1;31m#Filter price\u001b[0m\u001b[1;33m\u001b[0m\u001b[1;33m\u001b[0m\u001b[0m\n\u001b[0m\u001b[0;32m      6\u001b[0m     \u001b[1;33m(\u001b[0m\u001b[0mdata\u001b[0m\u001b[1;33m[\u001b[0m\u001b[1;34m\"offerType\"\u001b[0m\u001b[1;33m]\u001b[0m \u001b[1;33m==\u001b[0m \u001b[1;34m\"Angebot\"\u001b[0m\u001b[1;33m)\u001b[0m \u001b[1;31m#\u001b[0m\u001b[1;33m\u001b[0m\u001b[1;33m\u001b[0m\u001b[0m\n\u001b[0;32m      7\u001b[0m ]\n",
      "\u001b[1;31mTypeError\u001b[0m: between() got an unexpected keyword argument 'inclusive'"
     ]
    }
   ],
   "source": [
    "# Filter bad data\n",
    "data = data[\n",
    "    (data[\"yearOfRegistration\"].between(1945, 2017, inclusive=True)) & #Remove invalid registration\n",
    "    (data[\"powerPS\"].between(100, 500, inclusive=True)) & #Filter power\n",
    "    (data[\"price\"].between(100, 200000, inclusive=True)) & #Filter price\n",
    "    (data[\"offerType\"] == \"Angebot\") # \n",
    "]\n",
    "\n",
    "# Replace the NaN-Values\n",
    "data_clean['vehicleType'].fillna(value='blank', inplace=True)\n",
    "data_clean['gearbox'].fillna(value='blank', inplace=True)\n",
    "data_clean['model'].fillna(value='blank', inplace=True)\n",
    "data_clean['fuelType'].fillna(value='blank', inplace=True)\n",
    "data_clean['notRepairedDamage'].fillna(value='blank', inplace=True)\n",
    "\n",
    "# Change categorical attributes dtype to category\n",
    "\n",
    "for col in data_clean:\n",
    "    if data_clean[col].dtype == \"object\":\n",
    "        data_clean[col] = cars_clean[col].astype('category')\n",
    "        \n",
    "# Assign codes to categorical attribues instead of strings\n",
    "\n",
    "cat_columns = data_clean.select_dtypes(['category']).columns\n",
    "\n",
    "data_clean[cat_columns] = cars_clean[cat_columns].apply(lambda x: x.cat.codes)\n",
    "        \n",
    "    \n",
    "# Drop probably unuseful columns\n",
    "\n",
    "drop_cols = [\"dateCrawled\", \"abtest\", \"dateCreated\", \"nrOfPictures\", \"lastSeen\"]\n",
    "\n",
    "data_clean = data_clean.drop(drop_cols, axis=1)"
   ]
  },
  {
   "cell_type": "code",
   "execution_count": null,
   "metadata": {},
   "outputs": [],
   "source": []
  }
 ],
 "metadata": {
  "kernelspec": {
   "display_name": "Python 3",
   "language": "python",
   "name": "python3"
  },
  "language_info": {
   "codemirror_mode": {
    "name": "ipython",
    "version": 3
   },
   "file_extension": ".py",
   "mimetype": "text/x-python",
   "name": "python",
   "nbconvert_exporter": "python",
   "pygments_lexer": "ipython3",
   "version": "3.7.6"
  }
 },
 "nbformat": 4,
 "nbformat_minor": 4
}
