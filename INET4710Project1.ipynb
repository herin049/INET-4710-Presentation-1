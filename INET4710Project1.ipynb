{
 "cells": [
  {
   "cell_type": "markdown",
   "metadata": {},
   "source": [
    "<h1 align='center'>INET 4710</h1>\n",
    "\n",
    "<h4 align='center'>Project 1 $\\mid$ Lukas Hering</h4>"
   ]
  },
  {
   "cell_type": "markdown",
   "metadata": {},
   "source": [
    "# Overview"
   ]
  },
  {
   "cell_type": "markdown",
   "metadata": {},
   "source": [
    "<img src=\"used-car.jpg\">"
   ]
  },
  {
   "cell_type": "markdown",
   "metadata": {},
   "source": [
    "In this project, we are presented with some data and a business problem. Our goal is to provide a solution to our business problem while using the spark framework.\n",
    "\n",
    "\n",
    "#### The Dataset\n",
    "\n",
    "The dataset that we are provided with is the \"Used Cars Database\" scraped from Ebay Kleinanzeigen in Germany. The dataset contains a collection of over 370,000 used cars with a list of fields. The fields for our dataset include dateCrawled, name of the care, sellect, model of the car, kilometers the car has driven etc.\n",
    "\n",
    "#### Business Problem\n",
    "\n",
    "\n",
    "Our business problem is to predict how much a used car should be valued at, given relavent information such as the name of the car, the type of seller, offer type, how many kilometers the car has driven, etc. \n",
    "\n",
    "#### Main Object\n",
    "\n",
    "The main objective for this project, is to build an efficient and effective model that is able to predict the sale price of a used vehicle. With our model, we will able to provide eBay or other car dealerships an efficient algorithm to predict the price a used car should be sold at in order to maximize the profit and to minimize time spent evaluating the price of a vehicle.\n",
    "\n",
    "To achieve our main objective, we will be creating an ensemble model consisting multiple types of linnear regression models includeing Lasso regression, ridge regression and elastic net regression and tree based alagorithms. \n",
    "\n"
   ]
  },
  {
   "cell_type": "markdown",
   "metadata": {},
   "source": [
    "# Exploratory Data Analysis"
   ]
  },
  {
   "cell_type": "code",
   "execution_count": 11,
   "metadata": {},
   "outputs": [],
   "source": [
    "from pyspark.sql import SparkSession\n",
    "from pyspark.sql.functions import isnan, when, count, col\n",
    "\n",
    "spark = SparkSession.builder.master(\"local[*]\").appName(\"Learning_Spark\").getOrCreate()"
   ]
  },
  {
   "cell_type": "markdown",
   "metadata": {},
   "source": [
    "First, we're going to load our data in our csv file into a spark dataframe in order to used our data with Spark."
   ]
  },
  {
   "cell_type": "code",
   "execution_count": 5,
   "metadata": {},
   "outputs": [],
   "source": [
    "data = spark.read.csv('autos.csv',inferSchema=True, header=True)"
   ]
  },
  {
   "cell_type": "markdown",
   "metadata": {},
   "source": [
    "Now, we'll look at the shape of our dataframe to how many features and how much data we have."
   ]
  },
  {
   "cell_type": "code",
   "execution_count": 9,
   "metadata": {},
   "outputs": [
    {
     "name": "stdout",
     "output_type": "stream",
     "text": [
      "Number of entries: 371824\n",
      "Number of features: 20\n"
     ]
    }
   ],
   "source": [
    "print(\"Number of entries: \" + str(data.count()))\n",
    "print(\"Number of features: \" + str(len(data.columns)))"
   ]
  },
  {
   "cell_type": "markdown",
   "metadata": {},
   "source": [
    "Now we can print a few portions of our dataset to get an indication of what our data contains."
   ]
  },
  {
   "cell_type": "code",
   "execution_count": 7,
   "metadata": {},
   "outputs": [
    {
     "name": "stdout",
     "output_type": "stream",
     "text": [
      "+-------------------+--------------------+------+---------+-----+------+-----------+------------------+---------+-------+-----+---------+-------------------+--------+----------+-----------------+-------------------+------------+----------+-------------------+\n",
      "|        dateCrawled|                name|seller|offerType|price|abtest|vehicleType|yearOfRegistration|  gearbox|powerPS|model|kilometer|monthOfRegistration|fuelType|     brand|notRepairedDamage|        dateCreated|nrOfPictures|postalCode|           lastSeen|\n",
      "+-------------------+--------------------+------+---------+-----+------+-----------+------------------+---------+-------+-----+---------+-------------------+--------+----------+-----------------+-------------------+------------+----------+-------------------+\n",
      "|2016-03-24 11:52:17|          Golf_3_1.6|privat|  Angebot|  480|  test|       null|              1993|  manuell|      0| golf|   150000|                  0|  benzin|volkswagen|             null|2016-03-24 00:00:00|           0|     70435|2016-04-07 03:16:57|\n",
      "|2016-03-24 10:58:45|A5_Sportback_2.7_Tdi|privat|  Angebot|18300|  test|      coupe|              2011|  manuell|    190| null|   125000|                  5|  diesel|      audi|               ja|2016-03-24 00:00:00|           0|     66954|2016-04-07 01:46:50|\n",
      "|2016-03-14 12:52:21|Jeep_Grand_Cherok...|privat|  Angebot| 9800|  test|        suv|              2004|automatik|    163|grand|   125000|                  8|  diesel|      jeep|             null|2016-03-14 00:00:00|           0|     90480|2016-04-05 12:47:46|\n",
      "+-------------------+--------------------+------+---------+-----+------+-----------+------------------+---------+-------+-----+---------+-------------------+--------+----------+-----------------+-------------------+------------+----------+-------------------+\n",
      "only showing top 3 rows\n",
      "\n"
     ]
    }
   ],
   "source": [
    "data.show(3)"
   ]
  },
  {
   "cell_type": "code",
   "execution_count": 8,
   "metadata": {},
   "outputs": [
    {
     "name": "stdout",
     "output_type": "stream",
     "text": [
      "root\n",
      " |-- dateCrawled: timestamp (nullable = true)\n",
      " |-- name: string (nullable = true)\n",
      " |-- seller: string (nullable = true)\n",
      " |-- offerType: string (nullable = true)\n",
      " |-- price: integer (nullable = true)\n",
      " |-- abtest: string (nullable = true)\n",
      " |-- vehicleType: string (nullable = true)\n",
      " |-- yearOfRegistration: integer (nullable = true)\n",
      " |-- gearbox: string (nullable = true)\n",
      " |-- powerPS: integer (nullable = true)\n",
      " |-- model: string (nullable = true)\n",
      " |-- kilometer: integer (nullable = true)\n",
      " |-- monthOfRegistration: integer (nullable = true)\n",
      " |-- fuelType: string (nullable = true)\n",
      " |-- brand: string (nullable = true)\n",
      " |-- notRepairedDamage: string (nullable = true)\n",
      " |-- dateCreated: timestamp (nullable = true)\n",
      " |-- nrOfPictures: integer (nullable = true)\n",
      " |-- postalCode: integer (nullable = true)\n",
      " |-- lastSeen: timestamp (nullable = true)\n",
      "\n"
     ]
    }
   ],
   "source": [
    "data.printSchema()"
   ]
  },
  {
   "cell_type": "markdown",
   "metadata": {},
   "source": [
    "Here we see that many of our fields are Strings so we will need to convert some of these fields into more presentable formats. "
   ]
  },
  {
   "cell_type": "code",
   "execution_count": 18,
   "metadata": {},
   "outputs": [
    {
     "data": {
      "text/plain": [
       "0"
      ]
     },
     "execution_count": 18,
     "metadata": {},
     "output_type": "execute_result"
    }
   ],
   "source": [
    "for col in data.columns:\n",
    "    print(col, \"\\t\", “with null values: “, df.filter(df[col].isNull()).count())\n",
    "\n"
   ]
  },
  {
   "cell_type": "code",
   "execution_count": null,
   "metadata": {},
   "outputs": [],
   "source": []
  }
 ],
 "metadata": {
  "kernelspec": {
   "display_name": "Python 3",
   "language": "python",
   "name": "python3"
  },
  "language_info": {
   "codemirror_mode": {
    "name": "ipython",
    "version": 3
   },
   "file_extension": ".py",
   "mimetype": "text/x-python",
   "name": "python",
   "nbconvert_exporter": "python",
   "pygments_lexer": "ipython3",
   "version": "3.7.6"
  }
 },
 "nbformat": 4,
 "nbformat_minor": 4
}
