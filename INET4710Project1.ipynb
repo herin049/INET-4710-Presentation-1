{
 "cells": [
  {
   "cell_type": "markdown",
   "metadata": {},
   "source": [
    "# Exploratory Data Analysis\n",
    "### 02/17/2020\n",
    "### Group 6: Lukas Hering, Tommy Luangrath, Ian Luck, Andrea Simenstad"
   ]
  },
  {
   "cell_type": "markdown",
   "metadata": {},
   "source": [
    "# Overview"
   ]
  },
  {
   "cell_type": "markdown",
   "metadata": {},
   "source": [
    "<img src=\"used-car.jpg\">"
   ]
  },
  {
   "cell_type": "markdown",
   "metadata": {},
   "source": [
    "In this project, we are presented with some data and a business problem. Our goal is to provide a solution to our business problem while using the spark framework.\n",
    "\n",
    "\n",
    "#### The Dataset\n",
    "\n",
    "The dataset that we are provided with is the \"Used Cars Database\" scraped from Ebay Kleinanzeigen in Germany. The dataset contains a collection of over 370,000 used cars with a list of fields. The fields for our dataset include dateCrawled, name of the care, sellect, model of the car, kilometers the car has driven etc.\n",
    "\n",
    "#### Business Problem\n",
    "\n",
    "\n",
    "Our business problem is to predict how much a used car should be valued at, given relavent information such as the name of the car, the type of seller, offer type, how many kilometers the car has driven, etc. \n",
    "\n",
    "#### Main Objective\n",
    "\n",
    "The main objective for this project, is to build an efficient and effective model that is able to predict the sale price of a used vehicle. With our model, we will able to provide eBay or other car dealerships an efficient algorithm to predict the price a used car should be sold at in order to maximize the profit and to minimize time spent evaluating the price of a vehicle.\n",
    "\n",
    "To achieve our main objective, we will be creating multiple types of regression models including Linear regression (lasso and ridge), decision trees, random forests and gradient boosted forests.\n",
    "\n",
    "### Data Profiling\n",
    "\n",
    "#### Dataset Field Definitions\n",
    "We are working with a dataset about used cars, which is partially in German. The dataset is hosted on Kaggle at https://www.kaggle.com/orgesleka/used-cars-database.\n",
    "\n",
    "Where indicates by ‘\\*’, the table uses verbatim the dataset field descriptions from https://www.kaggle.com/orgesleka/used-cars-database.\n",
    "\n",
    "| key                | type          |  description   |\n",
    "| -------------      | ------------- | -------------  |\n",
    "| dateCrawled        | timestamp     | \\*when this ad was first crawled, all field-values are taken from this date |\n",
    "| name               | string        | \\*\"name\" of the car|\n",
    "| seller             | string        | \\*private or dealer |\n",
    "| offerType          | string        |                     |\n",
    "| price              | integer       | \\*the price on the ad to sell the car |\n",
    "| abtest             | string        |                     |\n",
    "| vehicleType        | string        |                     |\n",
    "| yearOfRegistration | integer       | \\*at which year the car was first registered |\n",
    "| gearbox            | string        |                     | \n",
    "| powerPS            | integer       | \\*power of the car in PS | \n",
    "| model               | string        |                           | \n",
    "| kilometers          | integer       | \\*how many kilometers the car has driven | \n",
    "| monthOfRegistration | integer       | \\*at which month the car was first registered |\n",
    "| fuelType            | string        |                  |\n",
    "| brand               | string        |                  |\n",
    "| notRepairedDamage   | string        | \\*if the car has a damage which is not repaired yet |\n",
    "| dateCreated         | timestamp     | \\*the date for which the ad at ebay was created |\n",
    "| nrOfPictures        | integer       | \\*number of pictures in the ad (unfortunately this field contains everywhere a 0 and is thus useless (bug in crawler!) ) |\n",
    "| postalCode          | integer       |                   |\n",
    "| lastSeenOnline      | timestamp     | \\*when the crawler saw this ad last online |\n",
    "\n",
    "\n",
    "\n",
    "\n",
    "#### Data Quality\n",
    "The nrOfPictures field can be dropped due to data quality issues (see notes from Kaggle website).\n",
    "- The field notRepairedDamage is likely to be dropped. Currently, the field contains the values null, ja, and nein. It is not clear if null represents that the user skipped the field or if there has never been any damage to the car.\n",
    "    - nein has 263390 entries\n",
    "    - null has 72123 entries\n",
    "    - ja has 36310 entries\n",
    "\n",
    "#### Distributions and Dependencies\n",
    "- There are outliers for the price field.\n",
    "\n",
    "#### Feature engineering\n",
    "- How balanced is our dataset?\n",
    "    - The price field definitely has outliers, including 0 and 2147483647.\n",
    "\n",
    "- Data Normalization\n",
    "    - Date fields can be normalized. For example, the difference between dateCreated and lastSeenOnline.\n",
    "    - The string values for the fields gearBox and fuelType can be transformed from strings to a corresponding binary.\n",
    "\n",
    "#### Feature Selection\n",
    "Currently selected features:\n",
    "- price\n",
    "- yearOfRegistration\n",
    "- Difference between dateCreated and lastSeenOnline\n",
    "- gearBox (as a standardized integer)\n",
    "- fuelType (as a standardized integer)\n",
    "- kilometers\n"
   ]
  },
  {
   "cell_type": "markdown",
   "metadata": {},
   "source": [
    "# Exploratory Data Analysis"
   ]
  },
  {
   "cell_type": "code",
   "execution_count": 264,
   "metadata": {},
   "outputs": [],
   "source": [
    "from pyspark.sql import SparkSession\n",
    "from pyspark.sql.functions import isnan, when, count, col\n",
    "\n",
    "spark = SparkSession.builder.master(\"local[*]\").appName(\"Learning_Spark\").getOrCreate()"
   ]
  },
  {
   "cell_type": "markdown",
   "metadata": {},
   "source": [
    "First, we're going to load our data in our csv file into a spark dataframe in order to used our data with Spark."
   ]
  },
  {
   "cell_type": "code",
   "execution_count": 265,
   "metadata": {},
   "outputs": [],
   "source": [
    "data = spark.read.csv('autos.csv',inferSchema=True, header=True)"
   ]
  },
  {
   "cell_type": "markdown",
   "metadata": {},
   "source": [
    "Now, we'll look at the shape of our dataframe to how many features and how much data we have."
   ]
  },
  {
   "cell_type": "code",
   "execution_count": 266,
   "metadata": {},
   "outputs": [
    {
     "name": "stdout",
     "output_type": "stream",
     "text": [
      "Number of entries: 371824\n",
      "Number of features: 20\n"
     ]
    }
   ],
   "source": [
    "print(\"Number of entries: \" + str(data.count()))\n",
    "print(\"Number of features: \" + str(len(data.columns)))"
   ]
  },
  {
   "cell_type": "markdown",
   "metadata": {},
   "source": [
    "Now we can print a few portions of our dataset to get an indication of what our data contains."
   ]
  },
  {
   "cell_type": "code",
   "execution_count": 267,
   "metadata": {},
   "outputs": [
    {
     "name": "stdout",
     "output_type": "stream",
     "text": [
      "+-------------------+--------------------+------+---------+-----+------+-----------+------------------+---------+-------+-----+---------+-------------------+--------+----------+-----------------+-------------------+------------+----------+-------------------+\n",
      "|        dateCrawled|                name|seller|offerType|price|abtest|vehicleType|yearOfRegistration|  gearbox|powerPS|model|kilometer|monthOfRegistration|fuelType|     brand|notRepairedDamage|        dateCreated|nrOfPictures|postalCode|           lastSeen|\n",
      "+-------------------+--------------------+------+---------+-----+------+-----------+------------------+---------+-------+-----+---------+-------------------+--------+----------+-----------------+-------------------+------------+----------+-------------------+\n",
      "|2016-03-24 11:52:17|          Golf_3_1.6|privat|  Angebot|  480|  test|       null|              1993|  manuell|      0| golf|   150000|                  0|  benzin|volkswagen|             null|2016-03-24 00:00:00|           0|     70435|2016-04-07 03:16:57|\n",
      "|2016-03-24 10:58:45|A5_Sportback_2.7_Tdi|privat|  Angebot|18300|  test|      coupe|              2011|  manuell|    190| null|   125000|                  5|  diesel|      audi|               ja|2016-03-24 00:00:00|           0|     66954|2016-04-07 01:46:50|\n",
      "|2016-03-14 12:52:21|Jeep_Grand_Cherok...|privat|  Angebot| 9800|  test|        suv|              2004|automatik|    163|grand|   125000|                  8|  diesel|      jeep|             null|2016-03-14 00:00:00|           0|     90480|2016-04-05 12:47:46|\n",
      "+-------------------+--------------------+------+---------+-----+------+-----------+------------------+---------+-------+-----+---------+-------------------+--------+----------+-----------------+-------------------+------------+----------+-------------------+\n",
      "only showing top 3 rows\n",
      "\n"
     ]
    }
   ],
   "source": [
    "data.show(3)"
   ]
  },
  {
   "cell_type": "markdown",
   "metadata": {},
   "source": [
    "## Data Profiling"
   ]
  },
  {
   "cell_type": "markdown",
   "metadata": {},
   "source": [
    "Now, we will perform some data profiling to get a better understanding of what types of fields our data contains and what quality of data we are dealing with."
   ]
  },
  {
   "cell_type": "code",
   "execution_count": 268,
   "metadata": {},
   "outputs": [
    {
     "name": "stdout",
     "output_type": "stream",
     "text": [
      "root\n",
      " |-- dateCrawled: timestamp (nullable = true)\n",
      " |-- name: string (nullable = true)\n",
      " |-- seller: string (nullable = true)\n",
      " |-- offerType: string (nullable = true)\n",
      " |-- price: integer (nullable = true)\n",
      " |-- abtest: string (nullable = true)\n",
      " |-- vehicleType: string (nullable = true)\n",
      " |-- yearOfRegistration: integer (nullable = true)\n",
      " |-- gearbox: string (nullable = true)\n",
      " |-- powerPS: integer (nullable = true)\n",
      " |-- model: string (nullable = true)\n",
      " |-- kilometer: integer (nullable = true)\n",
      " |-- monthOfRegistration: integer (nullable = true)\n",
      " |-- fuelType: string (nullable = true)\n",
      " |-- brand: string (nullable = true)\n",
      " |-- notRepairedDamage: string (nullable = true)\n",
      " |-- dateCreated: timestamp (nullable = true)\n",
      " |-- nrOfPictures: integer (nullable = true)\n",
      " |-- postalCode: integer (nullable = true)\n",
      " |-- lastSeen: timestamp (nullable = true)\n",
      "\n"
     ]
    }
   ],
   "source": [
    "data.printSchema()"
   ]
  },
  {
   "cell_type": "code",
   "execution_count": 269,
   "metadata": {},
   "outputs": [
    {
     "name": "stdout",
     "output_type": "stream",
     "text": [
      "+-----------------------------------------------------------------+-------------------+-------------------+-----+\n",
      "|name                                                             |dateCreated        |lastSeen           |price|\n",
      "+-----------------------------------------------------------------+-------------------+-------------------+-----+\n",
      "|Golf_3_1.6                                                       |2016-03-24 00:00:00|2016-04-07 03:16:57|480  |\n",
      "|A5_Sportback_2.7_Tdi                                             |2016-03-24 00:00:00|2016-04-07 01:46:50|18300|\n",
      "|Jeep_Grand_Cherokee_\"Overland\"                                   |2016-03-14 00:00:00|2016-04-05 12:47:46|9800 |\n",
      "|GOLF_4_1_4__3T�RER                                               |2016-03-17 00:00:00|2016-03-17 17:40:17|1500 |\n",
      "|Skoda_Fabia_1.4_TDI_PD_Classic                                   |2016-03-31 00:00:00|2016-04-06 10:17:21|3600 |\n",
      "|BMW_316i___e36_Limousine___Bastlerfahrzeug__Export               |2016-04-04 00:00:00|2016-04-06 19:17:07|650  |\n",
      "|Peugeot_206_CC_110_Platinum                                      |2016-04-01 00:00:00|2016-04-05 18:18:39|2200 |\n",
      "|VW_Derby_Bj_80__Scheunenfund                                     |2016-03-21 00:00:00|2016-03-25 16:47:58|0    |\n",
      "|Ford_C___Max_Titanium_1_0_L_EcoBoost                             |2016-04-04 00:00:00|2016-04-04 23:42:13|14500|\n",
      "|VW_Golf_4_5_tuerig_zu_verkaufen_mit_Anhaengerkupplung            |2016-03-17 00:00:00|2016-03-31 17:17:06|999  |\n",
      "|Mazda_3_1.6_Sport                                                |2016-03-26 00:00:00|2016-04-06 10:45:34|2000 |\n",
      "|Volkswagen_Passat_Variant_2.0_TDI_Comfortline                    |2016-04-07 00:00:00|2016-04-07 10:25:17|2799 |\n",
      "|VW_Passat_Facelift_35i__\"7Sitzer\"                                |2016-03-15 00:00:00|2016-04-01 13:16:16|999  |\n",
      "|VW_PASSAT_1.9_TDI_131_PS_LEDER                                   |2016-03-21 00:00:00|2016-03-23 02:50:54|2500 |\n",
      "|Nissan_Navara_2.5DPF_SE4x4_Klima_Sitzheizg_Bluetooth.Doppelkabine|2016-03-21 00:00:00|2016-04-06 07:45:42|17999|\n",
      "+-----------------------------------------------------------------+-------------------+-------------------+-----+\n",
      "only showing top 15 rows\n",
      "\n"
     ]
    }
   ],
   "source": [
    "data.select(\"name\",\"dateCreated\",\"lastSeen\",\"price\").show(15, truncate=False)"
   ]
  },
  {
   "cell_type": "code",
   "execution_count": 270,
   "metadata": {},
   "outputs": [
    {
     "name": "stdout",
     "output_type": "stream",
     "text": [
      "+-------+------------------+------------------+\n",
      "|summary|             price|         kilometer|\n",
      "+-------+------------------+------------------+\n",
      "|  count|            371823|            371823|\n",
      "|   mean|17286.338865535483|125618.56044408226|\n",
      "| stddev|3586530.1840677853|40111.620164944536|\n",
      "|    min|                 0|              5000|\n",
      "|    max|        2147483647|            150000|\n",
      "+-------+------------------+------------------+\n",
      "\n"
     ]
    }
   ],
   "source": [
    "data.describe([\"price\",\"kilometer\"]).show()"
   ]
  },
  {
   "cell_type": "code",
   "execution_count": 271,
   "metadata": {},
   "outputs": [
    {
     "name": "stdout",
     "output_type": "stream",
     "text": [
      "+-------+---------+\n",
      "|summary|offerType|\n",
      "+-------+---------+\n",
      "|  count|   371823|\n",
      "|   mean|     null|\n",
      "| stddev|     null|\n",
      "|    min|  Angebot|\n",
      "|    max|   Gesuch|\n",
      "+-------+---------+\n",
      "\n"
     ]
    }
   ],
   "source": [
    "data.describe([\"offerType\"]).show()"
   ]
  },
  {
   "cell_type": "code",
   "execution_count": 272,
   "metadata": {},
   "outputs": [],
   "source": [
    "group_by_gearbox = data.groupby('gearbox')\n",
    "group_by_brand = data.groupby('brand')\n",
    "group_by_notRepairedDamage = data.groupby('notRepairedDamage')"
   ]
  },
  {
   "cell_type": "code",
   "execution_count": 273,
   "metadata": {},
   "outputs": [
    {
     "name": "stdout",
     "output_type": "stream",
     "text": [
      "+---------+------------------+\n",
      "|  gearbox|        avg(price)|\n",
      "+---------+------------------+\n",
      "|     null|43990.346585570886|\n",
      "|automatik|15145.544156332206|\n",
      "|  manuell|15920.486752589904|\n",
      "+---------+------------------+\n",
      "\n"
     ]
    }
   ],
   "source": [
    "group_by_gearbox.agg({'price': 'avg'}).show()"
   ]
  },
  {
   "cell_type": "code",
   "execution_count": 274,
   "metadata": {},
   "outputs": [
    {
     "name": "stdout",
     "output_type": "stream",
     "text": [
      "+-------------+------------------+\n",
      "|        brand|        avg(price)|\n",
      "+-------------+------------------+\n",
      "|       jaguar|14228.083735909822|\n",
      "|     daihatsu|1691.6815365551424|\n",
      "|   mitsubishi|3274.6647078028077|\n",
      "|         null|              null|\n",
      "|         lada|3037.4444444444443|\n",
      "|       toyota| 5235.104468085106|\n",
      "|         seat| 4356.156703672075|\n",
      "|         saab| 3808.686090225564|\n",
      "|   land_rover|16698.858625162127|\n",
      "|      peugeot| 3168.667391698387|\n",
      "|     chrysler| 3912.255158184319|\n",
      "|      citroen| 8875.202082529888|\n",
      "|         audi| 15863.35696264097|\n",
      "|mercedes_benz|17244.502687715725|\n",
      "|          bmw|14838.656460137465|\n",
      "|         jeep|11998.898514851486|\n",
      "|       lancia| 3165.754132231405|\n",
      "|        skoda| 6413.099698955198|\n",
      "|        rover| 1508.022448979592|\n",
      "|      hyundai| 5417.859139490271|\n",
      "+-------------+------------------+\n",
      "only showing top 20 rows\n",
      "\n"
     ]
    }
   ],
   "source": [
    "group_by_brand.agg({'price': 'avg'}).show()"
   ]
  },
  {
   "cell_type": "code",
   "execution_count": 275,
   "metadata": {},
   "outputs": [
    {
     "name": "stdout",
     "output_type": "stream",
     "text": [
      "+-------------+------------+\n",
      "|        brand|count(price)|\n",
      "+-------------+------------+\n",
      "|       jaguar|         621|\n",
      "|     daihatsu|         807|\n",
      "|   mitsubishi|        3063|\n",
      "|         null|           0|\n",
      "|         lada|         225|\n",
      "|       toyota|        4700|\n",
      "|         seat|        7026|\n",
      "|         saab|         532|\n",
      "|   land_rover|         771|\n",
      "|      peugeot|       11034|\n",
      "|     chrysler|        1454|\n",
      "|      citroen|        5186|\n",
      "|         audi|       32897|\n",
      "|mercedes_benz|       35346|\n",
      "|          bmw|       40301|\n",
      "|         jeep|         808|\n",
      "|       lancia|         484|\n",
      "|        skoda|        5647|\n",
      "|        rover|         490|\n",
      "|      hyundai|        3649|\n",
      "+-------------+------------+\n",
      "only showing top 20 rows\n",
      "\n"
     ]
    }
   ],
   "source": [
    "group_by_brand.agg({'price': 'count'}).show()"
   ]
  },
  {
   "cell_type": "code",
   "execution_count": 276,
   "metadata": {},
   "outputs": [
    {
     "name": "stdout",
     "output_type": "stream",
     "text": [
      "+-----------------+-----------------+\n",
      "|notRepairedDamage|       avg(price)|\n",
      "+-----------------+-----------------+\n",
      "|             nein|9128.952507688218|\n",
      "|             null| 22760.0665252416|\n",
      "|               ja|65586.87130267144|\n",
      "+-----------------+-----------------+\n",
      "\n"
     ]
    }
   ],
   "source": [
    "group_by_notRepairedDamage.agg({'price': 'avg'}).show()"
   ]
  },
  {
   "cell_type": "code",
   "execution_count": 277,
   "metadata": {},
   "outputs": [
    {
     "name": "stdout",
     "output_type": "stream",
     "text": [
      "dateCrawled number of null: \n",
      " 0\n",
      "name number of null: \n",
      " 0\n",
      "seller number of null: \n",
      " 1\n",
      "offerType number of null: \n",
      " 1\n",
      "price number of null: \n",
      " 1\n",
      "abtest number of null: \n",
      " 1\n",
      "vehicleType number of null: \n",
      " 37900\n",
      "yearOfRegistration number of null: \n",
      " 1\n",
      "gearbox number of null: \n",
      " 20224\n",
      "powerPS number of null: \n",
      " 1\n",
      "model number of null: \n",
      " 20499\n",
      "kilometer number of null: \n",
      " 1\n",
      "monthOfRegistration number of null: \n",
      " 1\n",
      "fuelType number of null: \n",
      " 33416\n",
      "brand number of null: \n",
      " 1\n",
      "notRepairedDamage number of null: \n",
      " 72124\n",
      "dateCreated number of null: \n",
      " 1\n",
      "nrOfPictures number of null: \n",
      " 1\n",
      "postalCode number of null: \n",
      " 1\n",
      "lastSeen number of null: \n",
      " 1\n"
     ]
    }
   ],
   "source": [
    "for col in data.columns:\n",
    "    print(col, \"number of null: \\n\", data.filter(data[col].isNull()).count())"
   ]
  },
  {
   "cell_type": "markdown",
   "metadata": {},
   "source": [
    "As we can see, we have quite a few null values. Now we will have to drop these null values. "
   ]
  },
  {
   "cell_type": "code",
   "execution_count": 278,
   "metadata": {},
   "outputs": [
    {
     "name": "stdout",
     "output_type": "stream",
     "text": [
      "price number of null: \n",
      " 0\n",
      "vehicleType number of null: \n",
      " 0\n",
      "yearOfRegistration number of null: \n",
      " 0\n",
      "gearbox number of null: \n",
      " 0\n",
      "powerPS number of null: \n",
      " 0\n",
      "model number of null: \n",
      " 0\n",
      "kilometer number of null: \n",
      " 0\n",
      "monthOfRegistration number of null: \n",
      " 0\n",
      "fuelType number of null: \n",
      " 0\n",
      "brand number of null: \n",
      " 0\n",
      "notRepairedDamage number of null: \n",
      " 0\n",
      "dateCreated number of null: \n",
      " 0\n",
      "nrOfPictures number of null: \n",
      " 0\n",
      "postalCode number of null: \n",
      " 0\n",
      "lastSeen number of null: \n",
      " 0\n"
     ]
    }
   ],
   "source": [
    "#Remove nulls\n",
    "data = data.na.drop()\n",
    "\n",
    "#Drop Unnecessary fields\n",
    "drop_fields = ['seller', 'offerType', 'notRepairedDamage ', 'dateCrawled', 'name', 'abtest']\n",
    "\n",
    "#Drop nulls\n",
    "data = data.drop(*drop_fields)\n",
    "data = data.filter(data[\"gearbox\"] != 'null')\n",
    "\n",
    "#Keep data in a specific range\n",
    "data = data.filter(data[\"yearOfRegistration\"] > 1944)\n",
    "data = data.filter(data[\"yearOfRegistration\"] < 2018)\n",
    "data = data.filter(data[\"powerPS\"] > 99)\n",
    "data = data.filter(data[\"powerPS\"] < 501)\n",
    "data = data.filter(data[\"price\"] > 99)\n",
    "data = data.filter(data[\"price\"] < 400000)\n",
    "\n",
    "for col in data.columns:\n",
    "    print(col, \"number of null: \\n\", data.filter(data[col].isNull()).count())"
   ]
  },
  {
   "cell_type": "markdown",
   "metadata": {},
   "source": [
    "## Feature Engineering"
   ]
  },
  {
   "cell_type": "markdown",
   "metadata": {},
   "source": [
    "Now that we have a better understanding of our dataset, we now need to transform the features in our dataset into more meaningful features in order for our model to perform optimally."
   ]
  },
  {
   "cell_type": "markdown",
   "metadata": {},
   "source": [
    "Now, we need to convert some of our categorical variables into numeric ones. "
   ]
  },
  {
   "cell_type": "code",
   "execution_count": 279,
   "metadata": {},
   "outputs": [
    {
     "name": "stdout",
     "output_type": "stream",
     "text": [
      "+---------+------+\n",
      "|  gearbox| count|\n",
      "+---------+------+\n",
      "|automatik| 51855|\n",
      "|  manuell|116915|\n",
      "+---------+------+\n",
      "\n",
      "+-----------+-------+\n",
      "|gearbox_num|gearbox|\n",
      "+-----------+-------+\n",
      "|0.0        |manuell|\n",
      "|0.0        |manuell|\n",
      "|0.0        |manuell|\n",
      "|0.0        |manuell|\n",
      "|0.0        |manuell|\n",
      "+-----------+-------+\n",
      "only showing top 5 rows\n",
      "\n"
     ]
    }
   ],
   "source": [
    "from pyspark.sql.functions import col, when\n",
    "from pyspark.ml.feature import StringIndexer\n",
    "\n",
    "data.groupBy('gearbox').count().show()\n",
    "\n",
    "indexer = StringIndexer(inputCol=\"gearbox\", outputCol=\"gearbox_num\")\n",
    "data = indexer.fit(data).transform(data)\n",
    "\n",
    "data.select(\"gearbox_num\",\"gearbox\").show(5, truncate=False)"
   ]
  },
  {
   "cell_type": "code",
   "execution_count": 280,
   "metadata": {},
   "outputs": [
    {
     "name": "stdout",
     "output_type": "stream",
     "text": [
      "+-----------+-----+\n",
      "|vehicleType|count|\n",
      "+-----------+-----+\n",
      "|      coupe|12663|\n",
      "|        bus|19061|\n",
      "| kleinwagen| 6905|\n",
      "|     andere|  824|\n",
      "|  limousine|58391|\n",
      "|     cabrio|14699|\n",
      "|        suv|10761|\n",
      "|      kombi|45466|\n",
      "+-----------+-----+\n",
      "\n",
      "+---------------+-----------+\n",
      "|vehicleType_num|vehicleType|\n",
      "+---------------+-----------+\n",
      "|0.0            |limousine  |\n",
      "|3.0            |cabrio     |\n",
      "|0.0            |limousine  |\n",
      "|1.0            |kombi      |\n",
      "|5.0            |suv        |\n",
      "+---------------+-----------+\n",
      "only showing top 5 rows\n",
      "\n"
     ]
    }
   ],
   "source": [
    "data.groupBy('vehicleType').count().show()\n",
    "\n",
    "indexer = StringIndexer(inputCol=\"vehicleType\", outputCol=\"vehicleType_num\")\n",
    "data = indexer.fit(data).transform(data)\n",
    "\n",
    "data.select(\"vehicleType_num\",\"vehicleType\").show(5, truncate=False)"
   ]
  },
  {
   "cell_type": "code",
   "execution_count": 281,
   "metadata": {},
   "outputs": [
    {
     "name": "stdout",
     "output_type": "stream",
     "text": [
      "+--------+-----+\n",
      "|   model|count|\n",
      "+--------+-----+\n",
      "|   viano|  358|\n",
      "| 1_reihe|   45|\n",
      "|     1er| 3308|\n",
      "|rx_reihe|  118|\n",
      "|sportage|  252|\n",
      "|  x_type|  121|\n",
      "|  antara|   75|\n",
      "|     7er|  821|\n",
      "| boxster|  362|\n",
      "|      cc|  155|\n",
      "| clubman|  163|\n",
      "|  megane| 1415|\n",
      "|s_klasse|  697|\n",
      "|    yeti|  188|\n",
      "|   kalos|    1|\n",
      "| x_trail|  175|\n",
      "|   lodgy|   19|\n",
      "|     200|   11|\n",
      "|   delta|   22|\n",
      "| m_reihe|  244|\n",
      "+--------+-----+\n",
      "only showing top 20 rows\n",
      "\n",
      "+-------+---------+\n",
      "|model  |model_num|\n",
      "+-------+---------+\n",
      "|3er    |0.0      |\n",
      "|2_reihe|20.0     |\n",
      "|3_reihe|21.0     |\n",
      "|passat |4.0      |\n",
      "|navara |160.0    |\n",
      "+-------+---------+\n",
      "only showing top 5 rows\n",
      "\n"
     ]
    }
   ],
   "source": [
    "data.groupBy('model').count().show()\n",
    "\n",
    "indexer = StringIndexer(inputCol=\"model\", outputCol=\"model_num\")\n",
    "data = indexer.fit(data).transform(data)\n",
    "\n",
    "data.select(\"model\",\"model_num\").show(5, truncate=False)"
   ]
  },
  {
   "cell_type": "code",
   "execution_count": 282,
   "metadata": {},
   "outputs": [
    {
     "name": "stdout",
     "output_type": "stream",
     "text": [
      "+--------+-----+\n",
      "|fuelType|count|\n",
      "+--------+-----+\n",
      "|  benzin|92978|\n",
      "| elektro|   14|\n",
      "|  andere|   23|\n",
      "|  diesel|72328|\n",
      "|     cng|  226|\n",
      "|  hybrid|   80|\n",
      "|     lpg| 3121|\n",
      "+--------+-----+\n",
      "\n",
      "+--------+------------+\n",
      "|fuelType|fuelType_num|\n",
      "+--------+------------+\n",
      "|benzin  |0.0         |\n",
      "|benzin  |0.0         |\n",
      "|benzin  |0.0         |\n",
      "|diesel  |1.0         |\n",
      "|diesel  |1.0         |\n",
      "+--------+------------+\n",
      "only showing top 5 rows\n",
      "\n"
     ]
    }
   ],
   "source": [
    "data.groupBy('fuelType').count().show()\n",
    "\n",
    "indexer = StringIndexer(inputCol=\"fuelType\", outputCol=\"fuelType_num\")\n",
    "data = indexer.fit(data).transform(data)\n",
    "\n",
    "data.select(\"fuelType\",\"fuelType_num\").show(5, truncate=False)"
   ]
  },
  {
   "cell_type": "code",
   "execution_count": 283,
   "metadata": {},
   "outputs": [
    {
     "name": "stdout",
     "output_type": "stream",
     "text": [
      "+-------------+-----+\n",
      "|        brand|count|\n",
      "+-------------+-----+\n",
      "|       jaguar|  451|\n",
      "|     daihatsu|   44|\n",
      "|   mitsubishi| 1176|\n",
      "|         lada|    2|\n",
      "|       toyota| 1830|\n",
      "|         seat| 2375|\n",
      "|         saab|  399|\n",
      "|   land_rover|  572|\n",
      "|      peugeot| 4046|\n",
      "|     chrysler|  931|\n",
      "|      citroen| 1552|\n",
      "|         audi|22685|\n",
      "|mercedes_benz|22978|\n",
      "|          bmw|28945|\n",
      "|       lancia|  128|\n",
      "|         jeep|  571|\n",
      "|        skoda| 2663|\n",
      "|        rover|  182|\n",
      "|      hyundai| 1530|\n",
      "|         ford| 9371|\n",
      "+-------------+-----+\n",
      "only showing top 20 rows\n",
      "\n",
      "+----------+---------+\n",
      "|brand     |brand_num|\n",
      "+----------+---------+\n",
      "|bmw       |1.0      |\n",
      "|peugeot   |7.0      |\n",
      "|mazda     |8.0      |\n",
      "|volkswagen|0.0      |\n",
      "|nissan    |15.0     |\n",
      "+----------+---------+\n",
      "only showing top 5 rows\n",
      "\n"
     ]
    }
   ],
   "source": [
    "data.groupBy('brand').count().show()\n",
    "\n",
    "indexer = StringIndexer(inputCol=\"brand\", outputCol=\"brand_num\")\n",
    "data = indexer.fit(data).transform(data)\n",
    "\n",
    "data.select(\"brand\",\"brand_num\").show(5, truncate=False)"
   ]
  },
  {
   "cell_type": "markdown",
   "metadata": {},
   "source": [
    "### Engineering New Features"
   ]
  },
  {
   "cell_type": "markdown",
   "metadata": {},
   "source": [
    "Now that our data is formatted in a more presentable way, lets try to engineer some new features that will aim to capture the problem we are trying to solve, that is predicting the price of a vehicle. "
   ]
  },
  {
   "cell_type": "markdown",
   "metadata": {},
   "source": [
    "The first, feature we can think of adding is how often is the car driven. That is how many kilometers per year. We can create a new feature \"kilo_per_year\" to capture this value directly. "
   ]
  },
  {
   "cell_type": "code",
   "execution_count": 284,
   "metadata": {},
   "outputs": [
    {
     "name": "stdout",
     "output_type": "stream",
     "text": [
      "+------------------+---------+-------------+\n",
      "|yearOfRegistration|kilometer|kilo_per_year|\n",
      "+------------------+---------+-------------+\n",
      "|1995              |150000   |6666.6665    |\n",
      "|2004              |150000   |11111.111    |\n",
      "|2004              |150000   |11111.111    |\n",
      "|2005              |150000   |12000.0      |\n",
      "|2011              |70000    |10769.23     |\n",
      "|2007              |150000   |14285.714    |\n",
      "|2004              |150000   |11111.111    |\n",
      "|2009              |100000   |11764.706    |\n",
      "|2002              |150000   |9677.419     |\n",
      "|1990              |150000   |5454.5454    |\n",
      "|2002              |150000   |9677.419     |\n",
      "|1995              |150000   |6666.6665    |\n",
      "|2007              |20000    |1904.762     |\n",
      "|2004              |150000   |11111.111    |\n",
      "|2002              |150000   |9677.419     |\n",
      "+------------------+---------+-------------+\n",
      "only showing top 15 rows\n",
      "\n"
     ]
    }
   ],
   "source": [
    "from pyspark.sql.functions import udf\n",
    "from pyspark.sql.types import LongType, IntegerType, FloatType\n",
    "\n",
    "def kilo_per_year(start_year, total_kilo):\n",
    "    return (total_kilo) / (2017.5 - start_year)\n",
    "\n",
    "kilo_year_udf = udf(lambda x, y: kilo_per_year(x,y), FloatType())\n",
    "\n",
    "data = data.withColumn('kilo_per_year', kilo_year_udf('yearOfRegistration', 'kilometer'))\n",
    "\n",
    "data.select(\"yearOfRegistration\", \"kilometer\", \"kilo_per_year\").show(15, truncate=False)"
   ]
  },
  {
   "cell_type": "markdown",
   "metadata": {},
   "source": [
    "Furthermore, we note that we have two \"timestamp\" variables, \"lastSeen\" and \"dateCreated\". Using this information, we can infer how long it took the vehicle to sell by taking this difference. Thus, we will create a new variable, \"days_to_sell\"."
   ]
  },
  {
   "cell_type": "code",
   "execution_count": 285,
   "metadata": {},
   "outputs": [
    {
     "name": "stdout",
     "output_type": "stream",
     "text": [
      "+------------+-------------------+-------------------+\n",
      "|days_to_sell|lastSeen           |dateCreated        |\n",
      "+------------+-------------------+-------------------+\n",
      "|2.8035533   |2016-04-06 19:17:07|2016-04-04 00:00:00|\n",
      "|4.7629514   |2016-04-05 18:18:39|2016-04-01 00:00:00|\n",
      "|11.44831    |2016-04-06 10:45:34|2016-03-26 00:00:00|\n",
      "|0.43422455  |2016-04-07 10:25:17|2016-04-07 00:00:00|\n",
      "|16.323402   |2016-04-06 07:45:42|2016-03-21 00:00:00|\n",
      "|13.781377   |2016-04-05 18:45:11|2016-03-23 00:00:00|\n",
      "|4.948669    |2016-04-05 22:46:05|2016-04-01 00:00:00|\n",
      "|4.698484    |2016-04-05 16:45:49|2016-04-01 00:00:00|\n",
      "|11.280856   |2016-04-07 06:44:26|2016-03-27 00:00:00|\n",
      "|0.82001156  |2016-03-13 20:40:49|2016-03-13 00:00:00|\n",
      "|0.90565974  |2016-03-18 21:44:09|2016-03-18 00:00:00|\n",
      "|2.636169    |2016-04-05 15:16:05|2016-04-03 00:00:00|\n",
      "|13.19816    |2016-04-07 04:45:21|2016-03-25 00:00:00|\n",
      "|13.657061   |2016-03-30 15:46:10|2016-03-17 00:00:00|\n",
      "|4.532986    |2016-04-05 12:47:30|2016-04-01 00:00:00|\n",
      "+------------+-------------------+-------------------+\n",
      "only showing top 15 rows\n",
      "\n"
     ]
    }
   ],
   "source": [
    "import datetime\n",
    "import time\n",
    "import pyspark.sql.functions as fn\n",
    "\n",
    "data = data.withColumn('lastSeen_sec', fn.unix_timestamp(fn.col('lastSeen'), format='yyyy-MM-dd HH:mm:ss.000'))\n",
    "data = data.withColumn('dateCreated_sec', fn.unix_timestamp(fn.col('dateCreated'), format='yyyy-MM-dd HH:mm:ss.000'))\n",
    "\n",
    "timediffudf = udf(lambda x, y: (x - y) / (86400), FloatType())\n",
    "\n",
    "data = data.withColumn('days_to_sell', timediffudf('lastSeen_sec', 'dateCreated_sec'))\n",
    "\n",
    "data.select(\"days_to_sell\", \"lastSeen\", \"dateCreated\").show(15, truncate=False)"
   ]
  },
  {
   "cell_type": "markdown",
   "metadata": {},
   "source": [
    "Next, we note that we have an attribute called postal code. We note that a field like postal code in itself will not be very useful for a regression model as there will be potentially thousands of postal codes to interpret. We can extract a more meaningful significance of a postal code by taking its first digit and mapping it to one of the 10 regions below. "
   ]
  },
  {
   "cell_type": "markdown",
   "metadata": {},
   "source": [
    "<img src=\"German_postcode_information.png\">"
   ]
  },
  {
   "cell_type": "code",
   "execution_count": 286,
   "metadata": {},
   "outputs": [
    {
     "name": "stdout",
     "output_type": "stream",
     "text": [
      "+------+----------+\n",
      "|region|postalCode|\n",
      "+------+----------+\n",
      "|3     |33775     |\n",
      "|6     |67112     |\n",
      "|9     |96224     |\n",
      "|5     |57290     |\n",
      "|0     |4177      |\n",
      "|8     |88361     |\n",
      "|4     |49565     |\n",
      "|7     |75365     |\n",
      "|6     |68309     |\n",
      "|3     |35390     |\n",
      "|7     |73765     |\n",
      "|5     |53879     |\n",
      "|3     |39179     |\n",
      "|6     |67071     |\n",
      "|1     |10551     |\n",
      "+------+----------+\n",
      "only showing top 15 rows\n",
      "\n"
     ]
    }
   ],
   "source": [
    "import math\n",
    "\n",
    "def get_region(postal_code):\n",
    "    return int(math.floor(postal_code / 10000))\n",
    "\n",
    "region_udf = udf(lambda x: get_region(x), IntegerType())\n",
    "\n",
    "data = data.withColumn('region', region_udf('postalCode'))\n",
    "\n",
    "data.select(\"region\",\"postalCode\").show(15, truncate=False)"
   ]
  },
  {
   "cell_type": "markdown",
   "metadata": {},
   "source": [
    "Now we can drop all of the fields that we no longer need now that we have transformed our original features."
   ]
  },
  {
   "cell_type": "code",
   "execution_count": 287,
   "metadata": {},
   "outputs": [],
   "source": [
    "drop_fields = ['vehicleType', 'model', 'gearbox', 'monthOfRegistration', 'fuelType', 'brand', 'notRepairedDamage', 'dateCreated', 'nrOfPictures', 'postalCode', 'lastSeen', 'dateCreated_sec', 'lastSeen_sec']\n",
    "data = data.drop(*drop_fields)"
   ]
  },
  {
   "cell_type": "code",
   "execution_count": 288,
   "metadata": {},
   "outputs": [],
   "source": [
    "for col in data.columns: #Cast all fields to double\n",
    "  data = data.withColumn(\n",
    "    col,\n",
    "    fn.col(col).cast(\"double\")\n",
    "  )"
   ]
  },
  {
   "cell_type": "code",
   "execution_count": 289,
   "metadata": {},
   "outputs": [
    {
     "name": "stdout",
     "output_type": "stream",
     "text": [
      "root\n",
      " |-- price: double (nullable = true)\n",
      " |-- yearOfRegistration: double (nullable = true)\n",
      " |-- powerPS: double (nullable = true)\n",
      " |-- kilometer: double (nullable = true)\n",
      " |-- gearbox_num: double (nullable = false)\n",
      " |-- vehicleType_num: double (nullable = false)\n",
      " |-- model_num: double (nullable = false)\n",
      " |-- fuelType_num: double (nullable = false)\n",
      " |-- brand_num: double (nullable = false)\n",
      " |-- kilo_per_year: double (nullable = true)\n",
      " |-- days_to_sell: double (nullable = true)\n",
      " |-- region: double (nullable = true)\n",
      "\n"
     ]
    }
   ],
   "source": [
    "data.printSchema()"
   ]
  },
  {
   "cell_type": "markdown",
   "metadata": {},
   "source": [
    "## Feature Elimination"
   ]
  },
  {
   "cell_type": "markdown",
   "metadata": {},
   "source": [
    "Now, we want to see if any of our variables are highly correlated. If we see any high correlations between variables, we may want to remove them. "
   ]
  },
  {
   "cell_type": "code",
   "execution_count": 290,
   "metadata": {},
   "outputs": [],
   "source": [
    "from pyspark.ml.stat import Correlation\n",
    "from pyspark.ml.feature import VectorAssembler\n",
    "\n",
    "# convert to vector column first\n",
    "vector_col = \"corr_features\"\n",
    "assembler = VectorAssembler(inputCols=data.columns, outputCol=vector_col)\n",
    "data_vector = assembler.transform(data).select(vector_col)\n",
    "\n",
    "matrix = Correlation.corr(data_vector, vector_col)"
   ]
  },
  {
   "cell_type": "code",
   "execution_count": 291,
   "metadata": {},
   "outputs": [
    {
     "name": "stdout",
     "output_type": "stream",
     "text": [
      "['price', 'yearOfRegistration', 'powerPS', 'kilometer', 'gearbox_num', 'vehicleType_num', 'model_num', 'fuelType_num', 'brand_num', 'kilo_per_year', 'days_to_sell', 'region']\n"
     ]
    },
    {
     "data": {
      "text/plain": [
       "(12.0, 0.0)"
      ]
     },
     "execution_count": 291,
     "metadata": {},
     "output_type": "execute_result"
    },
    {
     "data": {
      "image/png": "[encoded data removed]",
      "text/plain": [
       "<Figure size 1440x1008 with 2 Axes>"
      ]
     },
     "metadata": {
      "needs_background": "light"
     },
     "output_type": "display_data"
    }
   ],
   "source": [
    "import matplotlib.pyplot as plt\n",
    "import seaborn as sns\n",
    "\n",
    "print(data.columns)\n",
    "\n",
    "# get correlation matrix\n",
    "corrmatrix = matrix.collect()[0][0].toArray().tolist()\n",
    "\n",
    "plt.figure(figsize = (20,14))\n",
    "ax = sns.heatmap(corrmatrix, annot=True) #notation: \"annot\" not \"annote\"\n",
    "bottom, top = ax.get_ylim()\n",
    "ax.set_ylim(bottom + 0.5, top - 0.5)"
   ]
  },
  {
   "cell_type": "markdown",
   "metadata": {},
   "source": [
    "Looking at the plot, we see anything unexpected. We notice that 'yearOfRegistration' and 'kilometer' have a correlation coefficient of -0.47 which is expected for cars with higher kilometer values will very likely have a smaller year of registration. Similarily, we see that 'yearOfRegistration' and 'kilo_per_year' are correlated with a coefficient of 0.52 which also makes sense as newer cars will likely be driven more when they are newer. Regardless of these correlations, the highest magnitude of correlation that was see is 0.52, which seems to indicate that we do not need to remove features because of high correlation with other features."
   ]
  },
  {
   "cell_type": "code",
   "execution_count": 292,
   "metadata": {},
   "outputs": [
    {
     "data": {
      "text/plain": [
       "['price',\n",
       " 'yearOfRegistration',\n",
       " 'powerPS',\n",
       " 'kilometer',\n",
       " 'gearbox_num',\n",
       " 'vehicleType_num',\n",
       " 'model_num',\n",
       " 'fuelType_num',\n",
       " 'brand_num',\n",
       " 'kilo_per_year',\n",
       " 'days_to_sell',\n",
       " 'region']"
      ]
     },
     "execution_count": 292,
     "metadata": {},
     "output_type": "execute_result"
    }
   ],
   "source": [
    "data.columns"
   ]
  },
  {
   "cell_type": "markdown",
   "metadata": {},
   "source": [
    "### Scaling Data"
   ]
  },
  {
   "cell_type": "markdown",
   "metadata": {},
   "source": [
    "Before moving forward, we want to make sure our data is scaled so certain values do not disproportionately, effect the trained model."
   ]
  },
  {
   "cell_type": "code",
   "execution_count": 293,
   "metadata": {},
   "outputs": [
    {
     "name": "stdout",
     "output_type": "stream",
     "text": [
      "+-------+--------------------+\n",
      "|  price|            features|\n",
      "+-------+--------------------+\n",
      "|  650.0|[1995.0,102.0,150...|\n",
      "| 2200.0|[2004.0,109.0,150...|\n",
      "| 2000.0|[2004.0,105.0,150...|\n",
      "| 2799.0|[2005.0,140.0,150...|\n",
      "|17999.0|[2011.0,190.0,700...|\n",
      "| 7550.0|[2007.0,136.0,150...|\n",
      "| 1850.0|[2004.0,102.0,150...|\n",
      "|10400.0|[2009.0,160.0,100...|\n",
      "| 3699.0|[2002.0,231.0,150...|\n",
      "|  500.0|[1990.0,118.0,150...|\n",
      "| 2500.0|[2002.0,193.0,150...|\n",
      "| 3300.0|[1995.0,113.0,150...|\n",
      "|18000.0|[2007.0,218.0,200...|\n",
      "| 3500.0|[2004.0,122.0,150...|\n",
      "|11900.0|[2002.0,129.0,150...|\n",
      "| 7999.0|[2007.0,177.0,150...|\n",
      "| 2100.0|[1998.0,193.0,150...|\n",
      "|13500.0|[2012.0,109.0,150...|\n",
      "|39600.0|[2014.0,306.0,300...|\n",
      "| 1000.0|[1998.0,101.0,150...|\n",
      "+-------+--------------------+\n",
      "only showing top 20 rows\n",
      "\n"
     ]
    }
   ],
   "source": [
    "from pyspark.ml.feature import VectorAssembler\n",
    "from pyspark.ml.feature import PCA\n",
    "\n",
    "featurecols =  ['yearOfRegistration','powerPS','kilometer','gearbox_num','vehicleType_num','model_num','fuelType_num','brand_num','kilo_per_year','days_to_sell','region']\n",
    "\n",
    "#Create a new dataframe with one field with entries as 10-dimensional vectors\n",
    "assembler = VectorAssembler(inputCols = featurecols, outputCol=\"features\")\n",
    "feature_df = assembler.transform(data).select(\"price\", \"features\")\n",
    "\n",
    "feature_df.show()"
   ]
  },
  {
   "cell_type": "code",
   "execution_count": 315,
   "metadata": {},
   "outputs": [
    {
     "name": "stdout",
     "output_type": "stream",
     "text": [
      "+-------+--------------------+--------------------+\n",
      "|  price|            features|     scaled_features|\n",
      "+-------+--------------------+--------------------+\n",
      "|  650.0|[1995.0,102.0,150...|[-1.5500504836151...|\n",
      "| 2200.0|[2004.0,109.0,150...|[-0.0492634554826...|\n",
      "| 2000.0|[2004.0,105.0,150...|[-0.0492634554826...|\n",
      "| 2799.0|[2005.0,140.0,150...|[0.11749065875432...|\n",
      "|17999.0|[2011.0,190.0,700...|[1.11801534417599...|\n",
      "| 7550.0|[2007.0,136.0,150...|[0.45099888722821...|\n",
      "| 1850.0|[2004.0,102.0,150...|[-0.0492634554826...|\n",
      "|10400.0|[2009.0,160.0,100...|[0.78450711570210...|\n",
      "| 3699.0|[2002.0,231.0,150...|[-0.3827716839565...|\n",
      "|  500.0|[1990.0,118.0,150...|[-2.3838210547998...|\n",
      "| 2500.0|[2002.0,193.0,150...|[-0.3827716839565...|\n",
      "| 3300.0|[1995.0,113.0,150...|[-1.5500504836151...|\n",
      "|18000.0|[2007.0,218.0,200...|[0.45099888722821...|\n",
      "| 3500.0|[2004.0,122.0,150...|[-0.0492634554826...|\n",
      "|11900.0|[2002.0,129.0,150...|[-0.3827716839565...|\n",
      "| 7999.0|[2007.0,177.0,150...|[0.45099888722821...|\n",
      "| 2100.0|[1998.0,193.0,150...|[-1.0497881409042...|\n",
      "|13500.0|[2012.0,109.0,150...|[1.28476945841293...|\n",
      "|39600.0|[2014.0,306.0,300...|[1.61827768688682...|\n",
      "| 1000.0|[1998.0,101.0,150...|[-1.0497881409042...|\n",
      "+-------+--------------------+--------------------+\n",
      "only showing top 20 rows\n",
      "\n",
      "+-------+--------------------+\n",
      "|  price|     scaled_features|\n",
      "+-------+--------------------+\n",
      "|  650.0|[-1.5500504836151...|\n",
      "| 2200.0|[-0.0492634554826...|\n",
      "| 2000.0|[-0.0492634554826...|\n",
      "| 2799.0|[0.11749065875432...|\n",
      "|17999.0|[1.11801534417599...|\n",
      "| 7550.0|[0.45099888722821...|\n",
      "| 1850.0|[-0.0492634554826...|\n",
      "|10400.0|[0.78450711570210...|\n",
      "| 3699.0|[-0.3827716839565...|\n",
      "|  500.0|[-2.3838210547998...|\n",
      "| 2500.0|[-0.3827716839565...|\n",
      "| 3300.0|[-1.5500504836151...|\n",
      "|18000.0|[0.45099888722821...|\n",
      "| 3500.0|[-0.0492634554826...|\n",
      "|11900.0|[-0.3827716839565...|\n",
      "| 7999.0|[0.45099888722821...|\n",
      "| 2100.0|[-1.0497881409042...|\n",
      "|13500.0|[1.28476945841293...|\n",
      "|39600.0|[1.61827768688682...|\n",
      "| 1000.0|[-1.0497881409042...|\n",
      "+-------+--------------------+\n",
      "only showing top 20 rows\n",
      "\n"
     ]
    }
   ],
   "source": [
    "from pyspark.ml.feature import StandardScaler\n",
    "\n",
    "scaler = StandardScaler(inputCol=\"features\", outputCol=\"scaled_features\", withStd=True, withMean=True)\n",
    "scaled_model = scaler.fit(feature_df)\n",
    "\n",
    "scaled_df = scaled_model.transform(feature_df)\n",
    "\n",
    "scaled_df.show()\n",
    "\n",
    "scaled_df = scaled_df.drop(\"features\")\n",
    "\n",
    "scaled_df.show()"
   ]
  },
  {
   "cell_type": "markdown",
   "metadata": {},
   "source": [
    "### Principal Component Analysis"
   ]
  },
  {
   "cell_type": "markdown",
   "metadata": {},
   "source": [
    "Principal Component Analysis or PCA for short, is a very common preprocessing technique in machine learning that involves transforming vectors in our original feature space into a new space where the resulting principal components are very loosely correlated to one another. PCA is especially helpful in regression models, as it helps model stability and allows us to remove variables by simply dropping some of the least significant principal components."
   ]
  },
  {
   "cell_type": "code",
   "execution_count": 295,
   "metadata": {},
   "outputs": [
    {
     "name": "stdout",
     "output_type": "stream",
     "text": [
      "+-------+--------------------+\n",
      "|  price|                 pca|\n",
      "+-------+--------------------+\n",
      "|  650.0|[2.62707868996715...|\n",
      "| 2200.0|[0.87106136456174...|\n",
      "| 2000.0|[0.96630958999674...|\n",
      "| 2799.0|[0.09188278165921...|\n",
      "|17999.0|[-2.1467141160112...|\n",
      "| 7550.0|[-0.8065875627644...|\n",
      "| 1850.0|[1.01842591653508...|\n",
      "|10400.0|[-0.4236445550294...|\n",
      "| 3699.0|[0.08500390586343...|\n",
      "|  500.0|[3.16608513771704...|\n",
      "| 2500.0|[-0.3754250246966...|\n",
      "| 3300.0|[1.12817631685678...|\n",
      "|18000.0|[-0.1537913265376...|\n",
      "| 3500.0|[-0.4070264584900...|\n",
      "|11900.0|[0.30101836885465...|\n",
      "| 7999.0|[-0.5334192911179...|\n",
      "| 2100.0|[0.89726809658979...|\n",
      "|13500.0|[-2.8844583920190...|\n",
      "|39600.0|[-2.2262414592830...|\n",
      "| 1000.0|[2.19136137883557...|\n",
      "+-------+--------------------+\n",
      "only showing top 20 rows\n",
      "\n"
     ]
    }
   ],
   "source": [
    "from pyspark.ml.feature import PCA\n",
    "\n",
    "pca = PCA(k=9, inputCol=\"scaled_features\", outputCol=\"pca\")\n",
    "model = pca.fit(scaled_df)\n",
    "transformed = model.transform(scaled_df)\n",
    "\n",
    "transformed = transformed.drop(\"scaled_features\")\n",
    "\n",
    "transformed.show()"
   ]
  },
  {
   "cell_type": "markdown",
   "metadata": {},
   "source": [
    "# Models"
   ]
  },
  {
   "cell_type": "markdown",
   "metadata": {},
   "source": [
    "Before we begin training our models, we will have to partition our dataset into a training and test set. Here we decide to allocate 80% of our data to training and 20% to testing."
   ]
  },
  {
   "cell_type": "code",
   "execution_count": 296,
   "metadata": {},
   "outputs": [
    {
     "name": "stdout",
     "output_type": "stream",
     "text": [
      "Train Data Count: 134736\n",
      "\n",
      "+------+--------------------+\n",
      "|target|            features|\n",
      "+------+--------------------+\n",
      "| 100.0|[1.63092085315663...|\n",
      "| 100.0|[2.44419003223697...|\n",
      "| 100.0|[2.69696226539372...|\n",
      "| 110.0|[2.17445799759187...|\n",
      "| 120.0|[2.30879944287450...|\n",
      "| 130.0|[0.83461432213545...|\n",
      "| 150.0|[-0.8656550179542...|\n",
      "| 150.0|[-0.7640460344654...|\n",
      "| 150.0|[0.60529124170460...|\n",
      "| 150.0|[2.02375287364225...|\n",
      "| 150.0|[2.10866931538885...|\n",
      "| 160.0|[1.76682915176105...|\n",
      "| 180.0|[1.43391847450836...|\n",
      "| 180.0|[2.29032869805678...|\n",
      "| 199.0|[2.43366968056460...|\n",
      "| 200.0|[-3.2089949006277...|\n",
      "| 200.0|[1.26162272039454...|\n",
      "| 200.0|[1.48907252160777...|\n",
      "| 200.0|[1.65129134338912...|\n",
      "| 200.0|[1.91449985935197...|\n",
      "+------+--------------------+\n",
      "only showing top 20 rows\n",
      "\n",
      "Test Data Count: 34034\n",
      "\n",
      "+------+--------------------+\n",
      "|target|            features|\n",
      "+------+--------------------+\n",
      "| 150.0|[0.85467945974567...|\n",
      "| 150.0|[1.76070422309028...|\n",
      "| 150.0|[2.01570740180268...|\n",
      "| 180.0|[2.27418080494408...|\n",
      "| 199.0|[1.38105809185644...|\n",
      "| 200.0|[0.93783390107879...|\n",
      "| 200.0|[1.70148701598240...|\n",
      "| 222.0|[2.13751520078694...|\n",
      "| 250.0|[1.40400055776668...|\n",
      "| 250.0|[1.93715738561776...|\n",
      "| 250.0|[2.36653884268127...|\n",
      "| 300.0|[0.97551297248946...|\n",
      "| 300.0|[1.37080066027883...|\n",
      "| 300.0|[2.45949493895566...|\n",
      "| 300.0|[2.63102606200640...|\n",
      "| 300.0|[2.68431398799377...|\n",
      "| 350.0|[-0.5237233107358...|\n",
      "| 350.0|[1.40841372640712...|\n",
      "| 350.0|[1.90213166536184...|\n",
      "| 370.0|[0.20689901187666...|\n",
      "+------+--------------------+\n",
      "only showing top 20 rows\n",
      "\n"
     ]
    }
   ],
   "source": [
    "train_data, test_data = transformed.withColumnRenamed(\"price\", \"target\").withColumnRenamed(\"pca\", \"features\") \\\n",
    ".randomSplit([.8,.2],seed=4710)\n",
    "\n",
    "print('Train Data Count: {0}\\n'.format(train_data.count()))\n",
    "train_data.show()\n",
    "print('Test Data Count: {0}\\n'.format(test_data.count()))\n",
    "test_data.show()"
   ]
  },
  {
   "cell_type": "markdown",
   "metadata": {},
   "source": [
    "Good, now we are ready to train our base models for our ensemble model."
   ]
  },
  {
   "cell_type": "markdown",
   "metadata": {},
   "source": [
    "### Linear Regression"
   ]
  },
  {
   "cell_type": "markdown",
   "metadata": {},
   "source": [
    "Our first model that we are creating is a linear regression model. We added a regularization parameter of 0.3 to add a regularization term to the loss function in order to minimize overfitting. The elastic net term was added to combine lasso and ridge regression methods to reduce the effect that correlated variables will have like creating degeneracies and wild behavior."
   ]
  },
  {
   "cell_type": "code",
   "execution_count": 331,
   "metadata": {},
   "outputs": [
    {
     "data": {
      "text/plain": [
       "'aggregationDepth: suggested depth for treeAggregate (>= 2) (default: 2)\\nelasticNetParam: the ElasticNet mixing parameter, in range [0, 1]. For alpha = 0, the penalty is an L2 penalty. For alpha = 1, it is an L1 penalty (default: 0.0, current: 0.8)\\nepsilon: The shape parameter to control the amount of robustness. Must be > 1.0. (default: 1.35)\\nfeaturesCol: features column name (default: features)\\nfitIntercept: whether to fit an intercept term (default: True)\\nlabelCol: label column name (default: label, current: target)\\nloss: The loss function to be optimized. Supported options: squaredError, huber. (Default squaredError) (default: squaredError)\\nmaxIter: maximum number of iterations (>= 0) (default: 100, current: 25)\\npredictionCol: prediction column name (default: prediction, current: lr_predict)\\nregParam: regularization parameter (>= 0) (default: 0.0, current: 0.3)\\nsolver: The solver algorithm for optimization. Supported options: auto, normal, l-bfgs. (Default auto) (default: auto)\\nstandardization: whether to standardize the training features before fitting the model (default: True)\\ntol: the convergence tolerance for iterative algorithms (>= 0) (default: 1e-06)\\nweightCol: weight column name. If this is not set or empty, we treat all instance weights as 1.0 (undefined)'"
      ]
     },
     "execution_count": 331,
     "metadata": {},
     "output_type": "execute_result"
    }
   ],
   "source": [
    "linearModel.explainParams()"
   ]
  },
  {
   "cell_type": "code",
   "execution_count": 297,
   "metadata": {},
   "outputs": [],
   "source": [
    "from pyspark.ml.regression import LinearRegression\n",
    "\n",
    "lr = LinearRegression(labelCol=\"target\", predictionCol=\"lr_predict\", maxIter=25, regParam=0.3, elasticNetParam=0.8)\n",
    "\n",
    "linearModel = lr.fit(train_data)"
   ]
  },
  {
   "cell_type": "code",
   "execution_count": 298,
   "metadata": {},
   "outputs": [
    {
     "name": "stdout",
     "output_type": "stream",
     "text": [
      "+-------------------+-------+\n",
      "|         lr_predict| target|\n",
      "+-------------------+-------+\n",
      "|  9485.164252277307|12500.0|\n",
      "| 10576.062342528909| 1300.0|\n",
      "|  8362.764505354635| 7300.0|\n",
      "|  3526.621872447662| 2300.0|\n",
      "|-1234.9415124694406| 3199.0|\n",
      "+-------------------+-------+\n",
      "\n"
     ]
    }
   ],
   "source": [
    "from pyspark.sql.functions import rand\n",
    "\n",
    "lrpredictions = linearModel.transform(test_data)\n",
    "\n",
    "lrpredictions.select(\"lr_predict\", \"target\").orderBy(rand(4710)).limit(5).show()"
   ]
  },
  {
   "cell_type": "code",
   "execution_count": 299,
   "metadata": {},
   "outputs": [
    {
     "name": "stdout",
     "output_type": "stream",
     "text": [
      "RMSE: 6238.9729174849235\n",
      "\n"
     ]
    }
   ],
   "source": [
    "from pyspark.ml.evaluation import RegressionEvaluator\n",
    "\n",
    "evaluator = RegressionEvaluator(labelCol=\"target\", predictionCol=\"lr_predict\", metricName=\"rmse\")\n",
    "rmse = evaluator.evaluate(lrpredictions)\n",
    "print(\"RMSE: {0}\\n\".format(rmse))"
   ]
  },
  {
   "cell_type": "markdown",
   "metadata": {},
   "source": [
    "### Decision Tree"
   ]
  },
  {
   "cell_type": "markdown",
   "metadata": {},
   "source": [
    "Judging from the description below, we determined that the default parameters for this model would be the best option for our circumstances."
   ]
  },
  {
   "cell_type": "code",
   "execution_count": 330,
   "metadata": {},
   "outputs": [
    {
     "data": {
      "text/plain": [
       "'cacheNodeIds: If false, the algorithm will pass trees to executors to match instances with nodes. If true, the algorithm will cache node IDs for each instance. Caching can speed up training of deeper trees. (default: False)\\ncheckpointInterval: set checkpoint interval (>= 1) or disable checkpoint (-1). E.g. 10 means that the cache will get checkpointed every 10 iterations. Note: this setting will be ignored if the checkpoint directory is not set in the SparkContext (default: 10)\\nfeaturesCol: features column name (default: features)\\nimpurity: Criterion used for information gain calculation (case-insensitive). Supported options: variance (default: variance)\\nlabelCol: label column name (default: label, current: target)\\nmaxBins: Max number of bins for discretizing continuous features.  Must be >=2 and >= number of categories for any categorical feature. (default: 32)\\nmaxDepth: Maximum depth of the tree. (>= 0) E.g., depth 0 means 1 leaf node; depth 1 means 1 internal node + 2 leaf nodes. (default: 5)\\nmaxMemoryInMB: Maximum memory in MB allocated to histogram aggregation. (default: 256)\\nminInfoGain: Minimum information gain for a split to be considered at a tree node. (default: 0.0)\\nminInstancesPerNode: Minimum number of instances each child must have after split.  If a split causes the left or right child to have fewer than minInstancesPerNode, the split will be discarded as invalid. Should be >= 1. (default: 1)\\npredictionCol: prediction column name (default: prediction, current: dtr_predict)\\nseed: random seed (default: -763092852583281683)\\nvarianceCol: Column name for the biased sample variance of prediction (undefined)'"
      ]
     },
     "execution_count": 330,
     "metadata": {},
     "output_type": "execute_result"
    }
   ],
   "source": [
    "decisionTreeModel.explainParams()"
   ]
  },
  {
   "cell_type": "code",
   "execution_count": 300,
   "metadata": {},
   "outputs": [],
   "source": [
    "from pyspark.ml.regression import DecisionTreeRegressor\n",
    "\n",
    "dtr = DecisionTreeRegressor(labelCol=\"target\", predictionCol=\"dtr_predict\")\n",
    "\n",
    "decisionTreeModel = dtr.fit(train_data)"
   ]
  },
  {
   "cell_type": "code",
   "execution_count": 301,
   "metadata": {},
   "outputs": [
    {
     "name": "stdout",
     "output_type": "stream",
     "text": [
      "+------------------+-------+\n",
      "|       dtr_predict| target|\n",
      "+------------------+-------+\n",
      "|  8514.66670736174|12500.0|\n",
      "|  8514.66670736174| 1300.0|\n",
      "| 5633.675161419347| 7300.0|\n",
      "|3216.6659935816538| 2300.0|\n",
      "|3216.6659935816538| 3199.0|\n",
      "+------------------+-------+\n",
      "\n"
     ]
    }
   ],
   "source": [
    "dtrpredictions = decisionTreeModel.transform(test_data)\n",
    "\n",
    "dtrpredictions.select(\"dtr_predict\", \"target\").orderBy(rand(4710)).limit(5).show()"
   ]
  },
  {
   "cell_type": "code",
   "execution_count": 302,
   "metadata": {},
   "outputs": [
    {
     "name": "stdout",
     "output_type": "stream",
     "text": [
      "RMSE: 6078.129268908162\n",
      "\n"
     ]
    }
   ],
   "source": [
    "evaluator = RegressionEvaluator(labelCol=\"target\", predictionCol=\"dtr_predict\", metricName=\"rmse\")\n",
    "rmse = evaluator.evaluate(dtrpredictions)\n",
    "print(\"RMSE: {0}\\n\".format(rmse))"
   ]
  },
  {
   "cell_type": "markdown",
   "metadata": {},
   "source": [
    "### Random Forest"
   ]
  },
  {
   "cell_type": "markdown",
   "metadata": {},
   "source": [
    "Judging from the description below, we determined that the default parameters for this model would be the best option for our circumstances."
   ]
  },
  {
   "cell_type": "code",
   "execution_count": 329,
   "metadata": {},
   "outputs": [
    {
     "data": {
      "text/plain": [
       "'cacheNodeIds: If false, the algorithm will pass trees to executors to match instances with nodes. If true, the algorithm will cache node IDs for each instance. Caching can speed up training of deeper trees. (default: False)\\ncheckpointInterval: set checkpoint interval (>= 1) or disable checkpoint (-1). E.g. 10 means that the cache will get checkpointed every 10 iterations. Note: this setting will be ignored if the checkpoint directory is not set in the SparkContext (default: 10)\\nfeatureSubsetStrategy: The number of features to consider for splits at each tree node. Supported options: auto, all, onethird, sqrt, log2, (0.0-1.0], [1-n]. (default: auto)\\nfeaturesCol: features column name (default: features)\\nimpurity: Criterion used for information gain calculation (case-insensitive). Supported options: variance (default: variance)\\nlabelCol: label column name (default: label, current: target)\\nmaxBins: Max number of bins for discretizing continuous features.  Must be >=2 and >= number of categories for any categorical feature. (default: 32)\\nmaxDepth: Maximum depth of the tree. (>= 0) E.g., depth 0 means 1 leaf node; depth 1 means 1 internal node + 2 leaf nodes. (default: 5)\\nmaxMemoryInMB: Maximum memory in MB allocated to histogram aggregation. (default: 256)\\nminInfoGain: Minimum information gain for a split to be considered at a tree node. (default: 0.0)\\nminInstancesPerNode: Minimum number of instances each child must have after split.  If a split causes the left or right child to have fewer than minInstancesPerNode, the split will be discarded as invalid. Should be >= 1. (default: 1)\\nnumTrees: Number of trees to train (>= 1) (default: 20)\\npredictionCol: prediction column name (default: prediction, current: rfr_predict)\\nseed: random seed (default: -5816594652850171560)\\nsubsamplingRate: Fraction of the training data used for learning each decision tree, in range (0, 1]. (default: 1.0)'"
      ]
     },
     "execution_count": 329,
     "metadata": {},
     "output_type": "execute_result"
    }
   ],
   "source": [
    "randomForestmodel.explainParams()"
   ]
  },
  {
   "cell_type": "code",
   "execution_count": 303,
   "metadata": {},
   "outputs": [],
   "source": [
    "from pyspark.ml.regression import RandomForestRegressor\n",
    "\n",
    "rfr = RandomForestRegressor(labelCol=\"target\", predictionCol=\"rfr_predict\")\n",
    "\n",
    "randomForestmodel = rfr.fit(train_data)"
   ]
  },
  {
   "cell_type": "code",
   "execution_count": 304,
   "metadata": {},
   "outputs": [
    {
     "name": "stdout",
     "output_type": "stream",
     "text": [
      "+------------------+-------+\n",
      "|       rfr_predict| target|\n",
      "+------------------+-------+\n",
      "| 6506.653264955003|12500.0|\n",
      "|5994.0930190728695| 1300.0|\n",
      "| 5754.830028992233| 7300.0|\n",
      "| 4109.218778325036| 2300.0|\n",
      "| 3645.728406397918| 3199.0|\n",
      "+------------------+-------+\n",
      "\n"
     ]
    }
   ],
   "source": [
    "rfrpredictions = randomForestmodel.transform(test_data)\n",
    "\n",
    "rfrpredictions.select(\"rfr_predict\", \"target\").orderBy(rand(4710)).limit(5).show()"
   ]
  },
  {
   "cell_type": "code",
   "execution_count": 305,
   "metadata": {},
   "outputs": [
    {
     "name": "stdout",
     "output_type": "stream",
     "text": [
      "RMSE: 5759.123173336423\n",
      "\n"
     ]
    }
   ],
   "source": [
    "evaluator = RegressionEvaluator(labelCol=\"target\", predictionCol=\"rfr_predict\", metricName=\"rmse\")\n",
    "rmse = evaluator.evaluate(rfrpredictions)\n",
    "print(\"RMSE: {0}\\n\".format(rmse))"
   ]
  },
  {
   "cell_type": "markdown",
   "metadata": {},
   "source": [
    "### Gradient-boosted Tree Regression"
   ]
  },
  {
   "cell_type": "markdown",
   "metadata": {},
   "source": [
    "Judging from the description below, we determined that the default parameters for this model would be the best option for our circumstances."
   ]
  },
  {
   "cell_type": "code",
   "execution_count": 327,
   "metadata": {},
   "outputs": [
    {
     "data": {
      "text/plain": [
       "'cacheNodeIds: If false, the algorithm will pass trees to executors to match instances with nodes. If true, the algorithm will cache node IDs for each instance. Caching can speed up training of deeper trees. (default: False)\\ncheckpointInterval: set checkpoint interval (>= 1) or disable checkpoint (-1). E.g. 10 means that the cache will get checkpointed every 10 iterations. Note: this setting will be ignored if the checkpoint directory is not set in the SparkContext (default: 10)\\nfeatureSubsetStrategy: The number of features to consider for splits at each tree node. Supported options: auto, all, onethird, sqrt, log2, (0.0-1.0], [1-n]. (default: all)\\nfeaturesCol: features column name (default: features)\\nimpurity: Criterion used for information gain calculation (case-insensitive). Supported options: variance (default: variance)\\nlabelCol: label column name (default: label, current: target)\\nlossType: Loss function which GBT tries to minimize (case-insensitive). Supported options: squared, absolute (default: squared)\\nmaxBins: Max number of bins for discretizing continuous features.  Must be >=2 and >= number of categories for any categorical feature. (default: 32)\\nmaxDepth: Maximum depth of the tree. (>= 0) E.g., depth 0 means 1 leaf node; depth 1 means 1 internal node + 2 leaf nodes. (default: 5)\\nmaxIter: maximum number of iterations (>= 0) (default: 20)\\nmaxMemoryInMB: Maximum memory in MB allocated to histogram aggregation. (default: 256)\\nminInfoGain: Minimum information gain for a split to be considered at a tree node. (default: 0.0)\\nminInstancesPerNode: Minimum number of instances each child must have after split.  If a split causes the left or right child to have fewer than minInstancesPerNode, the split will be discarded as invalid. Should be >= 1. (default: 1)\\npredictionCol: prediction column name (default: prediction, current: gbt_predict)\\nseed: random seed (default: 6581499966010059288)\\nstepSize: Step size (a.k.a. learning rate) in interval (0, 1] for shrinking the contribution of each estimator. (default: 0.1)\\nsubsamplingRate: Fraction of the training data used for learning each decision tree, in range (0, 1]. (default: 1.0)\\nvalidationIndicatorCol: name of the column that indicates whether each row is for training or for validation. False indicates training; true indicates validation. (undefined)\\nvalidationTol: Threshold for stopping early when fit with validation is used.If the error rate on the validation input changes by less than the validationTol,then learning will stop early (before `maxIter`).This parameter is ignored when fit without validation is used. (undefined)'"
      ]
     },
     "execution_count": 327,
     "metadata": {},
     "output_type": "execute_result"
    }
   ],
   "source": [
    "GBTModel.explainParams()"
   ]
  },
  {
   "cell_type": "code",
   "execution_count": 306,
   "metadata": {},
   "outputs": [],
   "source": [
    "from pyspark.ml.regression import GBTRegressor\n",
    "\n",
    "gbt = GBTRegressor(labelCol=\"target\", predictionCol=\"gbt_predict\")\n",
    "\n",
    "GBTModel = gbt.fit(train_data)"
   ]
  },
  {
   "cell_type": "code",
   "execution_count": 307,
   "metadata": {},
   "outputs": [
    {
     "name": "stdout",
     "output_type": "stream",
     "text": [
      "+------------------+-------+\n",
      "|       gbt_predict| target|\n",
      "+------------------+-------+\n",
      "|10254.240150454978|12500.0|\n",
      "|  7604.94017787026| 1300.0|\n",
      "| 4674.465555656492| 7300.0|\n",
      "| 3188.398121264135| 2300.0|\n",
      "|1645.7039943579898| 3199.0|\n",
      "+------------------+-------+\n",
      "\n"
     ]
    }
   ],
   "source": [
    "gbtpredictions = GBTModel.transform(test_data)\n",
    "\n",
    "gbtpredictions.select(\"gbt_predict\", \"target\").orderBy(rand(4710)).limit(5).show()"
   ]
  },
  {
   "cell_type": "code",
   "execution_count": 308,
   "metadata": {},
   "outputs": [
    {
     "name": "stdout",
     "output_type": "stream",
     "text": [
      "RMSE: 5357.588574008797\n",
      "\n"
     ]
    }
   ],
   "source": [
    "evaluator = RegressionEvaluator(labelCol=\"target\", predictionCol=\"gbt_predict\", metricName=\"rmse\")\n",
    "rmse = evaluator.evaluate(gbtpredictions)\n",
    "print(\"RMSE: {0}\\n\".format(rmse))"
   ]
  },
  {
   "cell_type": "markdown",
   "metadata": {},
   "source": [
    "It seems like our gradient-boosted tree regression algorithm performed the best, now we will analyze our results in more detail."
   ]
  },
  {
   "cell_type": "markdown",
   "metadata": {},
   "source": [
    "# Model Results"
   ]
  },
  {
   "cell_type": "markdown",
   "metadata": {},
   "source": [
    "Judging just from the RMSE error outputed in the model section, it is clear that the Gradient-boosted tree regressor performed the best out of all of them models, however this metric does give us much information about how the model performed by themselves, it only gives a relative performance measure. A better performance measure for determining how \"good\" our models performed is an $R^2$ value, which gives us a ratio of how much variance in the dependent variable is explained by our independent variables. Furthermore, we can also use a more familiar metric like the mean absolute error. "
   ]
  },
  {
   "cell_type": "markdown",
   "metadata": {},
   "source": [
    "### Linear Regression Results"
   ]
  },
  {
   "cell_type": "code",
   "execution_count": 309,
   "metadata": {},
   "outputs": [
    {
     "name": "stdout",
     "output_type": "stream",
     "text": [
      "Root Mean Squared Error: 6238.9729174849235\n",
      "\n",
      "R^2: 0.5639361151561464\n",
      "\n",
      "Mean Absolute Error: 3443.323071692948\n",
      "\n"
     ]
    }
   ],
   "source": [
    "evaluator = RegressionEvaluator(labelCol=\"target\", predictionCol=\"lr_predict\", metricName=\"rmse\")\n",
    "rmse = evaluator.evaluate(lrpredictions)\n",
    "print(\"Root Mean Squared Error: {0}\\n\".format(rmse))\n",
    "\n",
    "evaluator = RegressionEvaluator(labelCol=\"target\", predictionCol=\"lr_predict\", metricName=\"r2\")\n",
    "r2 = evaluator.evaluate(lrpredictions)\n",
    "print(\"R^2: {0}\\n\".format(r2))\n",
    "\n",
    "evaluator = RegressionEvaluator(labelCol=\"target\", predictionCol=\"lr_predict\", metricName=\"mae\")\n",
    "mae = evaluator.evaluate(lrpredictions)\n",
    "print(\"Mean Absolute Error: {0}\\n\".format(mae))"
   ]
  },
  {
   "cell_type": "markdown",
   "metadata": {},
   "source": [
    "### Decision Tree Results"
   ]
  },
  {
   "cell_type": "code",
   "execution_count": 310,
   "metadata": {},
   "outputs": [
    {
     "name": "stdout",
     "output_type": "stream",
     "text": [
      "Root Mean Squared Error: 6078.129268908162\n",
      "\n",
      "R^2: 0.5861301559143608\n",
      "\n",
      "Mean Absolute Error: 3302.247085164937\n",
      "\n"
     ]
    }
   ],
   "source": [
    "evaluator = RegressionEvaluator(labelCol=\"target\", predictionCol=\"dtr_predict\", metricName=\"rmse\")\n",
    "rmse = evaluator.evaluate(dtrpredictions)\n",
    "print(\"Root Mean Squared Error: {0}\\n\".format(rmse))\n",
    "\n",
    "\n",
    "evaluator = RegressionEvaluator(labelCol=\"target\", predictionCol=\"dtr_predict\", metricName=\"r2\")\n",
    "r2 = evaluator.evaluate(dtrpredictions)\n",
    "print(\"R^2: {0}\\n\".format(r2))\n",
    "\n",
    "evaluator = RegressionEvaluator(labelCol=\"target\", predictionCol=\"dtr_predict\", metricName=\"mae\")\n",
    "mae = evaluator.evaluate(dtrpredictions)\n",
    "print(\"Mean Absolute Error: {0}\\n\".format(mae))"
   ]
  },
  {
   "cell_type": "markdown",
   "metadata": {},
   "source": [
    "### Random Forest Results"
   ]
  },
  {
   "cell_type": "code",
   "execution_count": 311,
   "metadata": {},
   "outputs": [
    {
     "name": "stdout",
     "output_type": "stream",
     "text": [
      "Root Mean Squared Error: 5759.123173336423\n",
      "\n",
      "R^2: 0.6284334133157226\n",
      "\n",
      "Mean Absolute Error: 3286.697102354238\n",
      "\n"
     ]
    }
   ],
   "source": [
    "evaluator = RegressionEvaluator(labelCol=\"target\", predictionCol=\"rfr_predict\", metricName=\"rmse\")\n",
    "rmse = evaluator.evaluate(rfrpredictions)\n",
    "print(\"Root Mean Squared Error: {0}\\n\".format(rmse))\n",
    "\n",
    "evaluator = RegressionEvaluator(labelCol=\"target\", predictionCol=\"rfr_predict\", metricName=\"r2\")\n",
    "r2 = evaluator.evaluate(rfrpredictions)\n",
    "print(\"R^2: {0}\\n\".format(r2))\n",
    "\n",
    "evaluator = RegressionEvaluator(labelCol=\"target\", predictionCol=\"rfr_predict\", metricName=\"mae\")\n",
    "mae = evaluator.evaluate(rfrpredictions)\n",
    "print(\"Mean Absolute Error: {0}\\n\".format(mae))"
   ]
  },
  {
   "cell_type": "markdown",
   "metadata": {},
   "source": [
    "### Gradient-boosted Tree Regression Results"
   ]
  },
  {
   "cell_type": "code",
   "execution_count": 312,
   "metadata": {},
   "outputs": [
    {
     "name": "stdout",
     "output_type": "stream",
     "text": [
      "Root Mean Squared Error: 5357.588574008797\n",
      "\n",
      "R^2: 0.6784395423052021\n",
      "\n",
      "Mean Absolute Error: 2757.2862222435433\n",
      "\n"
     ]
    }
   ],
   "source": [
    "evaluator = RegressionEvaluator(labelCol=\"target\", predictionCol=\"gbt_predict\", metricName=\"rmse\")\n",
    "rmse = evaluator.evaluate(gbtpredictions)\n",
    "print(\"Root Mean Squared Error: {0}\\n\".format(rmse))\n",
    "\n",
    "evaluator = RegressionEvaluator(labelCol=\"target\", predictionCol=\"gbt_predict\", metricName=\"r2\")\n",
    "r2 = evaluator.evaluate(gbtpredictions)\n",
    "print(\"R^2: {0}\\n\".format(r2))\n",
    "\n",
    "evaluator = RegressionEvaluator(labelCol=\"target\", predictionCol=\"gbt_predict\", metricName=\"mae\")\n",
    "mae = evaluator.evaluate(gbtpredictions)\n",
    "print(\"Mean Absolute Error: {0}\\n\".format(mae))"
   ]
  },
  {
   "cell_type": "markdown",
   "metadata": {},
   "source": [
    "Good, now that we have a general performance measure. It's quite clear that our gradient-boosted tree regression model performed the best with an $R^2$ value of 0.67 and a mean absolute error of 2757. Thus, we know that this model can explain 70% the variance in car prices just from the independent variables alone. Furthermore, it will have an average price error of around 2700 euros. To get a better idea of what our model does, we can try to fix some variables and see how the predicted price changes. "
   ]
  },
  {
   "cell_type": "markdown",
   "metadata": {},
   "source": [
    "### Model Visualization"
   ]
  },
  {
   "cell_type": "markdown",
   "metadata": {},
   "source": [
    "Now, lets get a better visualization for how our model actually performed. "
   ]
  },
  {
   "cell_type": "code",
   "execution_count": 333,
   "metadata": {},
   "outputs": [
    {
     "name": "stdout",
     "output_type": "stream",
     "text": [
      "+------+--------------------+------------------+\n",
      "|target|            features|       gbt_predict|\n",
      "+------+--------------------+------------------+\n",
      "| 150.0|[0.85467945974567...| 4196.603587056485|\n",
      "| 150.0|[1.76070422309028...| 1662.088026524306|\n",
      "| 150.0|[2.01570740180268...|1949.7654596729876|\n",
      "| 180.0|[2.27418080494408...|1461.0291416784414|\n",
      "| 199.0|[1.38105809185644...|2503.6924539503375|\n",
      "| 200.0|[0.93783390107879...|1662.8748799760806|\n",
      "| 200.0|[1.70148701598240...|1594.7215898114398|\n",
      "| 222.0|[2.13751520078694...|1679.2029634556652|\n",
      "| 250.0|[1.40400055776668...|1708.5207057894308|\n",
      "| 250.0|[1.93715738561776...|  6550.53047572773|\n",
      "| 250.0|[2.36653884268127...|2494.3230413590813|\n",
      "| 300.0|[0.97551297248946...| 2233.340136101774|\n",
      "| 300.0|[1.37080066027883...|1394.3911946319427|\n",
      "| 300.0|[2.45949493895566...| 1805.359435602326|\n",
      "| 300.0|[2.63102606200640...|1753.0777008235652|\n",
      "| 300.0|[2.68431398799377...|2422.6669479435404|\n",
      "| 350.0|[-0.5237233107358...| 21255.51967955572|\n",
      "| 350.0|[1.40841372640712...|1788.1711837541018|\n",
      "| 350.0|[1.90213166536184...|2046.6157660215297|\n",
      "| 370.0|[0.20689901187666...|2942.1885563825263|\n",
      "+------+--------------------+------------------+\n",
      "only showing top 20 rows\n",
      "\n"
     ]
    }
   ],
   "source": [
    "gbtpredictions.show()"
   ]
  },
  {
   "cell_type": "code",
   "execution_count": 360,
   "metadata": {},
   "outputs": [],
   "source": [
    "import pandas as pd\n",
    "\n",
    "pd_df = gbtpredictions.select(\"target\", \"gbt_predict\").toPandas()\n",
    "feat_df = gbtpredictions.rdd.map(lambda x:[float(y) for y in x['features']]).toDF([\"pc1\", \"pc2\", \"pc3\", \"pc4\", \"pc5\", \"pc6\", \"pc7\", \"pc8\", \"pc9\"]).toPandas()"
   ]
  },
  {
   "cell_type": "code",
   "execution_count": 361,
   "metadata": {},
   "outputs": [],
   "source": [
    "pd_df = pd.concat([pd_df, feat_df], axis=1, sort=False)"
   ]
  },
  {
   "cell_type": "code",
   "execution_count": 362,
   "metadata": {},
   "outputs": [
    {
     "data": {
      "text/html": [
       "<div>\n",
       "<style scoped>\n",
       "    .dataframe tbody tr th:only-of-type {\n",
       "        vertical-align: middle;\n",
       "    }\n",
       "\n",
       "    .dataframe tbody tr th {\n",
       "        vertical-align: top;\n",
       "    }\n",
       "\n",
       "    .dataframe thead th {\n",
       "        text-align: right;\n",
       "    }\n",
       "</style>\n",
       "<table border=\"1\" class=\"dataframe\">\n",
       "  <thead>\n",
       "    <tr style=\"text-align: right;\">\n",
       "      <th></th>\n",
       "      <th>target</th>\n",
       "      <th>gbt_predict</th>\n",
       "      <th>pc1</th>\n",
       "      <th>pc2</th>\n",
       "      <th>pc3</th>\n",
       "      <th>pc4</th>\n",
       "      <th>pc5</th>\n",
       "      <th>pc6</th>\n",
       "      <th>pc7</th>\n",
       "      <th>pc8</th>\n",
       "      <th>pc9</th>\n",
       "    </tr>\n",
       "  </thead>\n",
       "  <tbody>\n",
       "    <tr>\n",
       "      <th>0</th>\n",
       "      <td>150.0</td>\n",
       "      <td>4196.603587</td>\n",
       "      <td>0.854679</td>\n",
       "      <td>0.419656</td>\n",
       "      <td>1.352298</td>\n",
       "      <td>-1.700462</td>\n",
       "      <td>-0.653273</td>\n",
       "      <td>-2.161674</td>\n",
       "      <td>-0.110501</td>\n",
       "      <td>0.255309</td>\n",
       "      <td>0.697186</td>\n",
       "    </tr>\n",
       "    <tr>\n",
       "      <th>1</th>\n",
       "      <td>150.0</td>\n",
       "      <td>1662.088027</td>\n",
       "      <td>1.760704</td>\n",
       "      <td>-0.011203</td>\n",
       "      <td>-0.126292</td>\n",
       "      <td>0.085708</td>\n",
       "      <td>-0.066321</td>\n",
       "      <td>-1.779539</td>\n",
       "      <td>-0.059012</td>\n",
       "      <td>-0.189272</td>\n",
       "      <td>0.070408</td>\n",
       "    </tr>\n",
       "    <tr>\n",
       "      <th>2</th>\n",
       "      <td>150.0</td>\n",
       "      <td>1949.765460</td>\n",
       "      <td>2.015707</td>\n",
       "      <td>0.433201</td>\n",
       "      <td>0.386100</td>\n",
       "      <td>-0.036659</td>\n",
       "      <td>-0.313522</td>\n",
       "      <td>-1.139146</td>\n",
       "      <td>0.130492</td>\n",
       "      <td>0.068791</td>\n",
       "      <td>-0.262859</td>\n",
       "    </tr>\n",
       "    <tr>\n",
       "      <th>3</th>\n",
       "      <td>180.0</td>\n",
       "      <td>1461.029142</td>\n",
       "      <td>2.274181</td>\n",
       "      <td>1.610154</td>\n",
       "      <td>-1.428248</td>\n",
       "      <td>-1.308429</td>\n",
       "      <td>-0.926458</td>\n",
       "      <td>-0.091607</td>\n",
       "      <td>1.950513</td>\n",
       "      <td>-0.716407</td>\n",
       "      <td>-0.691615</td>\n",
       "    </tr>\n",
       "    <tr>\n",
       "      <th>4</th>\n",
       "      <td>199.0</td>\n",
       "      <td>2503.692454</td>\n",
       "      <td>1.381058</td>\n",
       "      <td>-0.605524</td>\n",
       "      <td>0.993533</td>\n",
       "      <td>-1.386338</td>\n",
       "      <td>-0.835816</td>\n",
       "      <td>0.558377</td>\n",
       "      <td>0.294487</td>\n",
       "      <td>0.103371</td>\n",
       "      <td>0.934673</td>\n",
       "    </tr>\n",
       "    <tr>\n",
       "      <th>...</th>\n",
       "      <td>...</td>\n",
       "      <td>...</td>\n",
       "      <td>...</td>\n",
       "      <td>...</td>\n",
       "      <td>...</td>\n",
       "      <td>...</td>\n",
       "      <td>...</td>\n",
       "      <td>...</td>\n",
       "      <td>...</td>\n",
       "      <td>...</td>\n",
       "      <td>...</td>\n",
       "    </tr>\n",
       "    <tr>\n",
       "      <th>34029</th>\n",
       "      <td>46990.0</td>\n",
       "      <td>65200.635314</td>\n",
       "      <td>4.103167</td>\n",
       "      <td>2.149948</td>\n",
       "      <td>0.953706</td>\n",
       "      <td>-1.884080</td>\n",
       "      <td>1.170569</td>\n",
       "      <td>0.603275</td>\n",
       "      <td>-0.272186</td>\n",
       "      <td>1.197510</td>\n",
       "      <td>-1.414982</td>\n",
       "    </tr>\n",
       "    <tr>\n",
       "      <th>34030</th>\n",
       "      <td>49500.0</td>\n",
       "      <td>30897.532765</td>\n",
       "      <td>-2.089863</td>\n",
       "      <td>1.416615</td>\n",
       "      <td>2.159011</td>\n",
       "      <td>1.698543</td>\n",
       "      <td>-0.636113</td>\n",
       "      <td>1.805926</td>\n",
       "      <td>0.875956</td>\n",
       "      <td>1.633476</td>\n",
       "      <td>0.220246</td>\n",
       "    </tr>\n",
       "    <tr>\n",
       "      <th>34031</th>\n",
       "      <td>49900.0</td>\n",
       "      <td>51104.634818</td>\n",
       "      <td>1.117600</td>\n",
       "      <td>1.639237</td>\n",
       "      <td>0.989745</td>\n",
       "      <td>-2.335795</td>\n",
       "      <td>0.293784</td>\n",
       "      <td>0.458012</td>\n",
       "      <td>-0.703890</td>\n",
       "      <td>-0.817984</td>\n",
       "      <td>-2.183059</td>\n",
       "    </tr>\n",
       "    <tr>\n",
       "      <th>34032</th>\n",
       "      <td>56900.0</td>\n",
       "      <td>50178.478880</td>\n",
       "      <td>-3.412396</td>\n",
       "      <td>2.010616</td>\n",
       "      <td>2.755326</td>\n",
       "      <td>0.312585</td>\n",
       "      <td>0.431596</td>\n",
       "      <td>1.582054</td>\n",
       "      <td>-0.571960</td>\n",
       "      <td>0.889549</td>\n",
       "      <td>-0.868740</td>\n",
       "    </tr>\n",
       "    <tr>\n",
       "      <th>34033</th>\n",
       "      <td>69900.0</td>\n",
       "      <td>115520.892947</td>\n",
       "      <td>-2.873891</td>\n",
       "      <td>2.779261</td>\n",
       "      <td>4.973870</td>\n",
       "      <td>-0.003018</td>\n",
       "      <td>0.785185</td>\n",
       "      <td>0.680617</td>\n",
       "      <td>0.438886</td>\n",
       "      <td>-0.562507</td>\n",
       "      <td>-1.642674</td>\n",
       "    </tr>\n",
       "  </tbody>\n",
       "</table>\n",
       "<p>34034 rows × 11 columns</p>\n",
       "</div>"
      ],
      "text/plain": [
       "        target    gbt_predict       pc1       pc2       pc3       pc4  \\\n",
       "0        150.0    4196.603587  0.854679  0.419656  1.352298 -1.700462   \n",
       "1        150.0    1662.088027  1.760704 -0.011203 -0.126292  0.085708   \n",
       "2        150.0    1949.765460  2.015707  0.433201  0.386100 -0.036659   \n",
       "3        180.0    1461.029142  2.274181  1.610154 -1.428248 -1.308429   \n",
       "4        199.0    2503.692454  1.381058 -0.605524  0.993533 -1.386338   \n",
       "...        ...            ...       ...       ...       ...       ...   \n",
       "34029  46990.0   65200.635314  4.103167  2.149948  0.953706 -1.884080   \n",
       "34030  49500.0   30897.532765 -2.089863  1.416615  2.159011  1.698543   \n",
       "34031  49900.0   51104.634818  1.117600  1.639237  0.989745 -2.335795   \n",
       "34032  56900.0   50178.478880 -3.412396  2.010616  2.755326  0.312585   \n",
       "34033  69900.0  115520.892947 -2.873891  2.779261  4.973870 -0.003018   \n",
       "\n",
       "            pc5       pc6       pc7       pc8       pc9  \n",
       "0     -0.653273 -2.161674 -0.110501  0.255309  0.697186  \n",
       "1     -0.066321 -1.779539 -0.059012 -0.189272  0.070408  \n",
       "2     -0.313522 -1.139146  0.130492  0.068791 -0.262859  \n",
       "3     -0.926458 -0.091607  1.950513 -0.716407 -0.691615  \n",
       "4     -0.835816  0.558377  0.294487  0.103371  0.934673  \n",
       "...         ...       ...       ...       ...       ...  \n",
       "34029  1.170569  0.603275 -0.272186  1.197510 -1.414982  \n",
       "34030 -0.636113  1.805926  0.875956  1.633476  0.220246  \n",
       "34031  0.293784  0.458012 -0.703890 -0.817984 -2.183059  \n",
       "34032  0.431596  1.582054 -0.571960  0.889549 -0.868740  \n",
       "34033  0.785185  0.680617  0.438886 -0.562507 -1.642674  \n",
       "\n",
       "[34034 rows x 11 columns]"
      ]
     },
     "execution_count": 362,
     "metadata": {},
     "output_type": "execute_result"
    }
   ],
   "source": [
    "pd_df"
   ]
  },
  {
   "cell_type": "markdown",
   "metadata": {},
   "source": [
    "Now we can visualize how well our model performed by plotting \"target\" and \"gbt_predict\" with respect to our principal components."
   ]
  },
  {
   "cell_type": "code",
   "execution_count": 377,
   "metadata": {},
   "outputs": [
    {
     "data": {
      "image/png": "[encoded data removed]",
      "text/plain": [
       "<Figure size 1332x756 with 1 Axes>"
      ]
     },
     "metadata": {
      "needs_background": "light"
     },
     "output_type": "display_data"
    }
   ],
   "source": [
    "import matplotlib.pyplot as plt\n",
    "\n",
    "fig = plt.gcf()\n",
    "fig.set_size_inches(18.5, 10.5)\n",
    "\n",
    "plt.scatter(pd_df[\"pc1\"], pd_df[\"target\"], color=\"k\", label=\"target\")\n",
    "plt.scatter(pd_df[\"pc1\"], pd_df[\"gbt_predict\"], color=\"g\", label=\"gbt_predict\")\n",
    "plt.legend(loc=\"upper left\")\n",
    "plt.title(\"target and gbt_predict vs. pc1\")\n",
    "plt.xlabel(\"pc1\")\n",
    "plt.show()"
   ]
  },
  {
   "cell_type": "code",
   "execution_count": 380,
   "metadata": {},
   "outputs": [
    {
     "data": {
      "image/png": "[encoded data removed]",
      "text/plain": [
       "<Figure size 1332x756 with 1 Axes>"
      ]
     },
     "metadata": {
      "needs_background": "light"
     },
     "output_type": "display_data"
    }
   ],
   "source": [
    "fig = plt.gcf()\n",
    "fig.set_size_inches(18.5, 10.5)\n",
    "\n",
    "plt.scatter(pd_df[\"pc2\"], pd_df[\"target\"], color=\"k\", label=\"target\")\n",
    "plt.scatter(pd_df[\"pc2\"], pd_df[\"gbt_predict\"], color=\"g\", label=\"gbt_predict\")\n",
    "plt.legend(loc=\"upper left\")\n",
    "plt.title(\"target and gbt_predict vs. pc2\")\n",
    "plt.xlabel(\"pc2\")\n",
    "plt.show()"
   ]
  },
  {
   "cell_type": "code",
   "execution_count": 381,
   "metadata": {},
   "outputs": [
    {
     "data": {
      "image/png": "[encoded data removed]",
      "text/plain": [
       "<Figure size 1332x756 with 1 Axes>"
      ]
     },
     "metadata": {
      "needs_background": "light"
     },
     "output_type": "display_data"
    }
   ],
   "source": [
    "fig = plt.gcf()\n",
    "fig.set_size_inches(18.5, 10.5)\n",
    "\n",
    "plt.scatter(pd_df[\"pc3\"], pd_df[\"target\"], color=\"k\", label=\"target\")\n",
    "plt.scatter(pd_df[\"pc3\"], pd_df[\"gbt_predict\"], color=\"g\", label=\"gbt_predict\")\n",
    "plt.legend(loc=\"upper left\")\n",
    "plt.title(\"target and gbt_predict vs. pc3\")\n",
    "plt.xlabel(\"pc3\")\n",
    "plt.show()"
   ]
  },
  {
   "cell_type": "code",
   "execution_count": 382,
   "metadata": {},
   "outputs": [
    {
     "data": {
      "image/png": "[encoded data removed]",
      "text/plain": [
       "<Figure size 1332x756 with 1 Axes>"
      ]
     },
     "metadata": {
      "needs_background": "light"
     },
     "output_type": "display_data"
    }
   ],
   "source": [
    "fig = plt.gcf()\n",
    "fig.set_size_inches(18.5, 10.5)\n",
    "\n",
    "plt.scatter(pd_df[\"pc4\"], pd_df[\"target\"], color=\"k\", label=\"target\")\n",
    "plt.scatter(pd_df[\"pc4\"], pd_df[\"gbt_predict\"], color=\"g\", label=\"gbt_predict\")\n",
    "plt.legend(loc=\"upper left\")\n",
    "plt.title(\"target and gbt_predict vs. pc4\")\n",
    "plt.xlabel(\"pc4\")\n",
    "plt.show()"
   ]
  },
  {
   "cell_type": "markdown",
   "metadata": {},
   "source": [
    "Looking at the graphs above, it is clear that the model does sucessfully capture a lot of the patterns in the data. It is clear that in the majority of cases, the model is able to give a realistic price estimate. Furthermore, with an $R^2$ value of 0.67 and a mean absolute error of 2757, these results lead us to believe that the model we producted has statistical significance and thus we will accept the presented model. However, even though we accept the model, it does not mean that we are comfortable deploying such a model in a business setting. More thought, data and time would need to be put in in order to create a good enough model. "
   ]
  },
  {
   "cell_type": "markdown",
   "metadata": {},
   "source": [
    "# Conclusion"
   ]
  },
  {
   "cell_type": "markdown",
   "metadata": {},
   "source": [
    "For the \"Used Cars\" dataset we found that the gradient-boosted tree regression model performed the best when compared to the other models that we created. With a RMSE of 5357, an $R^2$ value of 0.68 and a MAE of 2757, we decided to accept the model as it clearly is statistically significant. However, even though our model was significant enough to accept its results, there is a lot of work to be done in terms of creating a model that can be deployed in a business setting. Our poorest performing model was the linear regression model with a RMSE of 6238, $R^2$ of 0.56 and a MAE of 3443. These results let us know that the data that we are dealing with likely is not very linear, in fact it is likely to be very highly non-linear as many different combinations of different variables can effect the price of a car in very non-linear ways. Furthermore, we say that our third and second best performing models were the decision tree with a RMSE of 6078, $R^2$ of 0.58 and MAE of 3302 and the random forest with a RMSE of 5759, $R^2$ of 0.62 and MAE of 3286. "
   ]
  },
  {
   "cell_type": "markdown",
   "metadata": {},
   "source": [
    "## What We Learned"
   ]
  },
  {
   "cell_type": "markdown",
   "metadata": {},
   "source": [
    "A lot was learned through the completion of this first project. First, and most important, we became familiar with the spark framework and its many tools and applications in the realm of datascience. We learned how to deal with spark dataframes, preprocess, scale and normalize data in spark. Furthermore, we learned how to build a variety of models in spark including Linear and Tree based algorithms. Additionally, we also learned more about the \"used cars\" dataset and how seemingly simple problems can often be very difficult puzzles to overcome. "
   ]
  },
  {
   "cell_type": "markdown",
   "metadata": {},
   "source": [
    "## Areas of Improvement"
   ]
  },
  {
   "cell_type": "markdown",
   "metadata": {},
   "source": [
    "There are certainly many areas of this project that could be improved upon. Firstly, a larger variety of more complex models would have certainly allowed us to find a more optimal model for the given dataset. Furthermore, creating a larger \"ensemble\" model capturing components from all of the trained models would be very beneficial and would help create a model that could capture more of the details in our dataset. "
   ]
  }
 ],
 "metadata": {
  "kernelspec": {
   "display_name": "Python 3",
   "language": "python",
   "name": "python3"
  },
  "language_info": {
   "codemirror_mode": {
    "name": "ipython",
    "version": 3
   },
   "file_extension": ".py",
   "mimetype": "text/x-python",
   "name": "python",
   "nbconvert_exporter": "python",
   "pygments_lexer": "ipython3",
   "version": "3.7.6"
  }
 },
 "nbformat": 4,
 "nbformat_minor": 4
}
