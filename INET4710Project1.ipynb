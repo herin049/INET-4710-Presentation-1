{
 "cells": [
  {
   "cell_type": "markdown",
   "metadata": {},
   "source": [
    "# Exploratory Data Analysis\n",
    "### 02/17/2020\n",
    "### Group 6: Lukas Hering, Tommy Luangrath, Ian Luck, Andrea Simenstad"
   ]
  },
  {
   "cell_type": "markdown",
   "metadata": {},
   "source": [
    "# Overview"
   ]
  },
  {
   "cell_type": "markdown",
   "metadata": {},
   "source": [
    "<img src=\"used-car.jpg\">"
   ]
  },
  {
   "cell_type": "markdown",
   "metadata": {},
   "source": [
    "In this project, we are presented with some data and a business problem. Our goal is to provide a solution to our business problem while using the spark framework.\n",
    "\n",
    "\n",
    "#### The Dataset\n",
    "\n",
    "The dataset that we are provided with is the \"Used Cars Database\" scraped from Ebay Kleinanzeigen in Germany. The dataset contains a collection of over 370,000 used cars with a list of fields. The fields for our dataset include dateCrawled, name of the care, sellect, model of the car, kilometers the car has driven etc.\n",
    "\n",
    "#### Business Problem\n",
    "\n",
    "\n",
    "Our business problem is to predict how much a used car should be valued at, given relavent information such as the name of the car, the type of seller, offer type, how many kilometers the car has driven, etc. \n",
    "\n",
    "#### Main Objective\n",
    "\n",
    "The main objective for this project, is to build an efficient and effective model that is able to predict the sale price of a used vehicle. With our model, we will able to provide eBay or other car dealerships an efficient algorithm to predict the price a used car should be sold at in order to maximize the profit and to minimize time spent evaluating the price of a vehicle.\n",
    "\n",
    "To achieve our main objective, we will be creating an ensemble model consisting multiple types of linnear regression models includeing Lasso regression, ridge regression and elastic net regression and tree based alagorithms. \n",
    "\n",
    "### Data Profiling\n",
    "\n",
    "#### Dataset Field Definitions\n",
    "We are working with a dataset about used cars, which is partially in German. The dataset is hosted on Kaggle at https://www.kaggle.com/orgesleka/used-cars-database.\n",
    "\n",
    "Where indicates by ‘\\*’, the table uses verbatim the dataset field descriptions from https://www.kaggle.com/orgesleka/used-cars-database.\n",
    "\n",
    "| key                | type          |  description   |\n",
    "| -------------      | ------------- | -------------  |\n",
    "| dateCrawled        | timestamp     | \\*when this ad was first crawled, all field-values are taken from this date |\n",
    "| name               | string        | \\*\"name\" of the car|\n",
    "| seller             | string        | \\*private or dealer |\n",
    "| offerType          | string        |                     |\n",
    "| price              | integer       | \\*the price on the ad to sell the car |\n",
    "| abtest             | string        |                     |\n",
    "| vehicleType        | string        |                     |\n",
    "| yearOfRegistration | integer       | \\*at which year the car was first registered |\n",
    "| gearbox            | string        |                     | \n",
    "| powerPS            | integer       | \\*power of the car in PS | \n",
    "| model               | string        |                           | \n",
    "| kilometers          | integer       | \\*how many kilometers the car has driven | \n",
    "| monthOfRegistration | integer       | \\*at which month the car was first registered |\n",
    "| fuelType            | string        |                  |\n",
    "| brand               | string        |                  |\n",
    "| notRepairedDamage   | string        | \\*if the car has a damage which is not repaired yet |\n",
    "| dateCreated         | timestamp     | \\*the date for which the ad at ebay was created |\n",
    "| nrOfPictures        | integer       | \\*number of pictures in the ad (unfortunately this field contains everywhere a 0 and is thus useless (bug in crawler!) ) |\n",
    "| postalCode          | integer       |                   |\n",
    "| lastSeenOnline      | timestamp     | \\*when the crawler saw this ad last online |\n",
    "\n",
    "\n",
    "\n",
    "\n",
    "#### Data Quality\n",
    "The nrOfPictures field can be dropped due to data quality issues (see notes from Kaggle website).\n",
    "- The field notRepairedDamage is likely to be dropped. Currently, the field contains the values null, ja, and nein. It is not clear if null represents that the user skipped the field or if there has never been any damage to the car.\n",
    "    - nein has 263390 entries\n",
    "    - null has 72123 entries\n",
    "    - ja has 36310 entries\n",
    "\n",
    "#### Distributions and Dependencies\n",
    "- There are outliers for the price field.\n",
    "\n",
    "#### Feature engineering\n",
    "- How balanced is our dataset?\n",
    "    - The price field definitely has outliers, including 0 and 2147483647.\n",
    "\n",
    "- Data Normalization\n",
    "    - Date fields can be normalized. For example, the difference between dateCreated and lastSeenOnline.\n",
    "    - The string values for the fields gearBox and fuelType can be transformed from strings to a corresponding binary.\n",
    "\n",
    "#### Feature Selection\n",
    "Currently selected features:\n",
    "- price\n",
    "- yearOfRegistration\n",
    "- Difference between dateCreated and lastSeenOnline\n",
    "- gearBox (as a standardized integer)\n",
    "- fuelType (as a standardized integer)\n",
    "- kilometers\n"
   ]
  },
  {
   "cell_type": "markdown",
   "metadata": {},
   "source": [
    "# Exploratory Data Analysis"
   ]
  },
  {
   "cell_type": "code",
   "execution_count": 1,
   "metadata": {},
   "outputs": [],
   "source": [
    "from pyspark.sql import SparkSession\n",
    "from pyspark.sql.functions import isnan, when, count, col\n",
    "\n",
    "spark = SparkSession.builder.master(\"local[*]\").appName(\"Learning_Spark\").getOrCreate()"
   ]
  },
  {
   "cell_type": "markdown",
   "metadata": {},
   "source": [
    "First, we're going to load our data in our csv file into a spark dataframe in order to used our data with Spark."
   ]
  },
  {
   "cell_type": "code",
   "execution_count": 2,
   "metadata": {},
   "outputs": [],
   "source": [
    "data = spark.read.csv('autos.csv',inferSchema=True, header=True)"
   ]
  },
  {
   "cell_type": "markdown",
   "metadata": {},
   "source": [
    "Now, we'll look at the shape of our dataframe to how many features and how much data we have."
   ]
  },
  {
   "cell_type": "code",
   "execution_count": 3,
   "metadata": {},
   "outputs": [
    {
     "name": "stdout",
     "output_type": "stream",
     "text": [
      "Number of entries: 371824\n",
      "Number of features: 20\n"
     ]
    }
   ],
   "source": [
    "print(\"Number of entries: \" + str(data.count()))\n",
    "print(\"Number of features: \" + str(len(data.columns)))"
   ]
  },
  {
   "cell_type": "markdown",
   "metadata": {},
   "source": [
    "Now we can print a few portions of our dataset to get an indication of what our data contains."
   ]
  },
  {
   "cell_type": "code",
   "execution_count": 4,
   "metadata": {},
   "outputs": [
    {
     "name": "stdout",
     "output_type": "stream",
     "text": [
      "+-------------------+--------------------+------+---------+-----+------+-----------+------------------+---------+-------+-----+---------+-------------------+--------+----------+-----------------+-------------------+------------+----------+-------------------+\n",
      "|        dateCrawled|                name|seller|offerType|price|abtest|vehicleType|yearOfRegistration|  gearbox|powerPS|model|kilometer|monthOfRegistration|fuelType|     brand|notRepairedDamage|        dateCreated|nrOfPictures|postalCode|           lastSeen|\n",
      "+-------------------+--------------------+------+---------+-----+------+-----------+------------------+---------+-------+-----+---------+-------------------+--------+----------+-----------------+-------------------+------------+----------+-------------------+\n",
      "|2016-03-24 11:52:17|          Golf_3_1.6|privat|  Angebot|  480|  test|       null|              1993|  manuell|      0| golf|   150000|                  0|  benzin|volkswagen|             null|2016-03-24 00:00:00|           0|     70435|2016-04-07 03:16:57|\n",
      "|2016-03-24 10:58:45|A5_Sportback_2.7_Tdi|privat|  Angebot|18300|  test|      coupe|              2011|  manuell|    190| null|   125000|                  5|  diesel|      audi|               ja|2016-03-24 00:00:00|           0|     66954|2016-04-07 01:46:50|\n",
      "|2016-03-14 12:52:21|Jeep_Grand_Cherok...|privat|  Angebot| 9800|  test|        suv|              2004|automatik|    163|grand|   125000|                  8|  diesel|      jeep|             null|2016-03-14 00:00:00|           0|     90480|2016-04-05 12:47:46|\n",
      "+-------------------+--------------------+------+---------+-----+------+-----------+------------------+---------+-------+-----+---------+-------------------+--------+----------+-----------------+-------------------+------------+----------+-------------------+\n",
      "only showing top 3 rows\n",
      "\n"
     ]
    }
   ],
   "source": [
    "data.show(3)"
   ]
  },
  {
   "cell_type": "markdown",
   "metadata": {},
   "source": [
    "## Data Profiling"
   ]
  },
  {
   "cell_type": "markdown",
   "metadata": {},
   "source": [
    "Now, we will perform some data profiling to get a better understanding of what types of fields our data contains and what quality of data we are dealing with."
   ]
  },
  {
   "cell_type": "code",
   "execution_count": 5,
   "metadata": {},
   "outputs": [
    {
     "name": "stdout",
     "output_type": "stream",
     "text": [
      "root\n",
      " |-- dateCrawled: timestamp (nullable = true)\n",
      " |-- name: string (nullable = true)\n",
      " |-- seller: string (nullable = true)\n",
      " |-- offerType: string (nullable = true)\n",
      " |-- price: integer (nullable = true)\n",
      " |-- abtest: string (nullable = true)\n",
      " |-- vehicleType: string (nullable = true)\n",
      " |-- yearOfRegistration: integer (nullable = true)\n",
      " |-- gearbox: string (nullable = true)\n",
      " |-- powerPS: integer (nullable = true)\n",
      " |-- model: string (nullable = true)\n",
      " |-- kilometer: integer (nullable = true)\n",
      " |-- monthOfRegistration: integer (nullable = true)\n",
      " |-- fuelType: string (nullable = true)\n",
      " |-- brand: string (nullable = true)\n",
      " |-- notRepairedDamage: string (nullable = true)\n",
      " |-- dateCreated: timestamp (nullable = true)\n",
      " |-- nrOfPictures: integer (nullable = true)\n",
      " |-- postalCode: integer (nullable = true)\n",
      " |-- lastSeen: timestamp (nullable = true)\n",
      "\n"
     ]
    }
   ],
   "source": [
    "data.printSchema()"
   ]
  },
  {
   "cell_type": "code",
   "execution_count": 6,
   "metadata": {},
   "outputs": [
    {
     "name": "stdout",
     "output_type": "stream",
     "text": [
      "+-----------------------------------------------------------------+-------------------+-------------------+-----+\n",
      "|name                                                             |dateCreated        |lastSeen           |price|\n",
      "+-----------------------------------------------------------------+-------------------+-------------------+-----+\n",
      "|Golf_3_1.6                                                       |2016-03-24 00:00:00|2016-04-07 03:16:57|480  |\n",
      "|A5_Sportback_2.7_Tdi                                             |2016-03-24 00:00:00|2016-04-07 01:46:50|18300|\n",
      "|Jeep_Grand_Cherokee_\"Overland\"                                   |2016-03-14 00:00:00|2016-04-05 12:47:46|9800 |\n",
      "|GOLF_4_1_4__3T�RER                                               |2016-03-17 00:00:00|2016-03-17 17:40:17|1500 |\n",
      "|Skoda_Fabia_1.4_TDI_PD_Classic                                   |2016-03-31 00:00:00|2016-04-06 10:17:21|3600 |\n",
      "|BMW_316i___e36_Limousine___Bastlerfahrzeug__Export               |2016-04-04 00:00:00|2016-04-06 19:17:07|650  |\n",
      "|Peugeot_206_CC_110_Platinum                                      |2016-04-01 00:00:00|2016-04-05 18:18:39|2200 |\n",
      "|VW_Derby_Bj_80__Scheunenfund                                     |2016-03-21 00:00:00|2016-03-25 16:47:58|0    |\n",
      "|Ford_C___Max_Titanium_1_0_L_EcoBoost                             |2016-04-04 00:00:00|2016-04-04 23:42:13|14500|\n",
      "|VW_Golf_4_5_tuerig_zu_verkaufen_mit_Anhaengerkupplung            |2016-03-17 00:00:00|2016-03-31 17:17:06|999  |\n",
      "|Mazda_3_1.6_Sport                                                |2016-03-26 00:00:00|2016-04-06 10:45:34|2000 |\n",
      "|Volkswagen_Passat_Variant_2.0_TDI_Comfortline                    |2016-04-07 00:00:00|2016-04-07 10:25:17|2799 |\n",
      "|VW_Passat_Facelift_35i__\"7Sitzer\"                                |2016-03-15 00:00:00|2016-04-01 13:16:16|999  |\n",
      "|VW_PASSAT_1.9_TDI_131_PS_LEDER                                   |2016-03-21 00:00:00|2016-03-23 02:50:54|2500 |\n",
      "|Nissan_Navara_2.5DPF_SE4x4_Klima_Sitzheizg_Bluetooth.Doppelkabine|2016-03-21 00:00:00|2016-04-06 07:45:42|17999|\n",
      "+-----------------------------------------------------------------+-------------------+-------------------+-----+\n",
      "only showing top 15 rows\n",
      "\n"
     ]
    }
   ],
   "source": [
    "data.select(\"name\",\"dateCreated\",\"lastSeen\",\"price\").show(15, truncate=False)"
   ]
  },
  {
   "cell_type": "code",
   "execution_count": 7,
   "metadata": {},
   "outputs": [
    {
     "name": "stdout",
     "output_type": "stream",
     "text": [
      "+-------+------------------+------------------+\n",
      "|summary|             price|         kilometer|\n",
      "+-------+------------------+------------------+\n",
      "|  count|            371823|            371823|\n",
      "|   mean|17286.338865535483|125618.56044408226|\n",
      "| stddev|3586530.1840678076| 40111.62016494461|\n",
      "|    min|                 0|              5000|\n",
      "|    max|        2147483647|            150000|\n",
      "+-------+------------------+------------------+\n",
      "\n"
     ]
    }
   ],
   "source": [
    "data.describe([\"price\",\"kilometer\"]).show()"
   ]
  },
  {
   "cell_type": "code",
   "execution_count": 8,
   "metadata": {},
   "outputs": [
    {
     "name": "stdout",
     "output_type": "stream",
     "text": [
      "+-------+---------+\n",
      "|summary|offerType|\n",
      "+-------+---------+\n",
      "|  count|   371823|\n",
      "|   mean|     null|\n",
      "| stddev|     null|\n",
      "|    min|  Angebot|\n",
      "|    max|   Gesuch|\n",
      "+-------+---------+\n",
      "\n"
     ]
    }
   ],
   "source": [
    "data.describe([\"offerType\"]).show()"
   ]
  },
  {
   "cell_type": "code",
   "execution_count": 9,
   "metadata": {},
   "outputs": [],
   "source": [
    "group_by_gearbox = data.groupby('gearbox')\n",
    "group_by_brand = data.groupby('brand')\n",
    "group_by_notRepairedDamage = data.groupby('notRepairedDamage')"
   ]
  },
  {
   "cell_type": "code",
   "execution_count": 10,
   "metadata": {},
   "outputs": [
    {
     "name": "stdout",
     "output_type": "stream",
     "text": [
      "+---------+------------------+\n",
      "|  gearbox|        avg(price)|\n",
      "+---------+------------------+\n",
      "|     null|43990.346585570886|\n",
      "|automatik|15145.544156332206|\n",
      "|  manuell|15920.486752589904|\n",
      "+---------+------------------+\n",
      "\n"
     ]
    }
   ],
   "source": [
    "group_by_gearbox.agg({'price': 'avg'}).show()"
   ]
  },
  {
   "cell_type": "code",
   "execution_count": 11,
   "metadata": {},
   "outputs": [
    {
     "name": "stdout",
     "output_type": "stream",
     "text": [
      "+-------------+------------------+\n",
      "|        brand|        avg(price)|\n",
      "+-------------+------------------+\n",
      "|       jaguar|14228.083735909822|\n",
      "|     daihatsu|1691.6815365551424|\n",
      "|   mitsubishi|3274.6647078028077|\n",
      "|         null|              null|\n",
      "|         lada|3037.4444444444443|\n",
      "|       toyota| 5235.104468085106|\n",
      "|         seat| 4356.156703672075|\n",
      "|         saab| 3808.686090225564|\n",
      "|   land_rover|16698.858625162127|\n",
      "|      peugeot| 3168.667391698387|\n",
      "|     chrysler| 3912.255158184319|\n",
      "|      citroen| 8875.202082529888|\n",
      "|         audi| 15863.35696264097|\n",
      "|mercedes_benz|17244.502687715725|\n",
      "|          bmw|14838.656460137465|\n",
      "|         jeep|11998.898514851486|\n",
      "|       lancia| 3165.754132231405|\n",
      "|        skoda| 6413.099698955198|\n",
      "|        rover| 1508.022448979592|\n",
      "|      hyundai| 5417.859139490271|\n",
      "+-------------+------------------+\n",
      "only showing top 20 rows\n",
      "\n"
     ]
    }
   ],
   "source": [
    "group_by_brand.agg({'price': 'avg'}).show()"
   ]
  },
  {
   "cell_type": "code",
   "execution_count": 12,
   "metadata": {},
   "outputs": [
    {
     "name": "stdout",
     "output_type": "stream",
     "text": [
      "+-------------+------------+\n",
      "|        brand|count(price)|\n",
      "+-------------+------------+\n",
      "|       jaguar|         621|\n",
      "|     daihatsu|         807|\n",
      "|   mitsubishi|        3063|\n",
      "|         null|           0|\n",
      "|         lada|         225|\n",
      "|       toyota|        4700|\n",
      "|         seat|        7026|\n",
      "|         saab|         532|\n",
      "|   land_rover|         771|\n",
      "|      peugeot|       11034|\n",
      "|     chrysler|        1454|\n",
      "|      citroen|        5186|\n",
      "|         audi|       32897|\n",
      "|mercedes_benz|       35346|\n",
      "|          bmw|       40301|\n",
      "|         jeep|         808|\n",
      "|       lancia|         484|\n",
      "|        skoda|        5647|\n",
      "|        rover|         490|\n",
      "|      hyundai|        3649|\n",
      "+-------------+------------+\n",
      "only showing top 20 rows\n",
      "\n"
     ]
    }
   ],
   "source": [
    "group_by_brand.agg({'price': 'count'}).show()"
   ]
  },
  {
   "cell_type": "code",
   "execution_count": 13,
   "metadata": {},
   "outputs": [
    {
     "name": "stdout",
     "output_type": "stream",
     "text": [
      "+-----------------+-----------------+\n",
      "|notRepairedDamage|       avg(price)|\n",
      "+-----------------+-----------------+\n",
      "|             nein|9128.952507688218|\n",
      "|             null| 22760.0665252416|\n",
      "|               ja|65586.87130267144|\n",
      "+-----------------+-----------------+\n",
      "\n"
     ]
    }
   ],
   "source": [
    "group_by_notRepairedDamage.agg({'price': 'avg'}).show()"
   ]
  },
  {
   "cell_type": "code",
   "execution_count": 14,
   "metadata": {},
   "outputs": [
    {
     "name": "stdout",
     "output_type": "stream",
     "text": [
      "+-------------------+---------------------+--------------------+\n",
      "|        field label|number_of_null_values|        percent_null|\n",
      "+-------------------+---------------------+--------------------+\n",
      "|        dateCrawled|                    0|                 0.0|\n",
      "|               name|                    0|                 0.0|\n",
      "|            powerPS|                    1|2.689444468350617...|\n",
      "|             seller|                    1|2.689444468350617...|\n",
      "|          offerType|                    1|2.689444468350617...|\n",
      "|              brand|                    1|2.689444468350617...|\n",
      "|              price|                    1|2.689444468350617...|\n",
      "|             abtest|                    1|2.689444468350617...|\n",
      "|        dateCreated|                    1|2.689444468350617...|\n",
      "|         postalCode|                    1|2.689444468350617...|\n",
      "|           lastSeen|                    1|2.689444468350617...|\n",
      "|       nrOfPictures|                    1|2.689444468350617...|\n",
      "| yearOfRegistration|                    1|2.689444468350617...|\n",
      "|monthOfRegistration|                    1|2.689444468350617...|\n",
      "|          kilometer|                    1|2.689444468350617...|\n",
      "|            gearbox|                20224|   5.439132492792289|\n",
      "|              model|                20499|   5.513092215671931|\n",
      "|           fuelType|                33416|   8.987047635440423|\n",
      "|        vehicleType|                37900|   10.19299453504884|\n",
      "|  notRepairedDamage|                72124|  19.397349283531995|\n",
      "+-------------------+---------------------+--------------------+\n",
      "\n"
     ]
    }
   ],
   "source": [
    "def null_column_assesment(column_headers):\n",
    "    null_count = list(\n",
    "        map(\n",
    "            lambda col: (\n",
    "                col,\n",
    "                data.filter(data[col].isNull()).count(),\n",
    "                (data.filter(data[col].isNull()).count()/data.count())*100\n",
    "            ),\n",
    "            column_headers\n",
    "        )\n",
    "    )\n",
    "    df_null_count = spark.createDataFrame(null_count, ['field label', 'number_of_null_values','percent_null'])\n",
    "    df_null_count.orderBy(\"number_of_null_values\").show()\n",
    "\n",
    "null_column_assesment(data.columns)"
   ]
  },
  {
   "cell_type": "markdown",
   "metadata": {},
   "source": [
    "As we can see, we have quite a few null values. Now we will have to drop these null values. "
   ]
  },
  {
   "cell_type": "code",
   "execution_count": 15,
   "metadata": {},
   "outputs": [],
   "source": [
    "#Remove nulls\n",
    "data = data.na.drop()\n",
    "\n",
    "#Drop Unnecessary fields\n",
    "drop_fields = ['seller', 'offerType', 'notRepairedDamage ', 'dateCrawled', 'name', 'abtest']\n",
    "\n",
    "#Drop nulls\n",
    "data = data.drop(*drop_fields)\n",
    "data = data.filter(data[\"gearbox\"] != 'null')\n",
    "\n",
    "#Keep data in a specific range\n",
    "data = data.filter(data[\"yearOfRegistration\"] > 1944)\n",
    "data = data.filter(data[\"yearOfRegistration\"] < 2018)\n",
    "data = data.filter(data[\"powerPS\"] > 99)\n",
    "data = data.filter(data[\"powerPS\"] < 501)\n",
    "data = data.filter(data[\"price\"] > 99)\n",
    "data = data.filter(data[\"price\"] < 400000)"
   ]
  },
  {
   "cell_type": "code",
   "execution_count": 16,
   "metadata": {},
   "outputs": [
    {
     "name": "stdout",
     "output_type": "stream",
     "text": [
      "+-------------------+---------------------+------------+\n",
      "|        field label|number_of_null_values|percent_null|\n",
      "+-------------------+---------------------+------------+\n",
      "|              brand|                    0|         0.0|\n",
      "|  notRepairedDamage|                    0|         0.0|\n",
      "|        dateCreated|                    0|         0.0|\n",
      "|       nrOfPictures|                    0|         0.0|\n",
      "|         postalCode|                    0|         0.0|\n",
      "|           lastSeen|                    0|         0.0|\n",
      "|              price|                    0|         0.0|\n",
      "|        vehicleType|                    0|         0.0|\n",
      "| yearOfRegistration|                    0|         0.0|\n",
      "|            gearbox|                    0|         0.0|\n",
      "|            powerPS|                    0|         0.0|\n",
      "|              model|                    0|         0.0|\n",
      "|          kilometer|                    0|         0.0|\n",
      "|monthOfRegistration|                    0|         0.0|\n",
      "|           fuelType|                    0|         0.0|\n",
      "+-------------------+---------------------+------------+\n",
      "\n"
     ]
    }
   ],
   "source": [
    "null_column_assesment(data.columns)"
   ]
  },
  {
   "cell_type": "markdown",
   "metadata": {},
   "source": [
    "## Feature Engineering"
   ]
  },
  {
   "cell_type": "markdown",
   "metadata": {},
   "source": [
    "Now that we have a better understanding of our dataset, we need to transform and normalize the features in our dataset into more meaningful features in order for our model to perform optimally."
   ]
  },
  {
   "cell_type": "markdown",
   "metadata": {},
   "source": [
    "First, we need to convert the categorical variables into numeric variables using Spark's [StringIndexer](https://spark.apache.org/docs/latest/ml-features#stringindexer). The variables transformed include *gearbox*, *vehicleType*, *model*, *fuelType*, and *brand*."
   ]
  },
  {
   "cell_type": "code",
   "execution_count": 17,
   "metadata": {},
   "outputs": [
    {
     "name": "stdout",
     "output_type": "stream",
     "text": [
      "+---------+------+\n",
      "|  gearbox| count|\n",
      "+---------+------+\n",
      "|automatik| 51855|\n",
      "|  manuell|116915|\n",
      "+---------+------+\n",
      "\n",
      "+-----------+-------+\n",
      "|gearbox_num|gearbox|\n",
      "+-----------+-------+\n",
      "|0.0        |manuell|\n",
      "|0.0        |manuell|\n",
      "|0.0        |manuell|\n",
      "|0.0        |manuell|\n",
      "|0.0        |manuell|\n",
      "+-----------+-------+\n",
      "only showing top 5 rows\n",
      "\n"
     ]
    }
   ],
   "source": [
    "from pyspark.sql.functions import col, when\n",
    "from pyspark.ml.feature import StringIndexer\n",
    "\n",
    "data.groupBy('gearbox').count().show()\n",
    "\n",
    "indexer = StringIndexer(inputCol=\"gearbox\", outputCol=\"gearbox_num\")\n",
    "data = indexer.fit(data).transform(data)\n",
    "\n",
    "data.select(\"gearbox_num\",\"gearbox\").show(5, truncate=False)"
   ]
  },
  {
   "cell_type": "code",
   "execution_count": 18,
   "metadata": {},
   "outputs": [
    {
     "name": "stdout",
     "output_type": "stream",
     "text": [
      "+-----------+-----+\n",
      "|vehicleType|count|\n",
      "+-----------+-----+\n",
      "|      coupe|12663|\n",
      "|        bus|19061|\n",
      "| kleinwagen| 6905|\n",
      "|     andere|  824|\n",
      "|  limousine|58391|\n",
      "|     cabrio|14699|\n",
      "|        suv|10761|\n",
      "|      kombi|45466|\n",
      "+-----------+-----+\n",
      "\n",
      "+---------------+-----------+\n",
      "|vehicleType_num|vehicleType|\n",
      "+---------------+-----------+\n",
      "|0.0            |limousine  |\n",
      "|3.0            |cabrio     |\n",
      "|0.0            |limousine  |\n",
      "|1.0            |kombi      |\n",
      "|5.0            |suv        |\n",
      "+---------------+-----------+\n",
      "only showing top 5 rows\n",
      "\n"
     ]
    }
   ],
   "source": [
    "data.groupBy('vehicleType').count().show()\n",
    "\n",
    "indexer = StringIndexer(inputCol=\"vehicleType\", outputCol=\"vehicleType_num\")\n",
    "data = indexer.fit(data).transform(data)\n",
    "\n",
    "data.select(\"vehicleType_num\",\"vehicleType\").show(5, truncate=False)"
   ]
  },
  {
   "cell_type": "code",
   "execution_count": 19,
   "metadata": {},
   "outputs": [
    {
     "name": "stdout",
     "output_type": "stream",
     "text": [
      "+--------+-----+\n",
      "|   model|count|\n",
      "+--------+-----+\n",
      "|   viano|  358|\n",
      "| 1_reihe|   45|\n",
      "|     1er| 3308|\n",
      "|rx_reihe|  118|\n",
      "|sportage|  252|\n",
      "|  x_type|  121|\n",
      "|  antara|   75|\n",
      "|     7er|  821|\n",
      "| boxster|  362|\n",
      "|      cc|  155|\n",
      "| clubman|  163|\n",
      "|  megane| 1415|\n",
      "|s_klasse|  697|\n",
      "|    yeti|  188|\n",
      "|   kalos|    1|\n",
      "| x_trail|  175|\n",
      "|   lodgy|   19|\n",
      "|     200|   11|\n",
      "|   delta|   22|\n",
      "| m_reihe|  244|\n",
      "+--------+-----+\n",
      "only showing top 20 rows\n",
      "\n",
      "+-------+---------+\n",
      "|model  |model_num|\n",
      "+-------+---------+\n",
      "|3er    |0.0      |\n",
      "|2_reihe|20.0     |\n",
      "|3_reihe|21.0     |\n",
      "|passat |4.0      |\n",
      "|navara |160.0    |\n",
      "+-------+---------+\n",
      "only showing top 5 rows\n",
      "\n"
     ]
    }
   ],
   "source": [
    "data.groupBy('model').count().show()\n",
    "\n",
    "indexer = StringIndexer(inputCol=\"model\", outputCol=\"model_num\")\n",
    "data = indexer.fit(data).transform(data)\n",
    "\n",
    "data.select(\"model\",\"model_num\").show(5, truncate=False)"
   ]
  },
  {
   "cell_type": "code",
   "execution_count": 20,
   "metadata": {},
   "outputs": [
    {
     "name": "stdout",
     "output_type": "stream",
     "text": [
      "+--------+-----+\n",
      "|fuelType|count|\n",
      "+--------+-----+\n",
      "|  benzin|92978|\n",
      "| elektro|   14|\n",
      "|  andere|   23|\n",
      "|  diesel|72328|\n",
      "|     cng|  226|\n",
      "|  hybrid|   80|\n",
      "|     lpg| 3121|\n",
      "+--------+-----+\n",
      "\n",
      "+--------+------------+\n",
      "|fuelType|fuelType_num|\n",
      "+--------+------------+\n",
      "|benzin  |0.0         |\n",
      "|benzin  |0.0         |\n",
      "|benzin  |0.0         |\n",
      "|diesel  |1.0         |\n",
      "|diesel  |1.0         |\n",
      "+--------+------------+\n",
      "only showing top 5 rows\n",
      "\n"
     ]
    }
   ],
   "source": [
    "data.groupBy('fuelType').count().show()\n",
    "\n",
    "indexer = StringIndexer(inputCol=\"fuelType\", outputCol=\"fuelType_num\")\n",
    "data = indexer.fit(data).transform(data)\n",
    "\n",
    "data.select(\"fuelType\",\"fuelType_num\").show(5, truncate=False)"
   ]
  },
  {
   "cell_type": "code",
   "execution_count": 21,
   "metadata": {},
   "outputs": [
    {
     "name": "stdout",
     "output_type": "stream",
     "text": [
      "+-------------+-----+\n",
      "|        brand|count|\n",
      "+-------------+-----+\n",
      "|       jaguar|  451|\n",
      "|     daihatsu|   44|\n",
      "|   mitsubishi| 1176|\n",
      "|         lada|    2|\n",
      "|       toyota| 1830|\n",
      "|         seat| 2375|\n",
      "|         saab|  399|\n",
      "|   land_rover|  572|\n",
      "|      peugeot| 4046|\n",
      "|     chrysler|  931|\n",
      "|      citroen| 1552|\n",
      "|         audi|22685|\n",
      "|mercedes_benz|22978|\n",
      "|          bmw|28945|\n",
      "|       lancia|  128|\n",
      "|         jeep|  571|\n",
      "|        skoda| 2663|\n",
      "|        rover|  182|\n",
      "|      hyundai| 1530|\n",
      "|         ford| 9371|\n",
      "+-------------+-----+\n",
      "only showing top 20 rows\n",
      "\n",
      "+----------+---------+\n",
      "|brand     |brand_num|\n",
      "+----------+---------+\n",
      "|bmw       |1.0      |\n",
      "|peugeot   |7.0      |\n",
      "|mazda     |8.0      |\n",
      "|volkswagen|0.0      |\n",
      "|nissan    |15.0     |\n",
      "+----------+---------+\n",
      "only showing top 5 rows\n",
      "\n"
     ]
    }
   ],
   "source": [
    "data.groupBy('brand').count().show()\n",
    "\n",
    "indexer = StringIndexer(inputCol=\"brand\", outputCol=\"brand_num\")\n",
    "data = indexer.fit(data).transform(data)\n",
    "\n",
    "data.select(\"brand\",\"brand_num\").show(5, truncate=False)"
   ]
  },
  {
   "cell_type": "markdown",
   "metadata": {},
   "source": [
    "### Engineering New Features"
   ]
  },
  {
   "cell_type": "markdown",
   "metadata": {},
   "source": [
    "Now that our data is formatted in a more presentable way, lets try to engineer some new features that will aim to capture the problem we are trying to solve, that is predicting the price of a vehicle. "
   ]
  },
  {
   "cell_type": "markdown",
   "metadata": {},
   "source": [
    "The first feature we can think of adding is how often is the car driven. That is how many kilometers per year. We can create a new feature \"kilo_per_year\" to capture this value directly. "
   ]
  },
  {
   "cell_type": "code",
   "execution_count": 22,
   "metadata": {},
   "outputs": [
    {
     "name": "stdout",
     "output_type": "stream",
     "text": [
      "+------------------+---------+-------------+\n",
      "|yearOfRegistration|kilometer|kilo_per_year|\n",
      "+------------------+---------+-------------+\n",
      "|1995              |150000   |6666.6665    |\n",
      "|2004              |150000   |11111.111    |\n",
      "|2004              |150000   |11111.111    |\n",
      "|2005              |150000   |12000.0      |\n",
      "|2011              |70000    |10769.23     |\n",
      "|2007              |150000   |14285.714    |\n",
      "|2004              |150000   |11111.111    |\n",
      "|2009              |100000   |11764.706    |\n",
      "|2002              |150000   |9677.419     |\n",
      "|1990              |150000   |5454.5454    |\n",
      "|2002              |150000   |9677.419     |\n",
      "|1995              |150000   |6666.6665    |\n",
      "|2007              |20000    |1904.762     |\n",
      "|2004              |150000   |11111.111    |\n",
      "|2002              |150000   |9677.419     |\n",
      "+------------------+---------+-------------+\n",
      "only showing top 15 rows\n",
      "\n"
     ]
    }
   ],
   "source": [
    "from pyspark.sql.functions import udf\n",
    "from pyspark.sql.types import LongType, IntegerType, FloatType\n",
    "\n",
    "def kilo_per_year(start_year, total_kilo):\n",
    "    return (total_kilo) / (2017.5 - start_year)\n",
    "\n",
    "kilo_year_udf = udf(lambda x, y: kilo_per_year(x,y), FloatType())\n",
    "\n",
    "data = data.withColumn('kilo_per_year', kilo_year_udf('yearOfRegistration', 'kilometer'))\n",
    "\n",
    "data.select(\"yearOfRegistration\", \"kilometer\", \"kilo_per_year\").show(15, truncate=False)"
   ]
  },
  {
   "cell_type": "markdown",
   "metadata": {},
   "source": [
    "Furthermore, we note that we have two \"timestamp\" variables, \"lastSeen\" and \"dateCreated\". Using this information, we can infer how long it took the vehicle to sell by taking this difference. Thus, we will create a new variable, \"days_to_sell\"."
   ]
  },
  {
   "cell_type": "code",
   "execution_count": 23,
   "metadata": {},
   "outputs": [
    {
     "name": "stdout",
     "output_type": "stream",
     "text": [
      "+------------+-------------------+-------------------+\n",
      "|days_to_sell|lastSeen           |dateCreated        |\n",
      "+------------+-------------------+-------------------+\n",
      "|2.8035533   |2016-04-06 19:17:07|2016-04-04 00:00:00|\n",
      "|4.7629514   |2016-04-05 18:18:39|2016-04-01 00:00:00|\n",
      "|11.44831    |2016-04-06 10:45:34|2016-03-26 00:00:00|\n",
      "|0.43422455  |2016-04-07 10:25:17|2016-04-07 00:00:00|\n",
      "|16.323402   |2016-04-06 07:45:42|2016-03-21 00:00:00|\n",
      "|13.781377   |2016-04-05 18:45:11|2016-03-23 00:00:00|\n",
      "|4.948669    |2016-04-05 22:46:05|2016-04-01 00:00:00|\n",
      "|4.698484    |2016-04-05 16:45:49|2016-04-01 00:00:00|\n",
      "|11.280856   |2016-04-07 06:44:26|2016-03-27 00:00:00|\n",
      "|0.82001156  |2016-03-13 20:40:49|2016-03-13 00:00:00|\n",
      "|0.90565974  |2016-03-18 21:44:09|2016-03-18 00:00:00|\n",
      "|2.636169    |2016-04-05 15:16:05|2016-04-03 00:00:00|\n",
      "|13.19816    |2016-04-07 04:45:21|2016-03-25 00:00:00|\n",
      "|13.657061   |2016-03-30 15:46:10|2016-03-17 00:00:00|\n",
      "|4.532986    |2016-04-05 12:47:30|2016-04-01 00:00:00|\n",
      "+------------+-------------------+-------------------+\n",
      "only showing top 15 rows\n",
      "\n"
     ]
    }
   ],
   "source": [
    "import datetime\n",
    "import time\n",
    "import pyspark.sql.functions as fn\n",
    "\n",
    "data = data.withColumn('lastSeen_sec', fn.unix_timestamp(fn.col('lastSeen'), format='yyyy-MM-dd HH:mm:ss.000'))\n",
    "data = data.withColumn('dateCreated_sec', fn.unix_timestamp(fn.col('dateCreated'), format='yyyy-MM-dd HH:mm:ss.000'))\n",
    "\n",
    "timediffudf = udf(lambda x, y: (x - y) / (86400), FloatType())\n",
    "\n",
    "data = data.withColumn('days_to_sell', timediffudf('lastSeen_sec', 'dateCreated_sec'))\n",
    "\n",
    "data.select(\"days_to_sell\", \"lastSeen\", \"dateCreated\").show(15, truncate=False)"
   ]
  },
  {
   "cell_type": "markdown",
   "metadata": {},
   "source": [
    "Next, we note that we have an attribute called postal code. We note that a field like postal code in itself will not be very useful for a regression model as there will be potentially thousands of postal codes to interpret. We can extract a more meaningful significance of a postal code by taking its first digit and mapping it to one of the 10 regions below. "
   ]
  },
  {
   "cell_type": "markdown",
   "metadata": {},
   "source": [
    "<img src=\"German_postcode_information.png\">"
   ]
  },
  {
   "cell_type": "code",
   "execution_count": 24,
   "metadata": {},
   "outputs": [
    {
     "name": "stdout",
     "output_type": "stream",
     "text": [
      "+------+----------+\n",
      "|region|postalCode|\n",
      "+------+----------+\n",
      "|3     |33775     |\n",
      "|6     |67112     |\n",
      "|9     |96224     |\n",
      "|5     |57290     |\n",
      "|0     |4177      |\n",
      "|8     |88361     |\n",
      "|4     |49565     |\n",
      "|7     |75365     |\n",
      "|6     |68309     |\n",
      "|3     |35390     |\n",
      "|7     |73765     |\n",
      "|5     |53879     |\n",
      "|3     |39179     |\n",
      "|6     |67071     |\n",
      "|1     |10551     |\n",
      "+------+----------+\n",
      "only showing top 15 rows\n",
      "\n"
     ]
    }
   ],
   "source": [
    "import math\n",
    "\n",
    "def get_region(postal_code):\n",
    "    return int(math.floor(postal_code / 10000))\n",
    "\n",
    "region_udf = udf(lambda x: get_region(x), IntegerType())\n",
    "\n",
    "data = data.withColumn('region', region_udf('postalCode'))\n",
    "\n",
    "data.select(\"region\",\"postalCode\").show(15, truncate=False)"
   ]
  },
  {
   "cell_type": "markdown",
   "metadata": {},
   "source": [
    "Now we can drop all of the fields that we no longer need now that we have transformed our original features."
   ]
  },
  {
   "cell_type": "code",
   "execution_count": 25,
   "metadata": {},
   "outputs": [],
   "source": [
    "drop_fields = ['vehicleType', 'model', 'gearbox', 'monthOfRegistration', 'fuelType', 'brand', 'notRepairedDamage', 'dateCreated', 'nrOfPictures', 'postalCode', 'lastSeen', 'dateCreated_sec', 'lastSeen_sec']\n",
    "data = data.drop(*drop_fields)"
   ]
  },
  {
   "cell_type": "code",
   "execution_count": 26,
   "metadata": {},
   "outputs": [],
   "source": [
    "for col in data.columns: #Cast all fields to double\n",
    "  data = data.withColumn(\n",
    "    col,\n",
    "    fn.col(col).cast(\"double\")\n",
    "  )"
   ]
  },
  {
   "cell_type": "code",
   "execution_count": 27,
   "metadata": {},
   "outputs": [
    {
     "name": "stdout",
     "output_type": "stream",
     "text": [
      "root\n",
      " |-- price: double (nullable = true)\n",
      " |-- yearOfRegistration: double (nullable = true)\n",
      " |-- powerPS: double (nullable = true)\n",
      " |-- kilometer: double (nullable = true)\n",
      " |-- gearbox_num: double (nullable = false)\n",
      " |-- vehicleType_num: double (nullable = false)\n",
      " |-- model_num: double (nullable = false)\n",
      " |-- fuelType_num: double (nullable = false)\n",
      " |-- brand_num: double (nullable = false)\n",
      " |-- kilo_per_year: double (nullable = true)\n",
      " |-- days_to_sell: double (nullable = true)\n",
      " |-- region: double (nullable = true)\n",
      "\n"
     ]
    }
   ],
   "source": [
    "data.printSchema()"
   ]
  },
  {
   "cell_type": "markdown",
   "metadata": {},
   "source": [
    "## Feature Elimination"
   ]
  },
  {
   "cell_type": "markdown",
   "metadata": {},
   "source": [
    "Now, we want to see if any of our variables are highly correlated. If we see any high correlations between variables, we may want to remove them. "
   ]
  },
  {
   "cell_type": "code",
   "execution_count": 28,
   "metadata": {},
   "outputs": [],
   "source": [
    "from pyspark.ml.stat import Correlation\n",
    "from pyspark.ml.feature import VectorAssembler\n",
    "\n",
    "# convert to vector column first\n",
    "vector_col = \"corr_features\"\n",
    "assembler = VectorAssembler(inputCols=data.columns, outputCol=vector_col)\n",
    "data_vector = assembler.transform(data).select(vector_col)\n",
    "\n",
    "matrix = Correlation.corr(data_vector, vector_col)"
   ]
  },
  {
   "cell_type": "code",
   "execution_count": 29,
   "metadata": {},
   "outputs": [
    {
     "name": "stdout",
     "output_type": "stream",
     "text": [
      "['price', 'yearOfRegistration', 'powerPS', 'kilometer', 'gearbox_num', 'vehicleType_num', 'model_num', 'fuelType_num', 'brand_num', 'kilo_per_year', 'days_to_sell', 'region']\n"
     ]
    },
    {
     "data": {
      "text/plain": [
       "(12.5, -0.5)"
      ]
     },
     "execution_count": 29,
     "metadata": {},
     "output_type": "execute_result"
    },
    {
     "data": {
      "image/png": "[encoded data removed]",
      "text/plain": [
       "<Figure size 1440x1008 with 2 Axes>"
      ]
     },
     "metadata": {
      "needs_background": "light"
     },
     "output_type": "display_data"
    }
   ],
   "source": [
    "import matplotlib.pyplot as plt\n",
    "import seaborn as sns\n",
    "\n",
    "print(data.columns)\n",
    "\n",
    "# get correlation matrix\n",
    "corrmatrix = matrix.collect()[0][0].toArray().tolist()\n",
    "\n",
    "plt.figure(figsize = (20,14))\n",
    "ax = sns.heatmap(corrmatrix, annot=True) #notation: \"annot\" not \"annote\"\n",
    "bottom, top = ax.get_ylim()\n",
    "ax.set_ylim(bottom + 0.5, top - 0.5)"
   ]
  },
  {
   "cell_type": "markdown",
   "metadata": {},
   "source": [
    "Looking at the plot, we see anything unexpected. We notice that 'yearOfRegistration' and 'kilometer' have a correlation coefficient of -0.47 which is expected for cars with higher kilometer values will very likely have a smaller year of registration. Similarily, we see that 'yearOfRegistration' and 'kilo_per_year' are correlated with a coefficient of 0.52 which also makes sense as newer cars will likely be driven more when they are newer. Regardless of these correlations, the highest magnitude of correlation that was see is 0.52, which seems to indicate that we do not need to remove features because of high correlation with other features."
   ]
  },
  {
   "cell_type": "code",
   "execution_count": 30,
   "metadata": {},
   "outputs": [
    {
     "data": {
      "text/plain": [
       "['price',\n",
       " 'yearOfRegistration',\n",
       " 'powerPS',\n",
       " 'kilometer',\n",
       " 'gearbox_num',\n",
       " 'vehicleType_num',\n",
       " 'model_num',\n",
       " 'fuelType_num',\n",
       " 'brand_num',\n",
       " 'kilo_per_year',\n",
       " 'days_to_sell',\n",
       " 'region']"
      ]
     },
     "execution_count": 30,
     "metadata": {},
     "output_type": "execute_result"
    }
   ],
   "source": [
    "data.columns"
   ]
  },
  {
   "cell_type": "markdown",
   "metadata": {},
   "source": [
    "### Principal Component Analysis"
   ]
  },
  {
   "cell_type": "markdown",
   "metadata": {},
   "source": [
    "Principal Component Analysis or PCA for short, is a very common preprocessing technique in machine learning that involves transforming vectors in our original feature space into a new space where the resulting principal components are very loosely correlated to one another. PCA is especially helpful in regression models, as it helps model stability and allows us to remove variables by simply dropping some of the least significant principal components."
   ]
  },
  {
   "cell_type": "code",
   "execution_count": 31,
   "metadata": {},
   "outputs": [
    {
     "name": "stdout",
     "output_type": "stream",
     "text": [
      "+-------+--------------------+\n",
      "|  price|            features|\n",
      "+-------+--------------------+\n",
      "|  650.0|[1995.0,102.0,150...|\n",
      "| 2200.0|[2004.0,109.0,150...|\n",
      "| 2000.0|[2004.0,105.0,150...|\n",
      "| 2799.0|[2005.0,140.0,150...|\n",
      "|17999.0|[2011.0,190.0,700...|\n",
      "| 7550.0|[2007.0,136.0,150...|\n",
      "| 1850.0|[2004.0,102.0,150...|\n",
      "|10400.0|[2009.0,160.0,100...|\n",
      "| 3699.0|[2002.0,231.0,150...|\n",
      "|  500.0|[1990.0,118.0,150...|\n",
      "| 2500.0|[2002.0,193.0,150...|\n",
      "| 3300.0|[1995.0,113.0,150...|\n",
      "|18000.0|[2007.0,218.0,200...|\n",
      "| 3500.0|[2004.0,122.0,150...|\n",
      "|11900.0|[2002.0,129.0,150...|\n",
      "| 7999.0|[2007.0,177.0,150...|\n",
      "| 2100.0|[1998.0,193.0,150...|\n",
      "|13500.0|[2012.0,109.0,150...|\n",
      "|39600.0|[2014.0,306.0,300...|\n",
      "| 1000.0|[1998.0,101.0,150...|\n",
      "+-------+--------------------+\n",
      "only showing top 20 rows\n",
      "\n"
     ]
    }
   ],
   "source": [
    "from pyspark.ml.feature import VectorAssembler\n",
    "from pyspark.ml.feature import PCA\n",
    "\n",
    "featurecols =  ['yearOfRegistration','powerPS','kilometer','gearbox_num','vehicleType_num','model_num','fuelType_num','brand_num','kilo_per_year','days_to_sell','region']\n",
    "\n",
    "#Create a new dataframe with one field with entries as 10-dimensional vectors\n",
    "assembler = VectorAssembler(inputCols = featurecols, outputCol=\"features\")\n",
    "feature_df = assembler.transform(data).select(\"price\", \"features\")\n",
    "\n",
    "feature_df.show()"
   ]
  },
  {
   "cell_type": "code",
   "execution_count": 32,
   "metadata": {},
   "outputs": [
    {
     "name": "stdout",
     "output_type": "stream",
     "text": [
      "+-------+--------------------+\n",
      "|  price|                 pca|\n",
      "+-------+--------------------+\n",
      "|  650.0|[150141.548236219...|\n",
      "| 2200.0|[150297.975354593...|\n",
      "| 2000.0|[150297.975590730...|\n",
      "| 2799.0|[150329.259738392...|\n",
      "|17999.0|[70335.4848256455...|\n",
      "| 7550.0|[150409.704141528...|\n",
      "| 1850.0|[150297.975941595...|\n",
      "|10400.0|[100351.949732278...|\n",
      "| 3699.0|[150247.500474296...|\n",
      "|  500.0|[150098.883503623...|\n",
      "| 2500.0|[150247.505377367...|\n",
      "| 3300.0|[150141.546042869...|\n",
      "|18000.0|[20054.4791629166...|\n",
      "| 3500.0|[150297.975171230...|\n",
      "|11900.0|[150247.513668057...|\n",
      "| 7999.0|[150409.704320907...|\n",
      "| 2100.0|[150177.635648140...|\n",
      "|13500.0|[150866.812458448...|\n",
      "|39600.0|[30282.9180553003...|\n",
      "| 1000.0|[150177.647343135...|\n",
      "+-------+--------------------+\n",
      "only showing top 20 rows\n",
      "\n"
     ]
    }
   ],
   "source": [
    "pca = PCA(k=9, inputCol=\"features\", outputCol=\"pca\")\n",
    "model = pca.fit(feature_df)\n",
    "transformed = model.transform(feature_df)\n",
    "\n",
    "transformed = transformed.drop(\"features\")\n",
    "\n",
    "transformed.show()"
   ]
  },
  {
   "cell_type": "markdown",
   "metadata": {},
   "source": [
    "Now that we have performed PCA, all we have to do is scale our data."
   ]
  },
  {
   "cell_type": "code",
   "execution_count": 33,
   "metadata": {},
   "outputs": [
    {
     "name": "stdout",
     "output_type": "stream",
     "text": [
      "+-------+--------------------+--------------------+\n",
      "|  price|                 pca|     scaled_features|\n",
      "+-------+--------------------+--------------------+\n",
      "|  650.0|[150141.548236219...|[0.61891010114021...|\n",
      "| 2200.0|[150297.975354593...|[0.62288941085891...|\n",
      "| 2000.0|[150297.975590730...|[0.62288941686594...|\n",
      "| 2799.0|[150329.259738392...|[0.62368524634954...|\n",
      "|17999.0|[70335.4848256455...|[-1.4112560685239...|\n",
      "| 7550.0|[150409.704141528...|[0.62573165108128...|\n",
      "| 1850.0|[150297.975941595...|[0.62288942579151...|\n",
      "|10400.0|[100351.949732278...|[-0.6476748444651...|\n",
      "| 3699.0|[150247.500474296...|[0.62160539320390...|\n",
      "|  500.0|[150098.883503623...|[0.61782476384812...|\n",
      "| 2500.0|[150247.505377367...|[0.62160551793188...|\n",
      "| 3300.0|[150141.546042869...|[0.61891004534414...|\n",
      "|18000.0|[20054.4791629166...|[-2.6903417959830...|\n",
      "| 3500.0|[150297.975171230...|[0.62288940619440...|\n",
      "|11900.0|[150247.513668057...|[0.62160572883664...|\n",
      "| 7999.0|[150409.704320907...|[0.62573165564444...|\n",
      "| 2100.0|[150177.635648140...|[0.61982811964284...|\n",
      "|13500.0|[150866.812458448...|[0.63735991341153...|\n",
      "|39600.0|[30282.9180553003...|[-2.4301431378815...|\n",
      "| 1000.0|[150177.647343135...|[0.61982841714885...|\n",
      "+-------+--------------------+--------------------+\n",
      "only showing top 20 rows\n",
      "\n"
     ]
    }
   ],
   "source": [
    "from pyspark.ml.feature import StandardScaler\n",
    "\n",
    "scaler = StandardScaler(inputCol=\"pca\", outputCol=\"scaled_features\", withStd=True, withMean=True)\n",
    "scaled_df = scaler.fit(transformed).transform(transformed)\n",
    "\n",
    "scaled_df.show()"
   ]
  },
  {
   "cell_type": "code",
   "execution_count": 34,
   "metadata": {},
   "outputs": [],
   "source": [
    "scaled_df = scaled_df.drop('pca')"
   ]
  },
  {
   "cell_type": "markdown",
   "metadata": {},
   "source": [
    "Now that all of our data is scaled we are ready to train our model. "
   ]
  },
  {
   "cell_type": "markdown",
   "metadata": {},
   "source": [
    "# Model"
   ]
  },
  {
   "cell_type": "markdown",
   "metadata": {},
   "source": [
    "Before we begin training our model, we will have to partition our dataset into a training and test set."
   ]
  },
  {
   "cell_type": "code",
   "execution_count": 35,
   "metadata": {},
   "outputs": [
    {
     "name": "stdout",
     "output_type": "stream",
     "text": [
      "Train Data Count: 134988\n",
      "\n",
      "+------+--------------------+\n",
      "|target|            features|\n",
      "+------+--------------------+\n",
      "| 100.0|[0.61842256712042...|\n",
      "| 100.0|[0.61842274042243...|\n",
      "| 100.0|[0.61891004511546...|\n",
      "| 100.0|[0.61982786963507...|\n",
      "| 100.0|[0.61982821237710...|\n",
      "| 100.0|[0.62020067893252...|\n",
      "| 110.0|[0.61918770628866...|\n",
      "| 120.0|[0.61891003236582...|\n",
      "| 120.0|[0.62061547605369...|\n",
      "| 130.0|[0.62061519724214...|\n",
      "| 142.0|[-0.0119745038229...|\n",
      "| 150.0|[-0.0176595646746...|\n",
      "| 150.0|[0.61765288110283...|\n",
      "| 150.0|[0.61890994771979...|\n",
      "| 150.0|[0.61918770901470...|\n",
      "| 150.0|[0.61949192467952...|\n",
      "| 150.0|[0.61949240434759...|\n",
      "| 150.0|[0.61949245716458...|\n",
      "| 150.0|[0.61982763873771...|\n",
      "| 150.0|[0.61982831775471...|\n",
      "+------+--------------------+\n",
      "only showing top 20 rows\n",
      "\n",
      "Test Data Count: 33782\n",
      "\n",
      "+------+--------------------+\n",
      "|target|            features|\n",
      "+------+--------------------+\n",
      "| 125.0|[0.61982838306119...|\n",
      "| 125.0|[0.62020069559680...|\n",
      "| 130.0|[0.61890959265764...|\n",
      "| 150.0|[0.61765344271044...|\n",
      "| 150.0|[0.61918735865376...|\n",
      "| 150.0|[0.61949200150908...|\n",
      "| 150.0|[0.61982786970575...|\n",
      "| 160.0|[0.62020056892195...|\n",
      "| 180.0|[0.61949241446822...|\n",
      "| 199.0|[0.61891007854000...|\n",
      "| 199.0|[0.61949230874895...|\n",
      "| 200.0|[0.61949231398744...|\n",
      "| 200.0|[0.61949240312712...|\n",
      "| 200.0|[0.62108065739271...|\n",
      "| 200.0|[0.62220304377652...|\n",
      "| 200.0|[0.62368522121493...|\n",
      "| 240.0|[0.61918765406137...|\n",
      "| 250.0|[-2.6912848741180...|\n",
      "| 250.0|[0.61842276772323...|\n",
      "| 250.0|[0.61891009851498...|\n",
      "+------+--------------------+\n",
      "only showing top 20 rows\n",
      "\n"
     ]
    }
   ],
   "source": [
    "train_data, test_data = scaled_df.withColumnRenamed(\"price\", \"target\").withColumnRenamed(\"scaled_features\", \"features\") \\\n",
    ".randomSplit([.8,.2],seed=4710)\n",
    "\n",
    "print('Train Data Count: {0}\\n'.format(train_data.count()))\n",
    "train_data.show()\n",
    "print('Test Data Count: {0}\\n'.format(test_data.count()))\n",
    "test_data.show()"
   ]
  },
  {
   "cell_type": "markdown",
   "metadata": {},
   "source": [
    "Good, now we are ready to train our base models for our ensemble model."
   ]
  },
  {
   "cell_type": "markdown",
   "metadata": {},
   "source": [
    "### Linear Regression"
   ]
  },
  {
   "cell_type": "code",
   "execution_count": 36,
   "metadata": {},
   "outputs": [],
   "source": [
    "from pyspark.ml.regression import LinearRegression\n",
    "\n",
    "lr = LinearRegression(labelCol=\"target\", predictionCol=\"lr_predict\", maxIter=25, regParam=0.3, elasticNetParam=0.8)\n",
    "\n",
    "linearModel = lr.fit(train_data)"
   ]
  },
  {
   "cell_type": "code",
   "execution_count": 37,
   "metadata": {},
   "outputs": [
    {
     "name": "stdout",
     "output_type": "stream",
     "text": [
      "+------------------+-------+\n",
      "|        lr_predict| target|\n",
      "+------------------+-------+\n",
      "|28302.671083307083|24599.0|\n",
      "| 1514.809213885187|  699.0|\n",
      "|  6126.20088399238| 6500.0|\n",
      "| 1661.195527555199| 1500.0|\n",
      "| 5845.827195139806| 4750.0|\n",
      "+------------------+-------+\n",
      "\n"
     ]
    }
   ],
   "source": [
    "from pyspark.sql.functions import rand\n",
    "\n",
    "lrpredictions = linearModel.transform(test_data)\n",
    "\n",
    "lrpredictions.select(\"lr_predict\", \"target\").orderBy(rand(4710)).limit(5).show()"
   ]
  },
  {
   "cell_type": "code",
   "execution_count": 38,
   "metadata": {},
   "outputs": [
    {
     "name": "stdout",
     "output_type": "stream",
     "text": [
      "RMSE: 6555.498258514978\n",
      "\n"
     ]
    }
   ],
   "source": [
    "from pyspark.ml.evaluation import RegressionEvaluator\n",
    "\n",
    "evaluator = RegressionEvaluator(labelCol=\"target\", predictionCol=\"lr_predict\", metricName=\"rmse\")\n",
    "rmse = evaluator.evaluate(lrpredictions)\n",
    "print(\"RMSE: {0}\\n\".format(rmse))"
   ]
  },
  {
   "cell_type": "markdown",
   "metadata": {},
   "source": [
    "### Decision Tree"
   ]
  },
  {
   "cell_type": "code",
   "execution_count": 39,
   "metadata": {},
   "outputs": [],
   "source": [
    "from pyspark.ml.regression import DecisionTreeRegressor\n",
    "\n",
    "dtr = DecisionTreeRegressor(labelCol=\"target\", predictionCol=\"dtr_predict\")\n",
    "\n",
    "decisionTreeModel = dtr.fit(train_data)"
   ]
  },
  {
   "cell_type": "code",
   "execution_count": 40,
   "metadata": {},
   "outputs": [
    {
     "name": "stdout",
     "output_type": "stream",
     "text": [
      "+------------------+-------+\n",
      "|       dtr_predict| target|\n",
      "+------------------+-------+\n",
      "| 25982.76634512326|24599.0|\n",
      "|2642.6405640883627|  699.0|\n",
      "| 8627.057280513918| 6500.0|\n",
      "|2642.6405640883627| 1500.0|\n",
      "| 4641.397741122938| 4750.0|\n",
      "+------------------+-------+\n",
      "\n"
     ]
    }
   ],
   "source": [
    "dtrpredictions = decisionTreeModel.transform(test_data)\n",
    "\n",
    "dtrpredictions.select(\"dtr_predict\", \"target\").orderBy(rand(4710)).limit(5).show()"
   ]
  },
  {
   "cell_type": "code",
   "execution_count": 41,
   "metadata": {},
   "outputs": [
    {
     "name": "stdout",
     "output_type": "stream",
     "text": [
      "RMSE: 6164.796947523208\n",
      "\n"
     ]
    }
   ],
   "source": [
    "evaluator = RegressionEvaluator(labelCol=\"target\", predictionCol=\"dtr_predict\", metricName=\"rmse\")\n",
    "rmse = evaluator.evaluate(dtrpredictions)\n",
    "print(\"RMSE: {0}\\n\".format(rmse))"
   ]
  },
  {
   "cell_type": "markdown",
   "metadata": {},
   "source": [
    "### Random Forest"
   ]
  },
  {
   "cell_type": "code",
   "execution_count": 42,
   "metadata": {},
   "outputs": [],
   "source": [
    "from pyspark.ml.regression import RandomForestRegressor\n",
    "\n",
    "rfr = RandomForestRegressor(labelCol=\"target\", predictionCol=\"rfr_predict\")\n",
    "\n",
    "randomForestmodel = rfr.fit(train_data)"
   ]
  },
  {
   "cell_type": "code",
   "execution_count": 43,
   "metadata": {},
   "outputs": [
    {
     "name": "stdout",
     "output_type": "stream",
     "text": [
      "+------------------+-------+\n",
      "|       rfr_predict| target|\n",
      "+------------------+-------+\n",
      "|21187.655684091515|24599.0|\n",
      "|3005.4787004800205|  699.0|\n",
      "|11245.997856142189| 6500.0|\n",
      "|3333.9186032982375| 1500.0|\n",
      "| 4544.312602900936| 4750.0|\n",
      "+------------------+-------+\n",
      "\n"
     ]
    }
   ],
   "source": [
    "rfrpredictions = randomForestmodel.transform(test_data)\n",
    "\n",
    "rfrpredictions.select(\"rfr_predict\", \"target\").orderBy(rand(4710)).limit(5).show()"
   ]
  },
  {
   "cell_type": "code",
   "execution_count": 44,
   "metadata": {},
   "outputs": [
    {
     "name": "stdout",
     "output_type": "stream",
     "text": [
      "RMSE: 6097.008203518464\n",
      "\n"
     ]
    }
   ],
   "source": [
    "evaluator = RegressionEvaluator(labelCol=\"target\", predictionCol=\"rfr_predict\", metricName=\"rmse\")\n",
    "rmse = evaluator.evaluate(rfrpredictions)\n",
    "print(\"RMSE: {0}\\n\".format(rmse))"
   ]
  },
  {
   "cell_type": "markdown",
   "metadata": {},
   "source": [
    "### Gradient-boosted Tree Regression"
   ]
  },
  {
   "cell_type": "code",
   "execution_count": 45,
   "metadata": {},
   "outputs": [],
   "source": [
    "from pyspark.ml.regression import GBTRegressor\n",
    "\n",
    "gbt = GBTRegressor(labelCol=\"target\", predictionCol=\"gbt_predict\")\n",
    "\n",
    "GBTModel = gbt.fit(train_data)"
   ]
  },
  {
   "cell_type": "code",
   "execution_count": 46,
   "metadata": {},
   "outputs": [
    {
     "name": "stdout",
     "output_type": "stream",
     "text": [
      "+------------------+-------+\n",
      "|       gbt_predict| target|\n",
      "+------------------+-------+\n",
      "|25664.808925960424|24599.0|\n",
      "| 919.6709761207712|  699.0|\n",
      "| 8575.522904300924| 6500.0|\n",
      "| 2090.374700681874| 1500.0|\n",
      "| 6845.998879542976| 4750.0|\n",
      "+------------------+-------+\n",
      "\n"
     ]
    }
   ],
   "source": [
    "gbtpredictions = GBTModel.transform(test_data)\n",
    "\n",
    "gbtpredictions.select(\"gbt_predict\", \"target\").orderBy(rand(4710)).limit(5).show()"
   ]
  },
  {
   "cell_type": "code",
   "execution_count": 47,
   "metadata": {},
   "outputs": [
    {
     "name": "stdout",
     "output_type": "stream",
     "text": [
      "RMSE: 5226.355239470327\n",
      "\n"
     ]
    }
   ],
   "source": [
    "evaluator = RegressionEvaluator(labelCol=\"target\", predictionCol=\"gbt_predict\", metricName=\"rmse\")\n",
    "rmse = evaluator.evaluate(gbtpredictions)\n",
    "print(\"RMSE: {0}\\n\".format(rmse))"
   ]
  },
  {
   "cell_type": "markdown",
   "metadata": {},
   "source": [
    "It seems like our gradient-boosted tree regression algorithm performed the best, thus we will use that as our meta learner."
   ]
  },
  {
   "cell_type": "markdown",
   "metadata": {},
   "source": [
    "## Ensemble Model"
   ]
  },
  {
   "cell_type": "code",
   "execution_count": 49,
   "metadata": {},
   "outputs": [
    {
     "name": "stdout",
     "output_type": "stream",
     "text": [
      "+-------------------+------------------+------------------+------------------+\n",
      "|         lr_predict|       dtr_predict|       rfr_predict|       gbt_predict|\n",
      "+-------------------+------------------+------------------+------------------+\n",
      "|  4236.875456254361| 4641.397741122938| 3900.590193120879| 3444.447155043921|\n",
      "| 2635.3744162977364|2642.6405640883627|4082.0373285176283| 3242.924885739176|\n",
      "| -1673.357293319039|2642.6405640883627| 2887.804457169167|1376.4205828079134|\n",
      "|  685.1902419940798|2642.6405640883627|3469.2527453335424|1463.7661987793563|\n",
      "|  230.3951929964751|2642.6405640883627| 3772.845222149571|1862.9970067304273|\n",
      "|  4378.603108042462|2642.6405640883627| 4069.067709047407|  4627.50870972966|\n",
      "| -919.9674778339922|2642.6405640883627| 2887.804457169167|1264.7530698311944|\n",
      "|  4519.538895161679| 4641.397741122938|4008.1845141922918|3981.2507336172866|\n",
      "|-1498.4488268838613|2642.6405640883627| 2887.804457169167|1148.2035838192264|\n",
      "|  5619.222053768606|2642.6405640883627|3692.1918782135995| 2638.989016218175|\n",
      "| 1697.9171551311902|2642.6405640883627| 3286.937605602319|1021.3341796320038|\n",
      "| -547.9956499445998|2642.6405640883627| 2994.291983447591|1016.0675859169772|\n",
      "|  8247.629490576128| 5665.371636593859| 9373.511064257867|2916.4936381569833|\n",
      "|  3221.594929781859|2642.6405640883627| 3637.244603304898| 2782.002311232086|\n",
      "| 2759.5879866167243|2642.6405640883627| 2994.291983447591|  2469.26467470104|\n",
      "|  1692.559776820719|2642.6405640883627|3469.2527453335424|1741.7933450221426|\n",
      "| 3334.2669074034475|2642.6405640883627| 2898.991174201596|1979.9258293419175|\n",
      "| 10532.004146379537| 6091.476047904192| 8883.951272051832|3910.4892503945075|\n",
      "| -711.8063749482772|2642.6405640883627| 2887.804457169167|1467.5021112007353|\n",
      "| 2436.1915341588247|2642.6405640883627|3469.2527453335424| 844.6480173389264|\n",
      "+-------------------+------------------+------------------+------------------+\n",
      "only showing top 20 rows\n",
      "\n",
      "+--------------------+\n",
      "|   features_combined|\n",
      "+--------------------+\n",
      "|[4236.87545625436...|\n",
      "|[2635.37441629773...|\n",
      "|[-1673.3572933190...|\n",
      "|[685.190241994079...|\n",
      "|[230.395192996475...|\n",
      "|[4378.60310804246...|\n",
      "|[-919.96747783399...|\n",
      "|[4519.53889516167...|\n",
      "|[-1498.4488268838...|\n",
      "|[5619.22205376860...|\n",
      "|[1697.91715513119...|\n",
      "|[-547.99564994459...|\n",
      "|[8247.62949057612...|\n",
      "|[3221.59492978185...|\n",
      "|[2759.58798661672...|\n",
      "|[1692.55977682071...|\n",
      "|[3334.26690740344...|\n",
      "|[10532.0041463795...|\n",
      "|[-711.80637494827...|\n",
      "|[2436.19153415882...|\n",
      "+--------------------+\n",
      "only showing top 20 rows\n",
      "\n"
     ]
    }
   ],
   "source": [
    "from pyspark.sql.functions import monotonically_increasing_id\n",
    "\n",
    "metaRegressor = GBTRegressor(featuresCol = \"features_combined\", labelCol=\"target\", predictionCol=\"meta_predict\")\n",
    "\n",
    "lroutput = linearModel.transform(train_data).select(\"lr_predict\").withColumn(\"id\", monotonically_increasing_id())\n",
    "dtroutput = decisionTreeModel.transform(train_data).select(\"dtr_predict\").withColumn(\"id\", monotonically_increasing_id())\n",
    "rfroutput = randomForestmodel.transform(train_data).select(\"rfr_predict\").withColumn(\"id\", monotonically_increasing_id())\n",
    "gbtoutput = GBTModel.transform(train_data).select(\"gbt_predict\").withColumn(\"id\", monotonically_increasing_id())\n",
    "\n",
    "combined_output = lroutput.join(dtroutput.join(rfroutput.join(gbtoutput, \"id\", \"outer\"), \"id\", \"outer\"), \"id\", \"outer\").drop(\"id\")\n",
    "\n",
    "combined_output.show()\n",
    "\n",
    "assembler = VectorAssembler(inputCols = combined_output.columns, outputCol=\"features_combined\")\n",
    "combined_output = assembler.transform(combined_output).select(\"features_combined\")\n",
    "\n",
    "combined_output.show()"
   ]
  },
  {
   "cell_type": "code",
   "execution_count": 50,
   "metadata": {},
   "outputs": [
    {
     "name": "stdout",
     "output_type": "stream",
     "text": [
      "+--------------------+---+\n",
      "|   features_combined| id|\n",
      "+--------------------+---+\n",
      "|[4236.87545625436...|  0|\n",
      "|[2635.37441629773...|  1|\n",
      "|[-1673.3572933190...|  2|\n",
      "|[685.190241994079...|  3|\n",
      "|[230.395192996475...|  4|\n",
      "|[4378.60310804246...|  5|\n",
      "|[-919.96747783399...|  6|\n",
      "|[4519.53889516167...|  7|\n",
      "|[-1498.4488268838...|  8|\n",
      "|[5619.22205376860...|  9|\n",
      "|[1697.91715513119...| 10|\n",
      "|[-547.99564994459...| 11|\n",
      "|[8247.62949057612...| 12|\n",
      "|[3221.59492978185...| 13|\n",
      "|[2759.58798661672...| 14|\n",
      "|[1692.55977682071...| 15|\n",
      "|[3334.26690740344...| 16|\n",
      "|[10532.0041463795...| 17|\n",
      "|[-711.80637494827...| 18|\n",
      "|[2436.19153415882...| 19|\n",
      "+--------------------+---+\n",
      "only showing top 20 rows\n",
      "\n",
      "+------+---+\n",
      "|target| id|\n",
      "+------+---+\n",
      "| 100.0|  0|\n",
      "| 100.0|  1|\n",
      "| 100.0|  2|\n",
      "| 100.0|  3|\n",
      "| 100.0|  4|\n",
      "| 100.0|  5|\n",
      "| 110.0|  6|\n",
      "| 120.0|  7|\n",
      "| 120.0|  8|\n",
      "| 130.0|  9|\n",
      "| 142.0| 10|\n",
      "| 150.0| 11|\n",
      "| 150.0| 12|\n",
      "| 150.0| 13|\n",
      "| 150.0| 14|\n",
      "| 150.0| 15|\n",
      "| 150.0| 16|\n",
      "| 150.0| 17|\n",
      "| 150.0| 18|\n",
      "| 150.0| 19|\n",
      "+------+---+\n",
      "only showing top 20 rows\n",
      "\n"
     ]
    }
   ],
   "source": [
    "combined_output = combined_output.withColumn(\"id\", monotonically_increasing_id())\n",
    "\n",
    "labels = train_data.select(\"target\").withColumn(\"id\", monotonically_increasing_id())\n",
    "\n",
    "combined_output.show()\n",
    "labels.show()"
   ]
  },
  {
   "cell_type": "code",
   "execution_count": 51,
   "metadata": {},
   "outputs": [
    {
     "name": "stdout",
     "output_type": "stream",
     "text": [
      "+------+--------------------+\n",
      "|target|   features_combined|\n",
      "+------+--------------------+\n",
      "| 100.0|[4236.87545625436...|\n",
      "| 100.0|[2635.37441629773...|\n",
      "| 100.0|[-1673.3572933190...|\n",
      "| 100.0|[685.190241994079...|\n",
      "| 100.0|[230.395192996475...|\n",
      "| 100.0|[4378.60310804246...|\n",
      "| 110.0|[-919.96747783399...|\n",
      "| 120.0|[4519.53889516167...|\n",
      "| 120.0|[-1498.4488268838...|\n",
      "| 130.0|[5619.22205376860...|\n",
      "| 142.0|[1697.91715513119...|\n",
      "| 150.0|[-547.99564994459...|\n",
      "| 150.0|[8247.62949057612...|\n",
      "| 150.0|[3221.59492978185...|\n",
      "| 150.0|[2759.58798661672...|\n",
      "| 150.0|[1692.55977682071...|\n",
      "| 150.0|[3334.26690740344...|\n",
      "| 150.0|[10532.0041463795...|\n",
      "| 150.0|[-711.80637494827...|\n",
      "| 150.0|[2436.19153415882...|\n",
      "+------+--------------------+\n",
      "only showing top 20 rows\n",
      "\n"
     ]
    }
   ],
   "source": [
    "new_out = labels.join(combined_output, labels.id==combined_output.id).drop(\"id\")\n",
    "\n",
    "new_out.show()"
   ]
  },
  {
   "cell_type": "code",
   "execution_count": 52,
   "metadata": {},
   "outputs": [],
   "source": [
    "metamodel = metaRegressor.fit(new_out)"
   ]
  },
  {
   "cell_type": "code",
   "execution_count": 53,
   "metadata": {},
   "outputs": [
    {
     "name": "stdout",
     "output_type": "stream",
     "text": [
      "+-------+--------------------+\n",
      "| target|            features|\n",
      "+-------+--------------------+\n",
      "|11300.0|[-0.8977866003295...|\n",
      "| 7600.0|[-0.0108526921640...|\n",
      "|19900.0|[-0.0054152641471...|\n",
      "| 4200.0|[0.62573182345239...|\n",
      "| 2500.0|[0.62019987258931...|\n",
      "+-------+--------------------+\n",
      "\n"
     ]
    }
   ],
   "source": [
    "train_data.orderBy(rand(4710)).limit(5).show()"
   ]
  },
  {
   "cell_type": "code",
   "execution_count": 54,
   "metadata": {},
   "outputs": [
    {
     "name": "stdout",
     "output_type": "stream",
     "text": [
      "+--------------------+---+\n",
      "|   features_combined| id|\n",
      "+--------------------+---+\n",
      "|[4236.87545625436...|  0|\n",
      "|[2635.37441629773...|  1|\n",
      "|[-1673.3572933190...|  2|\n",
      "|[685.190241994079...|  3|\n",
      "|[230.395192996475...|  4|\n",
      "|[4378.60310804246...|  5|\n",
      "|[-919.96747783399...|  6|\n",
      "|[4519.53889516167...|  7|\n",
      "|[-1498.4488268838...|  8|\n",
      "|[5619.22205376860...|  9|\n",
      "|[1697.91715513119...| 10|\n",
      "|[-547.99564994459...| 11|\n",
      "|[8247.62949057612...| 12|\n",
      "|[3221.59492978185...| 13|\n",
      "|[2759.58798661672...| 14|\n",
      "|[1692.55977682071...| 15|\n",
      "|[3334.26690740344...| 16|\n",
      "|[10532.0041463795...| 17|\n",
      "|[-711.80637494827...| 18|\n",
      "|[2436.19153415882...| 19|\n",
      "+--------------------+---+\n",
      "only showing top 20 rows\n",
      "\n",
      "+--------------------+---+\n",
      "|   features_combined| id|\n",
      "+--------------------+---+\n",
      "|[4236.87545625436...|  0|\n",
      "|[2635.37441629773...|  1|\n",
      "|[-1673.3572933190...|  2|\n",
      "|[685.190241994079...|  3|\n",
      "|[230.395192996475...|  4|\n",
      "|[4378.60310804246...|  5|\n",
      "|[-919.96747783399...|  6|\n",
      "|[4519.53889516167...|  7|\n",
      "|[-1498.4488268838...|  8|\n",
      "|[5619.22205376860...|  9|\n",
      "|[1697.91715513119...| 10|\n",
      "|[-547.99564994459...| 11|\n",
      "|[8247.62949057612...| 12|\n",
      "|[3221.59492978185...| 13|\n",
      "|[2759.58798661672...| 14|\n",
      "|[1692.55977682071...| 15|\n",
      "|[3334.26690740344...| 16|\n",
      "|[10532.0041463795...| 17|\n",
      "|[-711.80637494827...| 18|\n",
      "|[2436.19153415882...| 19|\n",
      "+--------------------+---+\n",
      "only showing top 20 rows\n",
      "\n",
      "+------+---+\n",
      "|target| id|\n",
      "+------+---+\n",
      "| 100.0|  0|\n",
      "| 100.0|  1|\n",
      "| 100.0|  2|\n",
      "| 100.0|  3|\n",
      "| 100.0|  4|\n",
      "| 100.0|  5|\n",
      "| 110.0|  6|\n",
      "| 120.0|  7|\n",
      "| 120.0|  8|\n",
      "| 130.0|  9|\n",
      "| 142.0| 10|\n",
      "| 150.0| 11|\n",
      "| 150.0| 12|\n",
      "| 150.0| 13|\n",
      "| 150.0| 14|\n",
      "| 150.0| 15|\n",
      "| 150.0| 16|\n",
      "| 150.0| 17|\n",
      "| 150.0| 18|\n",
      "| 150.0| 19|\n",
      "+------+---+\n",
      "only showing top 20 rows\n",
      "\n"
     ]
    }
   ],
   "source": [
    "lroutput_test = linearModel.transform(test_data).select(\"lr_predict\").withColumn(\"id\", monotonically_increasing_id())\n",
    "dtroutput_test = decisionTreeModel.transform(test_data).select(\"dtr_predict\").withColumn(\"id\", monotonically_increasing_id())\n",
    "rfroutput_test = randomForestmodel.transform(test_data).select(\"rfr_predict\").withColumn(\"id\", monotonically_increasing_id())\n",
    "gbtoutput_test = GBTModel.transform(test_data).select(\"gbt_predict\").withColumn(\"id\", monotonically_increasing_id())\n",
    "\n",
    "combined_output_test = lroutput_test.join(dtroutput_test.join(rfroutput_test.join(gbtoutput_test, \"id\", \"outer\"), \"id\", \"outer\"), \"id\", \"outer\").drop(\"id\")\n",
    "\n",
    "combined_output.show()\n",
    "\n",
    "assembler = VectorAssembler(inputCols = combined_output_test.columns, outputCol=\"features_combined\")\n",
    "combined_output_test = assembler.transform(combined_output_test).select(\"features_combined\")\n",
    "\n",
    "combined_output_test = combined_output_test.withColumn(\"id\", monotonically_increasing_id())\n",
    "\n",
    "test_labels = test_data.select(\"target\").withColumn(\"id\", monotonically_increasing_id())\n",
    "\n",
    "combined_output.show()\n",
    "labels.show()"
   ]
  },
  {
   "cell_type": "code",
   "execution_count": 55,
   "metadata": {},
   "outputs": [
    {
     "name": "stdout",
     "output_type": "stream",
     "text": [
      "+------+--------------------+\n",
      "|target|   features_combined|\n",
      "+------+--------------------+\n",
      "| 125.0|[216.549563502756...|\n",
      "| 125.0|[-1546.1295954926...|\n",
      "| 130.0|[108.226344447870...|\n",
      "| 150.0|[952.038733033025...|\n",
      "| 150.0|[-179.28578501245...|\n",
      "| 150.0|[5395.54887248581...|\n",
      "| 150.0|[2034.70360916332...|\n",
      "| 160.0|[5304.62681188061...|\n",
      "| 180.0|[6934.37375913049...|\n",
      "| 199.0|[8507.89337775702...|\n",
      "| 199.0|[4658.27258397421...|\n",
      "| 200.0|[4598.81760090131...|\n",
      "| 200.0|[10731.8287230485...|\n",
      "| 200.0|[10285.8412362235...|\n",
      "| 200.0|[5149.21590696903...|\n",
      "| 200.0|[8226.60852501558...|\n",
      "| 240.0|[7544.98080946799...|\n",
      "| 250.0|[8843.53936310183...|\n",
      "| 250.0|[16544.7229291292...|\n",
      "| 250.0|[11689.4473202395...|\n",
      "+------+--------------------+\n",
      "only showing top 20 rows\n",
      "\n"
     ]
    }
   ],
   "source": [
    "new_test_out = test_labels.join(combined_output_test, test_labels.id==combined_output_test.id).drop(\"id\")\n",
    "\n",
    "new_test_out.show()"
   ]
  },
  {
   "cell_type": "code",
   "execution_count": 56,
   "metadata": {},
   "outputs": [
    {
     "name": "stdout",
     "output_type": "stream",
     "text": [
      "+------------------+------+\n",
      "|      meta_predict|target|\n",
      "+------------------+------+\n",
      "| 373.3654855166474| 500.0|\n",
      "| 342.5614894194632| 192.0|\n",
      "| 284.7518058789584| 100.0|\n",
      "|430.76469446890883| 180.0|\n",
      "|254.53208443959397| 300.0|\n",
      "+------------------+------+\n",
      "\n"
     ]
    }
   ],
   "source": [
    "metapredictions = metamodel.transform(new_test_out)\n",
    "\n",
    "metapredictions.select(\"meta_predict\", \"target\").orderBy(rand(4710)).limit(5).show()"
   ]
  },
  {
   "cell_type": "code",
   "execution_count": 57,
   "metadata": {},
   "outputs": [
    {
     "name": "stdout",
     "output_type": "stream",
     "text": [
      "RMSE: 118.6669872561115\n",
      "\n"
     ]
    }
   ],
   "source": [
    "evaluator = RegressionEvaluator(labelCol=\"target\", predictionCol=\"meta_predict\", metricName=\"rmse\")\n",
    "rmse = evaluator.evaluate(metapredictions)\n",
    "print(\"RMSE: {0}\\n\".format(rmse))"
   ]
  },
  {
   "cell_type": "code",
   "execution_count": null,
   "metadata": {},
   "outputs": [],
   "source": []
  }
 ],
 "metadata": {
  "kernelspec": {
   "display_name": "Python 3",
   "language": "python",
   "name": "python3"
  },
  "language_info": {
   "codemirror_mode": {
    "name": "ipython",
    "version": 3
   },
   "file_extension": ".py",
   "mimetype": "text/x-python",
   "name": "python",
   "nbconvert_exporter": "python",
   "pygments_lexer": "ipython3",
   "version": "3.7.3"
  }
 },
 "nbformat": 4,
 "nbformat_minor": 4
}
