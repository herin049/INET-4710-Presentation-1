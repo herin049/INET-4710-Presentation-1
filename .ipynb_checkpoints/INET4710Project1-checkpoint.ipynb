{
 "cells": [
  {
   "cell_type": "markdown",
   "metadata": {},
   "source": [
    "<h1 align='center'>INET 4710</h1>\n",
    "\n",
    "<h4 align='center'>Project 1 $\\mid$ Lukas Hering</h4>"
   ]
  },
  {
   "cell_type": "markdown",
   "metadata": {},
   "source": [
    "# Overview"
   ]
  },
  {
   "cell_type": "markdown",
   "metadata": {},
   "source": [
    "<img src=\"used-car.jpg\">"
   ]
  },
  {
   "cell_type": "markdown",
   "metadata": {},
   "source": [
    "In this project, we are presented with some data and a business problem. Our goal is to provide a solution to our business problem while using the spark framework.\n",
    "\n",
    "\n",
    "#### The Dataset\n",
    "\n",
    "The dataset that we are provided with is the \"Used Cars Database\" scraped from Ebay Kleinanzeigen in Germany. The dataset contains a collection of over 370,000 used cars with a list of fields. The fields for our dataset include dateCrawled, name of the care, sellect, model of the car, kilometers the car has driven etc.\n",
    "\n",
    "#### Business Problem\n",
    "\n",
    "\n",
    "Our business problem is to predict how much a used car should be valued at, given relavent information such as the name of the car, the type of seller, offer type, how many kilometers the car has driven, etc. \n",
    "\n",
    "#### Main Object\n",
    "\n",
    "The main objective for this project, is to build an efficient and effective model that is able to predict the sale price of a used vehicle. With our model, we will able to provide eBay or other car dealerships an efficient algorithm to predict the price a used car should be sold at in order to maximize the profit and to minimize time spent evaluating the price of a vehicle.\n",
    "\n",
    "To achieve our main objective, we will be creating an ensemble model consisting multiple types of linnear regression models includeing Lasso regression, ridge regression and elastic net regression and tree based alagorithms. \n",
    "\n"
   ]
  },
  {
   "cell_type": "markdown",
   "metadata": {},
   "source": [
    "# Exploratory Data Analysis"
   ]
  },
  {
   "cell_type": "code",
   "execution_count": 2,
   "metadata": {},
   "outputs": [],
   "source": [
    "from pyspark.sql import SparkSession\n",
    "spark = SparkSession.builder.master(\"local[*]\").appName(\"Learning_Spark\").getOrCreate()"
   ]
  },
  {
   "cell_type": "code",
   "execution_count": null,
   "metadata": {},
   "outputs": [],
   "source": [
    "data = spark.read.csv('.csv',inferSchema=True, header=True)"
   ]
  }
 ],
 "metadata": {
  "kernelspec": {
   "display_name": "Python 3",
   "language": "python",
   "name": "python3"
  },
  "language_info": {
   "codemirror_mode": {
    "name": "ipython",
    "version": 3
   },
   "file_extension": ".py",
   "mimetype": "text/x-python",
   "name": "python",
   "nbconvert_exporter": "python",
   "pygments_lexer": "ipython3",
   "version": "3.7.6"
  }
 },
 "nbformat": 4,
 "nbformat_minor": 4
}
